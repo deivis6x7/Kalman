{
 "cells": [
  {
   "cell_type": "markdown",
   "id": "cb8f630e",
   "metadata": {},
   "source": [
    "# Extended Kalman Filter (EKF)"
   ]
  },
  {
   "cell_type": "markdown",
   "id": "5fa22096",
   "metadata": {},
   "source": [
    "## Requisitos"
   ]
  },
  {
   "cell_type": "code",
   "execution_count": 21,
   "id": "89316154",
   "metadata": {},
   "outputs": [],
   "source": [
    "import pandas as pd\n",
    "import numpy as np\n",
    "\n",
    "import scipy\n",
    "import scipy.linalg\n",
    "from scipy import stats\n",
    "from scipy.stats import norm\n",
    "\n",
    "import sympy\n",
    "from sympy import init_printing\n",
    "from sympy.utilities.codegen import codegen\n",
    "from sympy import Symbol, symbols, Matrix, sin, cos\n",
    "\n",
    "import webbrowser #hiperlink\n",
    "import matplotlib.dates as mdates\n",
    "import matplotlib.pyplot as plt\n",
    "init_printing(use_latex=True)"
   ]
  },
  {
   "cell_type": "markdown",
   "id": "293fc247",
   "metadata": {},
   "source": [
    "## Projeto das estimativas iniciais"
   ]
  },
  {
   "cell_type": "markdown",
   "id": "8a824dcb",
   "metadata": {},
   "source": [
    "### Vetor de estados de entrada"
   ]
  },
  {
   "cell_type": "markdown",
   "id": "86999cf2",
   "metadata": {},
   "source": [
    "$$ \\mathbf{x}_{k-1} = \\begin{bmatrix} x \\\\ y \\\\ \\theta \\end{bmatrix} = \\begin{bmatrix} \\text{Posição X} \\\\ \\text{Posição Y} \\\\ \\text{Heading} \\end{bmatrix} $$"
   ]
  },
  {
   "cell_type": "markdown",
   "id": "181c6ac2",
   "metadata": {},
   "source": [
    "### Vetor de controle de entrada"
   ]
  },
  {
   "cell_type": "markdown",
   "id": "3243a616",
   "metadata": {},
   "source": [
    "Sua inserção nas equações depende da origem do problema."
   ]
  },
  {
   "cell_type": "markdown",
   "id": "11c75aca",
   "metadata": {},
   "source": [
    "Comentário(s): (investigar se é necessário no caso de veículos autônomos)"
   ]
  },
  {
   "cell_type": "markdown",
   "id": "e64c7a75",
   "metadata": {},
   "source": [
    "$$ \\mathbf{u}_{k} = \\begin{bmatrix} v \\\\ \\psi \\end{bmatrix} = \\begin{bmatrix} \\text{Velocidade} \\\\ \\text{Yaw Rate} \\end{bmatrix} $$"
   ]
  },
  {
   "cell_type": "markdown",
   "id": "315d2c4f",
   "metadata": {},
   "source": [
    "## Sistema não-linear dinâmico a ser rastreado"
   ]
  },
  {
   "cell_type": "markdown",
   "id": "546e9071",
   "metadata": {},
   "source": [
    "$$ \\mathbf{x}_{k} = \\mathbf{f}(\\mathbf{x}_{k-1}, \\mathbf{u}_k) + w_k + \\tau_k $$"
   ]
  },
  {
   "cell_type": "markdown",
   "id": "8c11f36c",
   "metadata": {},
   "source": [
    "### Ruído nos vetores de estado e controle"
   ]
  },
  {
   "cell_type": "markdown",
   "id": "aac4fce4",
   "metadata": {},
   "source": [
    "Os ruídos são variáveis aleatórias com normal de média nula, visto que a influência dos ruídos é filtrada pelas covariâncias."
   ]
  },
  {
   "cell_type": "markdown",
   "id": "46536333",
   "metadata": {},
   "source": [
    "Comentário(s): (verificar se pode ser otimizado, mas aparentemente é a solução estocástica ótima)"
   ]
  },
  {
   "cell_type": "markdown",
   "id": "23c058fd",
   "metadata": {},
   "source": [
    "$$ w_k = \\mathcal{N}(0, Q) $$"
   ]
  },
  {
   "cell_type": "markdown",
   "id": "99193830",
   "metadata": {},
   "source": [
    "$$ \\tau_k = \\mathcal{N}(0, M) $$"
   ]
  },
  {
   "cell_type": "markdown",
   "id": "84fc2466",
   "metadata": {},
   "source": [
    "## Sistema linearizado por série de Taylor"
   ]
  },
  {
   "cell_type": "markdown",
   "id": "57c96093",
   "metadata": {},
   "source": [
    "O sistema não-linear estocástico pode ser linearizado e descrito por meio de equações cinemáticas:"
   ]
  },
  {
   "cell_type": "markdown",
   "id": "472a96fb",
   "metadata": {},
   "source": [
    "Comentário(s): (hodometria típica em robótica móvel) (escolhi a mais simples para facilitar o ajuste fino)"
   ]
  },
  {
   "cell_type": "markdown",
   "id": "4ed0e0cc",
   "metadata": {},
   "source": [
    "$$ \\mathbf{x}_k = \\begin{bmatrix} x_k \\\\ y_k \\\\ \\theta_k \\end{bmatrix} \\implies \\mathbf{x}_{k} = \\begin{bmatrix} x_{k-1} \\\\ y_{k-1} \\\\ \\theta_{k-1} \\end{bmatrix} +  \\begin{bmatrix} v_{k}\\cdot\\cos(\\theta_{k-1})\\cdot dt \\\\ v_{k}\\cdot\\sin(\\theta_{k-1})\\cdot dt \\\\ \\psi_{k}\\cdot dt \\end{bmatrix}$$"
   ]
  },
  {
   "cell_type": "markdown",
   "id": "2952a0ad",
   "metadata": {},
   "source": [
    "Para facilitar as operações foi adotado a seguinte notação:"
   ]
  },
  {
   "cell_type": "markdown",
   "id": "c475f327",
   "metadata": {},
   "source": [
    "$$ \\mathbf{f}(x_{k-1}, u_k) = \\begin{bmatrix} f_1 \\\\ f_2 \\\\ f_3 \\end{bmatrix} = \\begin{bmatrix} x_{k-1} + v_{k}\\cdot\\cos(\\theta_{k-1})\\cdot dt \\\\ y_{k-1} + v_{k}\\cdot\\sin(\\theta_{k-1})\\cdot dt \\\\ \\theta_{k-1} + \\psi_{k}\\cdot dt \\end{bmatrix}$$"
   ]
  },
  {
   "cell_type": "markdown",
   "id": "cbf71d2a",
   "metadata": {},
   "source": [
    "$\\mathbf{F}_k$ é a matriz Jacobiana de $f(x_{k-1}, u_k)$ com relação ao vetor de estados."
   ]
  },
  {
   "cell_type": "markdown",
   "id": "608ca0b3",
   "metadata": {},
   "source": [
    "$$\n",
    "\\mathbf{F}_k = \\frac{\\partial f(x_{k-1}, u_k)}{\\partial x_{k-1}} \\implies \\mathbf{F}_k = \\begin{bmatrix}\n",
    "\\frac{\\partial f_1}{\\partial x} & \n",
    "\\frac{\\partial f_1}{\\partial y} &\n",
    "\\frac{\\partial f_1}{\\partial \\theta}\\\\\n",
    "\\frac{\\partial f_2}{\\partial x} & \n",
    "\\frac{\\partial f_2}{\\partial y} &\n",
    "\\frac{\\partial f_2}{\\partial \\theta} \\\\\n",
    "\\frac{\\partial f_3}{\\partial x} & \n",
    "\\frac{\\partial f_3}{\\partial y} &\n",
    "\\frac{\\partial f_3}{\\partial \\theta}\n",
    "\\end{bmatrix}\n",
    "$$"
   ]
  },
  {
   "cell_type": "markdown",
   "id": "7bffebff",
   "metadata": {},
   "source": [
    "$$\\mathbf{F}_k =\\begin{bmatrix}\n",
    "1 & \n",
    "0 &\n",
    "-v_{k}\\cdot\\sin(\\theta_{k-1})\\cdot dt \\\\\n",
    "0 & \n",
    "1 &\n",
    "v_{k}\\cdot\\cos(\\theta_{k-1})\\cdot dt \\\\\n",
    "0 & \n",
    "0 &\n",
    "1\n",
    "\\end{bmatrix}\n",
    "$$"
   ]
  },
  {
   "cell_type": "markdown",
   "id": "5fd88de7",
   "metadata": {},
   "source": [
    "$\\mathbf{G}_k$ é a matriz Jacobiana de $f(x_{k-1}, u_k)$ com relação ao vetor de controle."
   ]
  },
  {
   "cell_type": "markdown",
   "id": "8255fde1",
   "metadata": {},
   "source": [
    "$$\\mathbf{G}_k = \\frac{\\partial f(x, u)}{\\partial u} \\implies \\mathbf{G}_k = \\begin{bmatrix}\n",
    "\\frac{\\partial f_1}{\\partial v} & \\frac{\\partial f_1}{\\partial \\psi} \\\\\n",
    "\\frac{\\partial f_2}{\\partial v} & \\frac{\\partial f_2}{\\partial \\psi} \\\\\n",
    "\\frac{\\partial f_3}{\\partial v} & \\frac{\\partial f_3}{\\partial \\psi}\n",
    "\\end{bmatrix}$$"
   ]
  },
  {
   "cell_type": "markdown",
   "id": "2113b5b3",
   "metadata": {},
   "source": [
    "$$\\mathbf{G}_k = \\begin{bmatrix}\n",
    "\\cos(\\theta_{k-1})\\cdot dt & 0 \\\\\n",
    "\\sin(\\theta_{k-1})\\cdot dt & 0 \\\\\n",
    "0 & dt\n",
    "\\end{bmatrix}$$"
   ]
  },
  {
   "cell_type": "markdown",
   "id": "00615694",
   "metadata": {},
   "source": [
    "## Matriz de covariância de ruídos dos sinais de controle de movimento"
   ]
  },
  {
   "cell_type": "markdown",
   "id": "b8809607",
   "metadata": {},
   "source": [
    "Controle de erro nas variáveis $v$ e $\\psi$ convertido em controle de erro nas variáveis $x$, $y$ e $\\theta$."
   ]
  },
  {
   "cell_type": "markdown",
   "id": "cec8524d",
   "metadata": {},
   "source": [
    "Comentário(s): (pode ser otimizado por ajuste fino) (filtro que atualiza a cada predição também otimiza)"
   ]
  },
  {
   "cell_type": "markdown",
   "id": "cdb0b754",
   "metadata": {},
   "source": [
    "$$\\mathbf M = \\begin{bmatrix}\n",
    "\\sigma_{v}^{2} & 0 \\\\\n",
    "0 & \n",
    "\\sigma_{\\psi}^{2}\n",
    "\\end{bmatrix}\n",
    "$$"
   ]
  },
  {
   "cell_type": "markdown",
   "id": "567785c8",
   "metadata": {},
   "source": [
    "## Matriz de covariância de ruídos do sistema de posições"
   ]
  },
  {
   "cell_type": "markdown",
   "id": "2ea4ea43",
   "metadata": {},
   "source": [
    "$$\\mathbf{Q} = \\begin{bmatrix}\n",
    "\\sigma_{x}^{2} & 0 & 0\\\\\n",
    "0 & \\sigma_{y}^{2} & 0\\\\\n",
    "0 & 0 & \\sigma_{\\theta}^{2}\n",
    "\\end{bmatrix}$$"
   ]
  },
  {
   "cell_type": "markdown",
   "id": "6d91011d",
   "metadata": {},
   "source": [
    "## Matriz de covariância de estado "
   ]
  },
  {
   "cell_type": "markdown",
   "id": "84a575df",
   "metadata": {},
   "source": [
    "Comentário(s): (investigar melhor) (está associado a origem do veículo)"
   ]
  },
  {
   "cell_type": "markdown",
   "id": "c6a94e55",
   "metadata": {},
   "source": [
    "Certeza da origem:"
   ]
  },
  {
   "cell_type": "markdown",
   "id": "e0c7d5ea",
   "metadata": {},
   "source": [
    "$$\\mathbf{P} = \\begin{bmatrix}\n",
    "0 & 0 & 0\\\\\n",
    "0 & 0 & 0\\\\\n",
    "0 & 0 & 0\n",
    "\\end{bmatrix}$$"
   ]
  },
  {
   "cell_type": "markdown",
   "id": "864a7a3b",
   "metadata": {},
   "source": [
    "Valor arbitrado razoável (o filtro consegue corrigir em execução)"
   ]
  },
  {
   "cell_type": "markdown",
   "id": "8ab717d1",
   "metadata": {},
   "source": [
    "$$\\mathbf{P} = \\mathbf{Q} $$"
   ]
  },
  {
   "cell_type": "markdown",
   "id": "d573a89a",
   "metadata": {},
   "source": [
    "Valor arbitrado pelo professor:"
   ]
  },
  {
   "cell_type": "markdown",
   "id": "62a06d11",
   "metadata": {},
   "source": [
    "$$\\mathbf{P} = \\begin{bmatrix}\n",
    "10 & 0 & 0\\\\\n",
    "0 & 10 & 0\\\\\n",
    "0 & 0 & 10\n",
    "\\end{bmatrix}$$"
   ]
  },
  {
   "cell_type": "markdown",
   "id": "722b8c8e",
   "metadata": {},
   "source": [
    "## Sistema sensorial não-linear para observar $x_k$"
   ]
  },
  {
   "cell_type": "markdown",
   "id": "7f098bd8",
   "metadata": {},
   "source": [
    "Verificar a propagação de erros do sensor quanto a linearidade. Se for linear, então a distribuição de probabilidades será Gaussiana. Caso contrário, a distribuição de probabilidades será diferente (Poisson por exemplo)."
   ]
  },
  {
   "cell_type": "markdown",
   "id": "30df262f",
   "metadata": {},
   "source": [
    "Comentário(s): (otimização sensível !!!) (teorema central do limite) (GPS -> linear)"
   ]
  },
  {
   "cell_type": "markdown",
   "id": "72bbeea1",
   "metadata": {},
   "source": [
    "$$ \\mathbf{y}_k = \\mathbf{h}(\\mathbf{x}_k, v_k) $$"
   ]
  },
  {
   "cell_type": "markdown",
   "id": "809637e9",
   "metadata": {},
   "source": [
    "$$ \\mathbf{z}_{k} = \\mathbf{h}(\\mathbf{x}_{k|k-1}) $$"
   ]
  },
  {
   "cell_type": "markdown",
   "id": "011d37c8",
   "metadata": {},
   "source": [
    "### Ruído no sistema sensorial"
   ]
  },
  {
   "cell_type": "markdown",
   "id": "02feb16e",
   "metadata": {},
   "source": [
    "Os ruídos são variáveis aleatórias com normal de média nula, visto que a influência dos ruídos é filtrada pelas covariâncias."
   ]
  },
  {
   "cell_type": "markdown",
   "id": "a0b2b496",
   "metadata": {},
   "source": [
    "Comentário(s): (verificar se pode ser otimizado, mas aparentemente é a solução estocástica ótima)"
   ]
  },
  {
   "cell_type": "markdown",
   "id": "02ccbb50",
   "metadata": {},
   "source": [
    "$$ v_k = \\mathcal{N}(0, R) $$"
   ]
  },
  {
   "cell_type": "markdown",
   "id": "939067d1",
   "metadata": {},
   "source": [
    "## Sistema sensorial linearizado"
   ]
  },
  {
   "cell_type": "markdown",
   "id": "d220272d",
   "metadata": {},
   "source": [
    "Válido somente se a propagação de erros do sensor for linear ! (GNSS/GPS ->  linear) (Senão -> outra distribuição)"
   ]
  },
  {
   "cell_type": "markdown",
   "id": "cc662b75",
   "metadata": {},
   "source": [
    "$$\\mathbf{y}_{k} = \\begin{bmatrix}\n",
    "x_{gps,k} \\\\\n",
    "y_{gps,k}\n",
    "\\end{bmatrix}$$ "
   ]
  },
  {
   "cell_type": "markdown",
   "id": "0ef6b11b",
   "metadata": {},
   "source": [
    "Para facilitar as operações foi adotado a seguinte notação:"
   ]
  },
  {
   "cell_type": "markdown",
   "id": "204dca34",
   "metadata": {},
   "source": [
    "$$ \\mathbf{h}(x_{k}) = \\begin{bmatrix} h_1 \\\\ h_2 \\end{bmatrix} = \\begin{bmatrix}\n",
    "x_{gps, k} \\\\\n",
    "y_{gps, k}\n",
    "\\end{bmatrix}$$"
   ]
  },
  {
   "cell_type": "markdown",
   "id": "37654552",
   "metadata": {},
   "source": [
    "## Esperança do sistema sensorial linearizado"
   ]
  },
  {
   "cell_type": "markdown",
   "id": "41888500",
   "metadata": {},
   "source": [
    "$$\\mathbf{z}_{k} = \\begin{bmatrix}\n",
    "x_{gps, k|k-1} \\\\\n",
    "y_{gps, k|k-1}\n",
    "\\end{bmatrix}$$"
   ]
  },
  {
   "cell_type": "markdown",
   "id": "8f23fffe",
   "metadata": {},
   "source": [
    "## "
   ]
  },
  {
   "cell_type": "markdown",
   "id": "6f4fbb37",
   "metadata": {},
   "source": [
    "$\\mathbf{H}_k$ é a matriz Jacobiana de $h(x_{k})$ com relação ao vetor de estados."
   ]
  },
  {
   "cell_type": "markdown",
   "id": "33f35885",
   "metadata": {},
   "source": [
    "$$\\mathbf{H}_k = \\frac{\\partial h(x_{k})}{\\partial x_{k-1}} \\implies \\mathbf{H}_k = \\begin{bmatrix}\n",
    "\\frac{\\partial h_1}{\\partial x} & \n",
    "\\frac{\\partial h_1}{\\partial y} &\n",
    "\\frac{\\partial h_1}{\\partial \\theta}\\\\\n",
    "\\frac{\\partial h_2}{\\partial x} & \n",
    "\\frac{\\partial h_2}{\\partial y} &\n",
    "\\frac{\\partial h_2}{\\partial \\theta} \\\\\n",
    "\\end{bmatrix}$$"
   ]
  },
  {
   "cell_type": "markdown",
   "id": "4689a470",
   "metadata": {},
   "source": [
    "$$ \\mathbf{H}_{k} = \\begin{bmatrix}\n",
    "1 & 0 & 0\\\\\n",
    "0 & 1 & 0\n",
    "\\end{bmatrix}$$"
   ]
  },
  {
   "cell_type": "markdown",
   "id": "46ed9a67",
   "metadata": {},
   "source": [
    "## Matriz de covariância do sensor"
   ]
  },
  {
   "cell_type": "markdown",
   "id": "12408437",
   "metadata": {},
   "source": [
    "$$ \\mathbf{R} = \\begin{bmatrix}\n",
    "\\sigma_{zx}^{2} & 0 \\\\\n",
    "0 & \n",
    "\\sigma_{zy}^{2}\n",
    "\\end{bmatrix}$$"
   ]
  },
  {
   "cell_type": "markdown",
   "id": "62a6b724",
   "metadata": {},
   "source": [
    "## Matriz identidade"
   ]
  },
  {
   "cell_type": "markdown",
   "id": "548cf186",
   "metadata": {},
   "source": [
    "$$\\mathbf{I} = \\begin{bmatrix}\n",
    "1 & 0 & 0\\\\\n",
    "0 & 1 & 0\\\\\n",
    "0 & 0 & 1\n",
    "\\end{bmatrix}$$"
   ]
  },
  {
   "cell_type": "markdown",
   "id": "193c1562",
   "metadata": {},
   "source": [
    "# Equações de previsão das esperanças"
   ]
  },
  {
   "cell_type": "markdown",
   "id": "a0cb74d5",
   "metadata": {},
   "source": [
    "### Leitura do sistema sensorial"
   ]
  },
  {
   "cell_type": "markdown",
   "id": "e20cc242",
   "metadata": {},
   "source": [
    "$$ \\mathbf{y}_{k} = \\begin{bmatrix}\n",
    "x_{gps,k} \\\\\n",
    "y_{gps,k}\n",
    "\\end{bmatrix} $$ "
   ]
  },
  {
   "cell_type": "markdown",
   "id": "07d5ee7f",
   "metadata": {},
   "source": [
    "### Estimativa do vetor de estados"
   ]
  },
  {
   "cell_type": "markdown",
   "id": "c4a3b536",
   "metadata": {},
   "source": [
    "$$ \\mathbf{x}_k = \\mathbf{x}_{k-1} + \\begin{bmatrix} v_{k-1}\\cdot\\cos(\\theta_{k-1})\\cdot dt \\\\ v_{k-1}\\cdot\\sin(\\theta_{k-1})\\cdot dt \\\\ \\psi_{k-1}\\cdot dt \\end{bmatrix} $$"
   ]
  },
  {
   "cell_type": "markdown",
   "id": "981e49c5",
   "metadata": {},
   "source": [
    "### Estimativa da covariância de erro"
   ]
  },
  {
   "cell_type": "markdown",
   "id": "5fe90c47",
   "metadata": {},
   "source": [
    "$$ \\mathbf{P}_{k|k-1} = \\mathbf{F}_{k}\\mathbf{P}_{k-1|k-1}\\mathbf{F}_{k}^{T} + \\mathbf{G}_{k}\\mathbf{M}_{k-1}\\mathbf{G}_{k}^{T} + \\mathbf{Q}_{k} $$"
   ]
  },
  {
   "cell_type": "markdown",
   "id": "ea9f2110",
   "metadata": {},
   "source": [
    "### Esperança do sistema sensorial"
   ]
  },
  {
   "cell_type": "markdown",
   "id": "3fdb040e",
   "metadata": {},
   "source": [
    "$$\\mathbf{z}_{k} = \\begin{bmatrix}\n",
    "x_{gps, k|k-1} \\\\\n",
    "y_{gps, k|k-1}\n",
    "\\end{bmatrix}$$"
   ]
  },
  {
   "cell_type": "markdown",
   "id": "dfad62ab",
   "metadata": {},
   "source": [
    "# Equações de correção das esperanças"
   ]
  },
  {
   "cell_type": "markdown",
   "id": "2f28f70b",
   "metadata": {},
   "source": [
    "### Ganho de Kalman"
   ]
  },
  {
   "cell_type": "markdown",
   "id": "feab59f7",
   "metadata": {},
   "source": [
    "Método dos mínimos quadrados"
   ]
  },
  {
   "cell_type": "markdown",
   "id": "97f78150",
   "metadata": {},
   "source": [
    "$$ \\mathbf{K}_{k} = \\mathbf{P}_{k|k-1}\\mathbf{H}_{k}^{T}(\\mathbf{H}_{k}\\mathbf{P}_{k|k-1}\\mathbf{H}_{k}^{T} + \\mathbf{R}_{k})^{-1} $$"
   ]
  },
  {
   "cell_type": "markdown",
   "id": "58cfc31a",
   "metadata": {},
   "source": [
    "### Correção do vetor de estados"
   ]
  },
  {
   "cell_type": "markdown",
   "id": "6762408a",
   "metadata": {},
   "source": [
    "$$ \\mathbf{x}_{k|k} = \\mathbf{x}_{k|k-1} + \\mathbf{K}_{k}(\\mathbf{y}_{k}-\\mathbf{z}_{k}) $$"
   ]
  },
  {
   "cell_type": "markdown",
   "id": "c3f17505",
   "metadata": {},
   "source": [
    "### Correção da covariância do erro"
   ]
  },
  {
   "cell_type": "markdown",
   "id": "556e5cbd",
   "metadata": {},
   "source": [
    "$$ \\mathbf{P}_{k|k} = (\\mathbf{I} - \\mathbf{K}_{k}\\mathbf{H}_{k})\\mathbf{P}_{k|k-1} $$"
   ]
  },
  {
   "cell_type": "markdown",
   "id": "a93d3951",
   "metadata": {},
   "source": [
    "# Implementação do EKF"
   ]
  },
  {
   "cell_type": "markdown",
   "id": "a37a53c6",
   "metadata": {},
   "source": [
    "## Conjunto de dados: Berlin Potsdamer Platz"
   ]
  },
  {
   "cell_type": "markdown",
   "id": "3151e28b",
   "metadata": {},
   "source": [
    "Fonte: https://www.tu-chemnitz.de/projekt/smartLoc/gnss_dataset.html.en#Datasets"
   ]
  },
  {
   "cell_type": "code",
   "execution_count": 22,
   "id": "ff7f303d",
   "metadata": {},
   "outputs": [
    {
     "data": {
      "text/html": [
       "<div>\n",
       "<style scoped>\n",
       "    .dataframe tbody tr th:only-of-type {\n",
       "        vertical-align: middle;\n",
       "    }\n",
       "\n",
       "    .dataframe tbody tr th {\n",
       "        vertical-align: top;\n",
       "    }\n",
       "\n",
       "    .dataframe thead th {\n",
       "        text-align: right;\n",
       "    }\n",
       "</style>\n",
       "<table border=\"1\" class=\"dataframe\">\n",
       "  <thead>\n",
       "    <tr style=\"text-align: right;\">\n",
       "      <th></th>\n",
       "      <th>GPSWeek [weeks]</th>\n",
       "      <th>GPSSecondsOfWeek [s]</th>\n",
       "      <th>Longitude (lon) [deg]</th>\n",
       "      <th>Latitude (lat) [deg]</th>\n",
       "      <th>Height above ellipsoid (height) [m]</th>\n",
       "      <th>Longitude (GT Lon) [deg]</th>\n",
       "      <th>Latitude (GT Lat) [deg]</th>\n",
       "      <th>Height above ellipsoid (GT Height) [m]</th>\n",
       "      <th>Heading (0° = East, counterclockwise) - (GT Heading) [rad]</th>\n",
       "      <th>Acceleration (GT Acceleration) [ms^2]</th>\n",
       "      <th>GPSSecondsOfWeek [s] - Velocity</th>\n",
       "      <th>Velocity [meter/second]</th>\n",
       "      <th>GPSSecondsOfWeek [s] - Yawrate</th>\n",
       "      <th>Yaw-Rate [rad/s]</th>\n",
       "    </tr>\n",
       "  </thead>\n",
       "  <tbody>\n",
       "    <tr>\n",
       "      <th>0</th>\n",
       "      <td>1900.0</td>\n",
       "      <td>126642.0</td>\n",
       "      <td>13.373692</td>\n",
       "      <td>52.504600</td>\n",
       "      <td>80.236</td>\n",
       "      <td>13.373671</td>\n",
       "      <td>52.504585</td>\n",
       "      <td>76.020936</td>\n",
       "      <td>1.243817</td>\n",
       "      <td>0.645004</td>\n",
       "      <td>126642.00</td>\n",
       "      <td>6.077778</td>\n",
       "      <td>126642.00</td>\n",
       "      <td>-0.016930</td>\n",
       "    </tr>\n",
       "    <tr>\n",
       "      <th>1</th>\n",
       "      <td>1900.0</td>\n",
       "      <td>126642.2</td>\n",
       "      <td>13.373697</td>\n",
       "      <td>52.504610</td>\n",
       "      <td>80.233</td>\n",
       "      <td>13.373676</td>\n",
       "      <td>52.504595</td>\n",
       "      <td>76.027829</td>\n",
       "      <td>1.240403</td>\n",
       "      <td>0.566129</td>\n",
       "      <td>126642.02</td>\n",
       "      <td>6.083333</td>\n",
       "      <td>126642.02</td>\n",
       "      <td>-0.016232</td>\n",
       "    </tr>\n",
       "    <tr>\n",
       "      <th>2</th>\n",
       "      <td>1900.0</td>\n",
       "      <td>126642.2</td>\n",
       "      <td>13.373697</td>\n",
       "      <td>52.504610</td>\n",
       "      <td>80.233</td>\n",
       "      <td>13.373676</td>\n",
       "      <td>52.504595</td>\n",
       "      <td>76.027829</td>\n",
       "      <td>1.240403</td>\n",
       "      <td>0.566129</td>\n",
       "      <td>126642.04</td>\n",
       "      <td>6.111111</td>\n",
       "      <td>126642.04</td>\n",
       "      <td>-0.016057</td>\n",
       "    </tr>\n",
       "    <tr>\n",
       "      <th>3</th>\n",
       "      <td>1900.0</td>\n",
       "      <td>126642.2</td>\n",
       "      <td>13.373697</td>\n",
       "      <td>52.504610</td>\n",
       "      <td>80.233</td>\n",
       "      <td>13.373676</td>\n",
       "      <td>52.504595</td>\n",
       "      <td>76.027829</td>\n",
       "      <td>1.240403</td>\n",
       "      <td>0.566129</td>\n",
       "      <td>126642.06</td>\n",
       "      <td>6.127778</td>\n",
       "      <td>126642.06</td>\n",
       "      <td>-0.014486</td>\n",
       "    </tr>\n",
       "    <tr>\n",
       "      <th>4</th>\n",
       "      <td>1900.0</td>\n",
       "      <td>126642.2</td>\n",
       "      <td>13.373697</td>\n",
       "      <td>52.504610</td>\n",
       "      <td>80.233</td>\n",
       "      <td>13.373676</td>\n",
       "      <td>52.504595</td>\n",
       "      <td>76.027829</td>\n",
       "      <td>1.240403</td>\n",
       "      <td>0.566129</td>\n",
       "      <td>126642.08</td>\n",
       "      <td>6.127778</td>\n",
       "      <td>126642.08</td>\n",
       "      <td>-0.015708</td>\n",
       "    </tr>\n",
       "    <tr>\n",
       "      <th>...</th>\n",
       "      <td>...</td>\n",
       "      <td>...</td>\n",
       "      <td>...</td>\n",
       "      <td>...</td>\n",
       "      <td>...</td>\n",
       "      <td>...</td>\n",
       "      <td>...</td>\n",
       "      <td>...</td>\n",
       "      <td>...</td>\n",
       "      <td>...</td>\n",
       "      <td>...</td>\n",
       "      <td>...</td>\n",
       "      <td>...</td>\n",
       "      <td>...</td>\n",
       "    </tr>\n",
       "    <tr>\n",
       "      <th>14126</th>\n",
       "      <td>1900.0</td>\n",
       "      <td>126924.7</td>\n",
       "      <td>13.373559</td>\n",
       "      <td>52.504508</td>\n",
       "      <td>80.125</td>\n",
       "      <td>13.373564</td>\n",
       "      <td>52.504490</td>\n",
       "      <td>77.886868</td>\n",
       "      <td>-2.090978</td>\n",
       "      <td>-1.057214</td>\n",
       "      <td>126924.53</td>\n",
       "      <td>5.105556</td>\n",
       "      <td>126924.53</td>\n",
       "      <td>-0.060039</td>\n",
       "    </tr>\n",
       "    <tr>\n",
       "      <th>14127</th>\n",
       "      <td>1900.0</td>\n",
       "      <td>126924.7</td>\n",
       "      <td>13.373559</td>\n",
       "      <td>52.504508</td>\n",
       "      <td>80.125</td>\n",
       "      <td>13.373564</td>\n",
       "      <td>52.504490</td>\n",
       "      <td>77.886868</td>\n",
       "      <td>-2.090978</td>\n",
       "      <td>-1.057214</td>\n",
       "      <td>126924.55</td>\n",
       "      <td>5.069444</td>\n",
       "      <td>126924.55</td>\n",
       "      <td>-0.063705</td>\n",
       "    </tr>\n",
       "    <tr>\n",
       "      <th>14128</th>\n",
       "      <td>1900.0</td>\n",
       "      <td>126924.7</td>\n",
       "      <td>13.373559</td>\n",
       "      <td>52.504508</td>\n",
       "      <td>80.125</td>\n",
       "      <td>13.373564</td>\n",
       "      <td>52.504490</td>\n",
       "      <td>77.886868</td>\n",
       "      <td>-2.090978</td>\n",
       "      <td>-1.057214</td>\n",
       "      <td>126924.57</td>\n",
       "      <td>5.041667</td>\n",
       "      <td>126924.57</td>\n",
       "      <td>-0.066323</td>\n",
       "    </tr>\n",
       "    <tr>\n",
       "      <th>14129</th>\n",
       "      <td>1900.0</td>\n",
       "      <td>126924.7</td>\n",
       "      <td>13.373559</td>\n",
       "      <td>52.504508</td>\n",
       "      <td>80.125</td>\n",
       "      <td>13.373564</td>\n",
       "      <td>52.504490</td>\n",
       "      <td>77.886868</td>\n",
       "      <td>-2.090978</td>\n",
       "      <td>-1.057214</td>\n",
       "      <td>126924.59</td>\n",
       "      <td>5.022222</td>\n",
       "      <td>126924.59</td>\n",
       "      <td>-0.069813</td>\n",
       "    </tr>\n",
       "    <tr>\n",
       "      <th>14130</th>\n",
       "      <td>1900.0</td>\n",
       "      <td>126924.7</td>\n",
       "      <td>13.373559</td>\n",
       "      <td>52.504508</td>\n",
       "      <td>80.125</td>\n",
       "      <td>13.373564</td>\n",
       "      <td>52.504490</td>\n",
       "      <td>77.886868</td>\n",
       "      <td>-2.090978</td>\n",
       "      <td>-1.057214</td>\n",
       "      <td>126924.61</td>\n",
       "      <td>5.022222</td>\n",
       "      <td>126924.61</td>\n",
       "      <td>-0.074002</td>\n",
       "    </tr>\n",
       "  </tbody>\n",
       "</table>\n",
       "<p>14131 rows × 14 columns</p>\n",
       "</div>"
      ],
      "text/plain": [
       "       GPSWeek [weeks]  GPSSecondsOfWeek [s]  Longitude (lon) [deg]  \\\n",
       "0               1900.0              126642.0              13.373692   \n",
       "1               1900.0              126642.2              13.373697   \n",
       "2               1900.0              126642.2              13.373697   \n",
       "3               1900.0              126642.2              13.373697   \n",
       "4               1900.0              126642.2              13.373697   \n",
       "...                ...                   ...                    ...   \n",
       "14126           1900.0              126924.7              13.373559   \n",
       "14127           1900.0              126924.7              13.373559   \n",
       "14128           1900.0              126924.7              13.373559   \n",
       "14129           1900.0              126924.7              13.373559   \n",
       "14130           1900.0              126924.7              13.373559   \n",
       "\n",
       "       Latitude (lat) [deg]  Height above ellipsoid (height) [m]  \\\n",
       "0                 52.504600                               80.236   \n",
       "1                 52.504610                               80.233   \n",
       "2                 52.504610                               80.233   \n",
       "3                 52.504610                               80.233   \n",
       "4                 52.504610                               80.233   \n",
       "...                     ...                                  ...   \n",
       "14126             52.504508                               80.125   \n",
       "14127             52.504508                               80.125   \n",
       "14128             52.504508                               80.125   \n",
       "14129             52.504508                               80.125   \n",
       "14130             52.504508                               80.125   \n",
       "\n",
       "       Longitude (GT Lon) [deg]  Latitude (GT Lat) [deg]  \\\n",
       "0                     13.373671                52.504585   \n",
       "1                     13.373676                52.504595   \n",
       "2                     13.373676                52.504595   \n",
       "3                     13.373676                52.504595   \n",
       "4                     13.373676                52.504595   \n",
       "...                         ...                      ...   \n",
       "14126                 13.373564                52.504490   \n",
       "14127                 13.373564                52.504490   \n",
       "14128                 13.373564                52.504490   \n",
       "14129                 13.373564                52.504490   \n",
       "14130                 13.373564                52.504490   \n",
       "\n",
       "       Height above ellipsoid (GT Height) [m]  \\\n",
       "0                                   76.020936   \n",
       "1                                   76.027829   \n",
       "2                                   76.027829   \n",
       "3                                   76.027829   \n",
       "4                                   76.027829   \n",
       "...                                       ...   \n",
       "14126                               77.886868   \n",
       "14127                               77.886868   \n",
       "14128                               77.886868   \n",
       "14129                               77.886868   \n",
       "14130                               77.886868   \n",
       "\n",
       "       Heading (0° = East, counterclockwise) - (GT Heading) [rad]  \\\n",
       "0                                               1.243817            \n",
       "1                                               1.240403            \n",
       "2                                               1.240403            \n",
       "3                                               1.240403            \n",
       "4                                               1.240403            \n",
       "...                                                  ...            \n",
       "14126                                          -2.090978            \n",
       "14127                                          -2.090978            \n",
       "14128                                          -2.090978            \n",
       "14129                                          -2.090978            \n",
       "14130                                          -2.090978            \n",
       "\n",
       "       Acceleration (GT Acceleration) [ms^2]  GPSSecondsOfWeek [s] - Velocity  \\\n",
       "0                                   0.645004                        126642.00   \n",
       "1                                   0.566129                        126642.02   \n",
       "2                                   0.566129                        126642.04   \n",
       "3                                   0.566129                        126642.06   \n",
       "4                                   0.566129                        126642.08   \n",
       "...                                      ...                              ...   \n",
       "14126                              -1.057214                        126924.53   \n",
       "14127                              -1.057214                        126924.55   \n",
       "14128                              -1.057214                        126924.57   \n",
       "14129                              -1.057214                        126924.59   \n",
       "14130                              -1.057214                        126924.61   \n",
       "\n",
       "       Velocity [meter/second]  GPSSecondsOfWeek [s] - Yawrate  \\\n",
       "0                     6.077778                       126642.00   \n",
       "1                     6.083333                       126642.02   \n",
       "2                     6.111111                       126642.04   \n",
       "3                     6.127778                       126642.06   \n",
       "4                     6.127778                       126642.08   \n",
       "...                        ...                             ...   \n",
       "14126                 5.105556                       126924.53   \n",
       "14127                 5.069444                       126924.55   \n",
       "14128                 5.041667                       126924.57   \n",
       "14129                 5.022222                       126924.59   \n",
       "14130                 5.022222                       126924.61   \n",
       "\n",
       "       Yaw-Rate [rad/s]  \n",
       "0             -0.016930  \n",
       "1             -0.016232  \n",
       "2             -0.016057  \n",
       "3             -0.014486  \n",
       "4             -0.015708  \n",
       "...                 ...  \n",
       "14126         -0.060039  \n",
       "14127         -0.063705  \n",
       "14128         -0.066323  \n",
       "14129         -0.069813  \n",
       "14130         -0.074002  \n",
       "\n",
       "[14131 rows x 14 columns]"
      ]
     },
     "execution_count": 22,
     "metadata": {},
     "output_type": "execute_result"
    }
   ],
   "source": [
    "data1 = \"DATASET1.csv\"\n",
    "data1 = pd.read_csv(data1, sep=',')\n",
    "data1"
   ]
  },
  {
   "cell_type": "markdown",
   "id": "beff8497",
   "metadata": {},
   "source": [
    "## Taxa de amostragem das medições"
   ]
  },
  {
   "cell_type": "code",
   "execution_count": 23,
   "id": "07ea083f",
   "metadata": {},
   "outputs": [],
   "source": [
    "dt = 1.0/50.0 # 50 Hz (CAN) (VELOCITY.csv e YAWRATE.csv)\n",
    "dtGPS = 1.0/5.0 # 5 Hz (sensor GPS de baixo custo) (NAV-POSLLH.csv)"
   ]
  }
 ],
 "metadata": {
  "kernelspec": {
   "display_name": "Python 3 (ipykernel)",
   "language": "python",
   "name": "python3"
  },
  "language_info": {
   "codemirror_mode": {
    "name": "ipython",
    "version": 3
   },
   "file_extension": ".py",
   "mimetype": "text/x-python",
   "name": "python",
   "nbconvert_exporter": "python",
   "pygments_lexer": "ipython3",
   "version": "3.9.5"
  }
 },
 "nbformat": 4,
 "nbformat_minor": 5
}
