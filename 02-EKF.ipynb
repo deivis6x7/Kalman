{
 "cells": [
  {
   "cell_type": "markdown",
   "id": "cb8f630e",
   "metadata": {},
   "source": [
    "# Extended Kalman Filter (EKF)"
   ]
  },
  {
   "cell_type": "markdown",
   "id": "5fa22096",
   "metadata": {},
   "source": [
    "## Requisitos"
   ]
  },
  {
   "cell_type": "code",
   "execution_count": 185,
   "id": "89316154",
   "metadata": {},
   "outputs": [],
   "source": [
    "import pandas as pd\n",
    "import numpy as np\n",
    "\n",
    "import scipy\n",
    "import scipy.linalg\n",
    "from scipy import stats\n",
    "from scipy.stats import norm\n",
    "\n",
    "import sympy\n",
    "from sympy import init_printing\n",
    "from sympy.utilities.codegen import codegen\n",
    "from sympy import Symbol, symbols, Matrix, sin, cos\n",
    "\n",
    "import webbrowser #hiperlink\n",
    "import matplotlib.dates as mdates\n",
    "import matplotlib.pyplot as plt\n",
    "init_printing(use_latex=True)"
   ]
  },
  {
   "cell_type": "markdown",
   "id": "293fc247",
   "metadata": {},
   "source": [
    "## Projeto cinemático do modelo uniciclo (CTRA)"
   ]
  },
  {
   "cell_type": "markdown",
   "id": "06d54e13",
   "metadata": {},
   "source": [
    "![](uniciclo.png)"
   ]
  },
  {
   "cell_type": "markdown",
   "id": "8a824dcb",
   "metadata": {},
   "source": [
    "### Vetor de estados"
   ]
  },
  {
   "cell_type": "markdown",
   "id": "2140ef85",
   "metadata": {},
   "source": [
    "-Heading (Orientação do veículo no eixo z)\n",
    "\n",
    "-Yaw Rate (Rotação no eixo z)"
   ]
  },
  {
   "cell_type": "markdown",
   "id": "86999cf2",
   "metadata": {},
   "source": [
    "$$ \\mathbf{x} = \\begin{bmatrix} x \\\\ y \\\\ \\theta \\\\ v \\end{bmatrix} = \\begin{bmatrix} \\text{Posição no eixo x} \\\\ \\text{Posição no eixo y} \\\\ \\text{Orientação do veículo no eixo z} \\\\ \\text{Velocidade linear}\\end{bmatrix} $$"
   ]
  },
  {
   "cell_type": "markdown",
   "id": "181c6ac2",
   "metadata": {},
   "source": [
    "### Vetor de entrada"
   ]
  },
  {
   "cell_type": "markdown",
   "id": "e64c7a75",
   "metadata": {},
   "source": [
    "$$ \\mathbf{u} = \\begin{bmatrix} a_{x} \\\\ \\psi \\end{bmatrix} = \\begin{bmatrix} \\text{Aceleração no eixo x} \\\\ \\text{Rotação no eixo z} \\end{bmatrix} $$"
   ]
  },
  {
   "cell_type": "markdown",
   "id": "315d2c4f",
   "metadata": {},
   "source": [
    "## Sistema dinâmico não-linear a ser rastreado"
   ]
  },
  {
   "cell_type": "markdown",
   "id": "546e9071",
   "metadata": {},
   "source": [
    "$$ \\mathbf{x}_{k} = \\mathbf{f}(\\mathbf{x}_{k-1}, \\mathbf{u}_k) + w_k + \\tau_k $$"
   ]
  },
  {
   "cell_type": "markdown",
   "id": "8c11f36c",
   "metadata": {},
   "source": [
    "### Ruído nos vetores de estado e controle"
   ]
  },
  {
   "cell_type": "markdown",
   "id": "aac4fce4",
   "metadata": {},
   "source": [
    "Ruídos são variáveis aleatórias com normal de média nula, sendo a influência dos ruídos filtrada pelas covariâncias. É a solução estocástica ótima!"
   ]
  },
  {
   "cell_type": "markdown",
   "id": "23c058fd",
   "metadata": {},
   "source": [
    "$$ w_k = \\mathcal{N}(0, Q) $$"
   ]
  },
  {
   "cell_type": "markdown",
   "id": "99193830",
   "metadata": {},
   "source": [
    "$$ \\tau_k = \\mathcal{N}(0, M) $$"
   ]
  },
  {
   "cell_type": "markdown",
   "id": "84fc2466",
   "metadata": {},
   "source": [
    "## Sistema linearizado por série de Taylor"
   ]
  },
  {
   "cell_type": "markdown",
   "id": "57c96093",
   "metadata": {},
   "source": [
    "O sistema não-linear estocástico pode ser linearizado e descrito por meio de equações cinemáticas:"
   ]
  },
  {
   "cell_type": "markdown",
   "id": "4ed0e0cc",
   "metadata": {},
   "source": [
    "$$ \\mathbf{x}_k = \\begin{bmatrix} x_k \\\\ y_k \\\\ \\theta_k \\\\ v_k \\end{bmatrix} \\implies \\mathbf{x}_{k} = \\begin{bmatrix} x_{k-1} \\\\ y_{k-1} \\\\ \\theta_{k-1} \\\\ v_{k-1} \\end{bmatrix} + \\begin{bmatrix} v_{k-1}\\cdot\\cos(\\theta_{k-1})\\cdot \\Delta t \\\\ v_{k-1}\\cdot\\sin(\\theta_{k-1})\\cdot \\Delta t \\\\ \\psi_{k-1}\\cdot \\Delta t \\\\ ax_{k-1}\\cdot \\Delta t \\end{bmatrix}$$"
   ]
  },
  {
   "cell_type": "markdown",
   "id": "2952a0ad",
   "metadata": {},
   "source": [
    "Para facilitar as operações foi adotado a seguinte notação:"
   ]
  },
  {
   "cell_type": "markdown",
   "id": "c475f327",
   "metadata": {},
   "source": [
    "$$ \\mathbf{f}(x_{k-1}, u_k) = \\begin{bmatrix} f_1 \\\\ f_2 \\\\ f_3 \\\\ f_4 \\end{bmatrix} = \\begin{bmatrix} x_{k-1} + v_{k-1}\\cdot\\cos(\\theta_{k-1})\\cdot \\Delta t \\\\ y_{k-1} + v_{k-1}\\cdot\\sin(\\theta_{k-1})\\cdot \\Delta t \\\\ \\theta_{k-1} + \\psi_{k-1}\\cdot \\Delta t \\\\ v_{k-1} + ax_{k-1}\\cdot \\Delta t \\end{bmatrix}$$"
   ]
  },
  {
   "cell_type": "markdown",
   "id": "cbf71d2a",
   "metadata": {},
   "source": [
    "$\\mathbf{F}_k$ é a matriz Jacobiana de $f(x_{k-1}, u_k)$ com relação ao vetor de estados."
   ]
  },
  {
   "cell_type": "markdown",
   "id": "608ca0b3",
   "metadata": {},
   "source": [
    "$$\n",
    "\\mathbf{F}_k = \\frac{\\partial f(x_{k-1}, u_k)}{\\partial x_{k-1}} \\implies \\mathbf{F}_k = \\begin{bmatrix}\n",
    "\\frac{\\partial f_1}{\\partial x} & \n",
    "\\frac{\\partial f_1}{\\partial y} &\n",
    "\\frac{\\partial f_1}{\\partial \\theta} &\n",
    "\\frac{\\partial f_1}{\\partial v}\\\\\n",
    "\\frac{\\partial f_2}{\\partial x} & \n",
    "\\frac{\\partial f_2}{\\partial y} &\n",
    "\\frac{\\partial f_2}{\\partial \\theta} &\n",
    "\\frac{\\partial f_2}{\\partial v}\\\\\n",
    "\\frac{\\partial f_3}{\\partial x} & \n",
    "\\frac{\\partial f_3}{\\partial y} &\n",
    "\\frac{\\partial f_3}{\\partial \\theta} &\n",
    "\\frac{\\partial f_3}{\\partial v}\\\\\n",
    "\\frac{\\partial f_4}{\\partial x} & \n",
    "\\frac{\\partial f_4}{\\partial y} &\n",
    "\\frac{\\partial f_4}{\\partial \\theta} &\n",
    "\\frac{\\partial f_4}{\\partial v}\n",
    "\\end{bmatrix}\n",
    "$$"
   ]
  },
  {
   "cell_type": "markdown",
   "id": "7bffebff",
   "metadata": {},
   "source": [
    "$$\\mathbf{F}_k =\\begin{bmatrix}\n",
    "1 & \n",
    "0 &\n",
    "-v_{k-1}\\cdot\\sin(\\theta_{k-1})\\cdot \\Delta t &\n",
    "\\cos(\\theta_{k-1})\\cdot \\Delta t \\\\\n",
    "0 & \n",
    "1 &\n",
    "v_{k-1}\\cdot\\cos(\\theta_{k-1})\\cdot \\Delta t &\n",
    "\\sin(\\theta_{k-1})\\cdot \\Delta t \\\\\n",
    "0 & \n",
    "0 &\n",
    "1 &\n",
    "0 \\\\\n",
    "0 &\n",
    "0 &\n",
    "0 &\n",
    "1\n",
    "\\end{bmatrix}\n",
    "$$"
   ]
  },
  {
   "cell_type": "markdown",
   "id": "5fd88de7",
   "metadata": {},
   "source": [
    "$\\mathbf{G}_k$ é a matriz Jacobiana de $f(x_{k-1}, u_k)$ com relação ao vetor de controle."
   ]
  },
  {
   "cell_type": "markdown",
   "id": "8255fde1",
   "metadata": {},
   "source": [
    "$$\\mathbf{G}_k = \\frac{\\partial f(x_{k-1}, u_{k})}{\\partial u_{k}} \\implies \\mathbf{G}_k = \\begin{bmatrix}\n",
    "\\frac{\\partial f_1}{\\partial a_x} & \\frac{\\partial f_1}{\\partial \\psi} \\\\\n",
    "\\frac{\\partial f_2}{\\partial a_x} & \\frac{\\partial f_2}{\\partial \\psi} \\\\\n",
    "\\frac{\\partial f_3}{\\partial a_x} & \\frac{\\partial f_3}{\\partial \\psi} \\\\\n",
    "\\frac{\\partial f_4}{\\partial a_x} & \\frac{\\partial f_4}{\\partial \\psi}\n",
    "\\end{bmatrix}$$"
   ]
  },
  {
   "cell_type": "markdown",
   "id": "2113b5b3",
   "metadata": {},
   "source": [
    "$$\\mathbf{G}_k = \\begin{bmatrix}\n",
    "0 & 0 \\\\\n",
    "0 & 0 \\\\\n",
    "0 & \\Delta t \\\\\n",
    "\\Delta t & 0\n",
    "\\end{bmatrix}$$"
   ]
  },
  {
   "cell_type": "markdown",
   "id": "567785c8",
   "metadata": {},
   "source": [
    "## Matriz de covariância de ruídos do sistema de posições"
   ]
  },
  {
   "cell_type": "markdown",
   "id": "2ea4ea43",
   "metadata": {},
   "source": [
    "$$\\mathbf{Q} = \\begin{bmatrix}\n",
    "\\sigma_{x}^{2} & 0 & 0 & 0\\\\\n",
    "0 & \\sigma_{y}^{2} & 0 & 0\\\\\n",
    "0 & 0 & \\sigma_{\\theta}^{2} & 0\\\\\n",
    "0 & 0 & 0 & \\sigma_{v}^{2} \n",
    "\\end{bmatrix}$$"
   ]
  },
  {
   "cell_type": "markdown",
   "id": "00615694",
   "metadata": {},
   "source": [
    "## Matriz de covariância de ruídos dos sinais de controle de movimento"
   ]
  },
  {
   "cell_type": "markdown",
   "id": "b8809607",
   "metadata": {},
   "source": [
    "Controle de erro nas variáveis de entrada $a_x$ e $\\omega$ convertido em controle de erro nas variáveis de estado $x$, $y$, $\\theta$ e $v$."
   ]
  },
  {
   "cell_type": "markdown",
   "id": "cdb0b754",
   "metadata": {},
   "source": [
    "$$\\mathbf M = \\begin{bmatrix}\n",
    "\\sigma_{a_x}^{2} & 0 \\\\\n",
    "0 & \n",
    "\\sigma_{\\omega}^{2}\n",
    "\\end{bmatrix}\n",
    "$$"
   ]
  },
  {
   "cell_type": "markdown",
   "id": "6d91011d",
   "metadata": {},
   "source": [
    "## Matriz de covariância de estado "
   ]
  },
  {
   "cell_type": "markdown",
   "id": "84a575df",
   "metadata": {},
   "source": [
    "Associa-se a origem do veículo."
   ]
  },
  {
   "cell_type": "markdown",
   "id": "c6a94e55",
   "metadata": {},
   "source": [
    "-Certeza da origem:"
   ]
  },
  {
   "cell_type": "markdown",
   "id": "e0c7d5ea",
   "metadata": {},
   "source": [
    "$$\\mathbf{P} = \\begin{bmatrix}\n",
    "0 & 0 & 0 & 0\\\\\n",
    "0 & 0 & 0 & 0\\\\\n",
    "0 & 0 & 0 & 0\\\\\n",
    "0 & 0 & 0 & 0\n",
    "\\end{bmatrix}$$"
   ]
  },
  {
   "cell_type": "markdown",
   "id": "864a7a3b",
   "metadata": {},
   "source": [
    "-Valor arbitrado razoável (o filtro consegue corrigir em execução):"
   ]
  },
  {
   "cell_type": "markdown",
   "id": "8ab717d1",
   "metadata": {},
   "source": [
    "$$\\mathbf{P} = \\mathbf{Q} $$"
   ]
  },
  {
   "cell_type": "markdown",
   "id": "d573a89a",
   "metadata": {},
   "source": [
    "-Valor arbitrado pelo professor:"
   ]
  },
  {
   "cell_type": "markdown",
   "id": "62a06d11",
   "metadata": {},
   "source": [
    "$$\\mathbf{P} = \\begin{bmatrix}\n",
    "10 & 0 & 0 & 0\\\\\n",
    "0 & 10 & 0 & 0\\\\\n",
    "0 & 0 & 10 & 0\\\\\n",
    "0 & 0 & 0 & 10\n",
    "\\end{bmatrix}$$ "
   ]
  },
  {
   "cell_type": "markdown",
   "id": "722b8c8e",
   "metadata": {},
   "source": [
    "## Sistema sensorial não-linear para observar $x_k$"
   ]
  },
  {
   "cell_type": "markdown",
   "id": "72bbeea1",
   "metadata": {},
   "source": [
    "$$ \\mathbf{z}_k = \\mathbf{h}(\\mathbf{x}_k, v_k) $$"
   ]
  },
  {
   "cell_type": "markdown",
   "id": "011d37c8",
   "metadata": {},
   "source": [
    "### Ruído no sistema sensorial"
   ]
  },
  {
   "cell_type": "markdown",
   "id": "02feb16e",
   "metadata": {},
   "source": [
    "Ruídos são variáveis aleatórias com normal de média nula, sendo a influência dos ruídos filtrada pelas covariâncias. É a solução estocástica ótima!"
   ]
  },
  {
   "cell_type": "markdown",
   "id": "02ccbb50",
   "metadata": {},
   "source": [
    "$$ v_k = \\mathcal{N}(0, R) $$"
   ]
  },
  {
   "cell_type": "markdown",
   "id": "939067d1",
   "metadata": {},
   "source": [
    "## Sistema sensorial linearizado"
   ]
  },
  {
   "cell_type": "markdown",
   "id": "cc662b75",
   "metadata": {},
   "source": [
    "$$\\mathbf{z}_{k} = \\begin{bmatrix}\n",
    "x_{gps,k} \\\\\n",
    "y_{gps,k}\n",
    "\\end{bmatrix}$$ "
   ]
  },
  {
   "cell_type": "markdown",
   "id": "0ef6b11b",
   "metadata": {},
   "source": [
    "Para facilitar as operações foi adotado a seguinte notação:"
   ]
  },
  {
   "cell_type": "markdown",
   "id": "204dca34",
   "metadata": {},
   "source": [
    "$$ \\mathbf{h}(x_{k}) = \\begin{bmatrix} h_1 \\\\ h_2 \\end{bmatrix} = \\begin{bmatrix}\n",
    "x_{gps, k} \\\\\n",
    "y_{gps, k}\n",
    "\\end{bmatrix}$$"
   ]
  },
  {
   "cell_type": "markdown",
   "id": "6f4fbb37",
   "metadata": {},
   "source": [
    "$\\mathbf{H}_k$ é a matriz Jacobiana de $h(x_{k})$ com relação ao vetor de estados."
   ]
  },
  {
   "cell_type": "markdown",
   "id": "33f35885",
   "metadata": {},
   "source": [
    "$$\\mathbf{H}_k = \\frac{\\partial h(x_{k})}{\\partial x_{k-1}} \\implies \\mathbf{H}_k = \\begin{bmatrix}\n",
    "\\frac{\\partial h_1}{\\partial x} & \n",
    "\\frac{\\partial h_1}{\\partial y} &\n",
    "\\frac{\\partial h_1}{\\partial \\theta} & \n",
    "\\frac{\\partial h_1}{\\partial v}\\\\\n",
    "\\frac{\\partial h_2}{\\partial x} & \n",
    "\\frac{\\partial h_2}{\\partial y} &\n",
    "\\frac{\\partial h_2}{\\partial \\theta} & \n",
    "\\frac{\\partial h_2}{\\partial v} \\\\\n",
    "\\end{bmatrix}$$"
   ]
  },
  {
   "cell_type": "markdown",
   "id": "4689a470",
   "metadata": {},
   "source": [
    "$$ \\mathbf{H}_{k} = \\begin{bmatrix}\n",
    "1 & 0 & 0 & 0\\\\\n",
    "0 & 1 & 0 & 0\n",
    "\\end{bmatrix}$$"
   ]
  },
  {
   "cell_type": "markdown",
   "id": "37654552",
   "metadata": {},
   "source": [
    "## Esperança do sistema sensorial linearizado"
   ]
  },
  {
   "cell_type": "markdown",
   "id": "41888500",
   "metadata": {},
   "source": [
    "$$\\mathbf{h}_{k|k-1} = \\begin{bmatrix}\n",
    "x_{gps, k|k-1} \\\\\n",
    "y_{gps, k|k-1}\n",
    "\\end{bmatrix}$$"
   ]
  },
  {
   "cell_type": "markdown",
   "id": "46ed9a67",
   "metadata": {},
   "source": [
    "## Matriz de covariância do sensor"
   ]
  },
  {
   "cell_type": "markdown",
   "id": "12408437",
   "metadata": {},
   "source": [
    "$$ \\mathbf{R} = \\begin{bmatrix}\n",
    "\\sigma_{zx}^{2} & 0 \\\\\n",
    "0 & \n",
    "\\sigma_{zy}^{2}\n",
    "\\end{bmatrix}$$"
   ]
  },
  {
   "cell_type": "markdown",
   "id": "62a6b724",
   "metadata": {},
   "source": [
    "## Matriz identidade"
   ]
  },
  {
   "cell_type": "markdown",
   "id": "548cf186",
   "metadata": {},
   "source": [
    "$$\\mathbf{I} = \\begin{bmatrix}\n",
    "1 & 0 & 0 & 0\\\\\n",
    "0 & 1 & 0 & 0\\\\\n",
    "0 & 0 & 1 & 0\\\\\n",
    "0 & 0 & 0 & 1\n",
    "\\end{bmatrix}$$"
   ]
  },
  {
   "cell_type": "markdown",
   "id": "193c1562",
   "metadata": {},
   "source": [
    "# Equações de previsão das esperanças"
   ]
  },
  {
   "cell_type": "markdown",
   "id": "a0cb74d5",
   "metadata": {},
   "source": [
    "### Leitura do sistema sensorial"
   ]
  },
  {
   "cell_type": "markdown",
   "id": "e20cc242",
   "metadata": {},
   "source": [
    "$$ \\mathbf{z}_{k} = \\begin{bmatrix}\n",
    "x_{gps,k} \\\\\n",
    "y_{gps,k}\n",
    "\\end{bmatrix} $$ "
   ]
  },
  {
   "cell_type": "markdown",
   "id": "07d5ee7f",
   "metadata": {},
   "source": [
    "### Estimativa do vetor de estados"
   ]
  },
  {
   "cell_type": "markdown",
   "id": "c4a3b536",
   "metadata": {},
   "source": [
    "$$ \\mathbf{x}_k = \\mathbf{x}_{k-1} + \\begin{bmatrix} v_{k-1}\\cdot\\cos(\\theta_{k-1})\\cdot \\Delta t \\\\ v_{k-1}\\cdot\\sin(\\theta_{k-1})\\cdot \\Delta t \\\\ \\psi_{k-1}\\cdot \\Delta t \\\\ ax_{k-1}\\cdot \\Delta t \\end{bmatrix} $$"
   ]
  },
  {
   "cell_type": "markdown",
   "id": "981e49c5",
   "metadata": {},
   "source": [
    "### Estimativa da covariância de erro"
   ]
  },
  {
   "cell_type": "markdown",
   "id": "5fe90c47",
   "metadata": {},
   "source": [
    "$$ \\mathbf{P}_{k|k-1} = \\mathbf{F}_{k}\\mathbf{P}_{k-1|k-1}\\mathbf{F}_{k}^{T} + \\mathbf{G}_{k}\\mathbf{M}_{k-1}\\mathbf{G}_{k}^{T} + \\mathbf{Q}_{k} $$"
   ]
  },
  {
   "cell_type": "markdown",
   "id": "ea9f2110",
   "metadata": {},
   "source": [
    "### Esperança do sistema sensorial"
   ]
  },
  {
   "cell_type": "markdown",
   "id": "3fdb040e",
   "metadata": {},
   "source": [
    "$$\\mathbf{h}_{k|k-1} = \\begin{bmatrix}\n",
    "x_{gps, k|k-1} \\\\\n",
    "y_{gps, k|k-1}\n",
    "\\end{bmatrix}$$"
   ]
  },
  {
   "cell_type": "markdown",
   "id": "dfad62ab",
   "metadata": {},
   "source": [
    "# Equações de correção das esperanças"
   ]
  },
  {
   "cell_type": "markdown",
   "id": "2f28f70b",
   "metadata": {},
   "source": [
    "### Ganho de Kalman"
   ]
  },
  {
   "cell_type": "markdown",
   "id": "feab59f7",
   "metadata": {},
   "source": [
    "Método dos mínimos quadrados."
   ]
  },
  {
   "cell_type": "markdown",
   "id": "97f78150",
   "metadata": {},
   "source": [
    "$$ \\mathbf{K}_{k} = \\mathbf{P}_{k|k-1}\\mathbf{H}_{k}^{T}(\\mathbf{H}_{k}\\mathbf{P}_{k|k-1}\\mathbf{H}_{k}^{T} + \\mathbf{R}_{k})^{-1} $$"
   ]
  },
  {
   "cell_type": "markdown",
   "id": "58cfc31a",
   "metadata": {},
   "source": [
    "### Correção do vetor de estados"
   ]
  },
  {
   "cell_type": "markdown",
   "id": "6762408a",
   "metadata": {},
   "source": [
    "$$ \\mathbf{x}_{k|k} = \\mathbf{x}_{k|k-1} + \\mathbf{K}_{k}(\\mathbf{z}_{k}-\\mathbf{h}_{k|k-1}) $$"
   ]
  },
  {
   "cell_type": "markdown",
   "id": "c3f17505",
   "metadata": {},
   "source": [
    "### Correção da covariância do erro"
   ]
  },
  {
   "cell_type": "markdown",
   "id": "556e5cbd",
   "metadata": {},
   "source": [
    "$$ \\mathbf{P}_{k|k} = (\\mathbf{I} - \\mathbf{K}_{k}\\mathbf{H}_{k})\\mathbf{P}_{k|k-1} $$"
   ]
  },
  {
   "cell_type": "markdown",
   "id": "1919cbbf",
   "metadata": {},
   "source": [
    "# Conjunto de dados"
   ]
  },
  {
   "cell_type": "code",
   "execution_count": 186,
   "id": "799b7968",
   "metadata": {},
   "outputs": [],
   "source": [
    "#dt = 1.0/50.0\n",
    "dt = 1.0"
   ]
  },
  {
   "cell_type": "code",
   "execution_count": 187,
   "id": "816fa0f1",
   "metadata": {},
   "outputs": [
    {
     "data": {
      "text/html": [
       "<div>\n",
       "<style scoped>\n",
       "    .dataframe tbody tr th:only-of-type {\n",
       "        vertical-align: middle;\n",
       "    }\n",
       "\n",
       "    .dataframe tbody tr th {\n",
       "        vertical-align: top;\n",
       "    }\n",
       "\n",
       "    .dataframe thead th {\n",
       "        text-align: right;\n",
       "    }\n",
       "</style>\n",
       "<table border=\"1\" class=\"dataframe\">\n",
       "  <thead>\n",
       "    <tr style=\"text-align: right;\">\n",
       "      <th></th>\n",
       "      <th>timestamp</th>\n",
       "      <th>location_x</th>\n",
       "      <th>location_y</th>\n",
       "      <th>location_z</th>\n",
       "      <th>velocity_x</th>\n",
       "      <th>velocity_y</th>\n",
       "      <th>velocity_z</th>\n",
       "      <th>acceleration_x</th>\n",
       "      <th>acceleration_y</th>\n",
       "      <th>acceleration_z</th>\n",
       "      <th>...</th>\n",
       "      <th>rotation_pitch</th>\n",
       "      <th>rotation_yaw</th>\n",
       "      <th>rotation_roll</th>\n",
       "      <th>control_throttle</th>\n",
       "      <th>control_steer</th>\n",
       "      <th>control_brake</th>\n",
       "      <th>control_hand_brake</th>\n",
       "      <th>control_reverse</th>\n",
       "      <th>control_manual_gear_shift</th>\n",
       "      <th>control_gear</th>\n",
       "    </tr>\n",
       "  </thead>\n",
       "  <tbody>\n",
       "    <tr>\n",
       "      <th>0</th>\n",
       "      <td>1.679943e+07</td>\n",
       "      <td>-85.146782</td>\n",
       "      <td>-103.282524</td>\n",
       "      <td>-0.441857</td>\n",
       "      <td>1.578113e-06</td>\n",
       "      <td>0.000059</td>\n",
       "      <td>0.000577</td>\n",
       "      <td>0.000017</td>\n",
       "      <td>0.000608</td>\n",
       "      <td>0.026096</td>\n",
       "      <td>...</td>\n",
       "      <td>-1.311492</td>\n",
       "      <td>89.843353</td>\n",
       "      <td>-0.000458</td>\n",
       "      <td>0.700000</td>\n",
       "      <td>0.000001</td>\n",
       "      <td>0.0</td>\n",
       "      <td>False</td>\n",
       "      <td>False</td>\n",
       "      <td>False</td>\n",
       "      <td>0</td>\n",
       "    </tr>\n",
       "    <tr>\n",
       "      <th>1</th>\n",
       "      <td>1.679943e+07</td>\n",
       "      <td>-85.146782</td>\n",
       "      <td>-103.282524</td>\n",
       "      <td>-0.441870</td>\n",
       "      <td>1.038287e-06</td>\n",
       "      <td>0.000041</td>\n",
       "      <td>0.000023</td>\n",
       "      <td>-0.000014</td>\n",
       "      <td>-0.000464</td>\n",
       "      <td>-0.014681</td>\n",
       "      <td>...</td>\n",
       "      <td>-1.311492</td>\n",
       "      <td>89.843353</td>\n",
       "      <td>-0.000458</td>\n",
       "      <td>0.700000</td>\n",
       "      <td>0.000001</td>\n",
       "      <td>0.0</td>\n",
       "      <td>False</td>\n",
       "      <td>False</td>\n",
       "      <td>False</td>\n",
       "      <td>0</td>\n",
       "    </tr>\n",
       "    <tr>\n",
       "      <th>2</th>\n",
       "      <td>1.679943e+07</td>\n",
       "      <td>-85.146782</td>\n",
       "      <td>-103.282524</td>\n",
       "      <td>-0.441840</td>\n",
       "      <td>9.610975e-07</td>\n",
       "      <td>0.000060</td>\n",
       "      <td>0.000810</td>\n",
       "      <td>-0.000002</td>\n",
       "      <td>0.000409</td>\n",
       "      <td>0.017111</td>\n",
       "      <td>...</td>\n",
       "      <td>-1.311492</td>\n",
       "      <td>89.843353</td>\n",
       "      <td>-0.000458</td>\n",
       "      <td>0.700000</td>\n",
       "      <td>0.000001</td>\n",
       "      <td>0.0</td>\n",
       "      <td>False</td>\n",
       "      <td>False</td>\n",
       "      <td>False</td>\n",
       "      <td>0</td>\n",
       "    </tr>\n",
       "    <tr>\n",
       "      <th>3</th>\n",
       "      <td>1.679943e+07</td>\n",
       "      <td>-85.146782</td>\n",
       "      <td>-103.282524</td>\n",
       "      <td>-0.441801</td>\n",
       "      <td>1.529250e-06</td>\n",
       "      <td>0.000054</td>\n",
       "      <td>0.000673</td>\n",
       "      <td>0.000004</td>\n",
       "      <td>-0.000044</td>\n",
       "      <td>-0.000974</td>\n",
       "      <td>...</td>\n",
       "      <td>-1.311492</td>\n",
       "      <td>89.843353</td>\n",
       "      <td>-0.000458</td>\n",
       "      <td>0.700000</td>\n",
       "      <td>0.000001</td>\n",
       "      <td>0.0</td>\n",
       "      <td>False</td>\n",
       "      <td>False</td>\n",
       "      <td>False</td>\n",
       "      <td>0</td>\n",
       "    </tr>\n",
       "    <tr>\n",
       "      <th>4</th>\n",
       "      <td>1.679943e+07</td>\n",
       "      <td>-85.146782</td>\n",
       "      <td>-103.282524</td>\n",
       "      <td>-0.441778</td>\n",
       "      <td>1.223036e-06</td>\n",
       "      <td>0.000066</td>\n",
       "      <td>0.001124</td>\n",
       "      <td>-0.000016</td>\n",
       "      <td>0.000614</td>\n",
       "      <td>0.023477</td>\n",
       "      <td>...</td>\n",
       "      <td>-1.311492</td>\n",
       "      <td>89.843353</td>\n",
       "      <td>-0.000458</td>\n",
       "      <td>0.700000</td>\n",
       "      <td>0.000001</td>\n",
       "      <td>0.0</td>\n",
       "      <td>False</td>\n",
       "      <td>False</td>\n",
       "      <td>False</td>\n",
       "      <td>0</td>\n",
       "    </tr>\n",
       "    <tr>\n",
       "      <th>...</th>\n",
       "      <td>...</td>\n",
       "      <td>...</td>\n",
       "      <td>...</td>\n",
       "      <td>...</td>\n",
       "      <td>...</td>\n",
       "      <td>...</td>\n",
       "      <td>...</td>\n",
       "      <td>...</td>\n",
       "      <td>...</td>\n",
       "      <td>...</td>\n",
       "      <td>...</td>\n",
       "      <td>...</td>\n",
       "      <td>...</td>\n",
       "      <td>...</td>\n",
       "      <td>...</td>\n",
       "      <td>...</td>\n",
       "      <td>...</td>\n",
       "      <td>...</td>\n",
       "      <td>...</td>\n",
       "      <td>...</td>\n",
       "      <td>...</td>\n",
       "    </tr>\n",
       "    <tr>\n",
       "      <th>8109</th>\n",
       "      <td>1.679974e+07</td>\n",
       "      <td>81.048576</td>\n",
       "      <td>-123.250946</td>\n",
       "      <td>8.001258</td>\n",
       "      <td>4.128652e-01</td>\n",
       "      <td>4.865676</td>\n",
       "      <td>0.001186</td>\n",
       "      <td>-0.825740</td>\n",
       "      <td>0.048184</td>\n",
       "      <td>-0.041281</td>\n",
       "      <td>...</td>\n",
       "      <td>0.006864</td>\n",
       "      <td>80.988579</td>\n",
       "      <td>-0.057404</td>\n",
       "      <td>0.375353</td>\n",
       "      <td>0.129049</td>\n",
       "      <td>0.0</td>\n",
       "      <td>False</td>\n",
       "      <td>False</td>\n",
       "      <td>False</td>\n",
       "      <td>1</td>\n",
       "    </tr>\n",
       "    <tr>\n",
       "      <th>8110</th>\n",
       "      <td>1.679974e+07</td>\n",
       "      <td>81.091530</td>\n",
       "      <td>-122.765289</td>\n",
       "      <td>8.001401</td>\n",
       "      <td>3.044596e-01</td>\n",
       "      <td>4.869648</td>\n",
       "      <td>0.001249</td>\n",
       "      <td>-0.704236</td>\n",
       "      <td>0.025797</td>\n",
       "      <td>0.000407</td>\n",
       "      <td>...</td>\n",
       "      <td>0.002384</td>\n",
       "      <td>82.295357</td>\n",
       "      <td>-0.057343</td>\n",
       "      <td>0.375353</td>\n",
       "      <td>0.129875</td>\n",
       "      <td>0.0</td>\n",
       "      <td>False</td>\n",
       "      <td>False</td>\n",
       "      <td>False</td>\n",
       "      <td>1</td>\n",
       "    </tr>\n",
       "    <tr>\n",
       "      <th>8111</th>\n",
       "      <td>1.679974e+07</td>\n",
       "      <td>81.096222</td>\n",
       "      <td>-122.704918</td>\n",
       "      <td>8.001467</td>\n",
       "      <td>3.032143e-01</td>\n",
       "      <td>4.869999</td>\n",
       "      <td>0.004871</td>\n",
       "      <td>-0.100246</td>\n",
       "      <td>0.028328</td>\n",
       "      <td>0.291548</td>\n",
       "      <td>...</td>\n",
       "      <td>0.001981</td>\n",
       "      <td>82.452461</td>\n",
       "      <td>-0.056854</td>\n",
       "      <td>0.377455</td>\n",
       "      <td>0.114974</td>\n",
       "      <td>0.0</td>\n",
       "      <td>False</td>\n",
       "      <td>False</td>\n",
       "      <td>False</td>\n",
       "      <td>1</td>\n",
       "    </tr>\n",
       "    <tr>\n",
       "      <th>8112</th>\n",
       "      <td>1.679974e+07</td>\n",
       "      <td>81.099030</td>\n",
       "      <td>-122.667801</td>\n",
       "      <td>8.001493</td>\n",
       "      <td>2.949861e-01</td>\n",
       "      <td>4.870194</td>\n",
       "      <td>0.003148</td>\n",
       "      <td>-1.077298</td>\n",
       "      <td>0.025472</td>\n",
       "      <td>-0.225535</td>\n",
       "      <td>...</td>\n",
       "      <td>0.001749</td>\n",
       "      <td>82.548332</td>\n",
       "      <td>-0.056549</td>\n",
       "      <td>0.375773</td>\n",
       "      <td>0.125267</td>\n",
       "      <td>0.0</td>\n",
       "      <td>False</td>\n",
       "      <td>False</td>\n",
       "      <td>False</td>\n",
       "      <td>1</td>\n",
       "    </tr>\n",
       "    <tr>\n",
       "      <th>8113</th>\n",
       "      <td>1.679974e+07</td>\n",
       "      <td>81.105072</td>\n",
       "      <td>-122.587242</td>\n",
       "      <td>8.001530</td>\n",
       "      <td>2.931487e-01</td>\n",
       "      <td>4.870576</td>\n",
       "      <td>0.002019</td>\n",
       "      <td>-0.110877</td>\n",
       "      <td>0.023077</td>\n",
       "      <td>-0.068153</td>\n",
       "      <td>...</td>\n",
       "      <td>0.001284</td>\n",
       "      <td>82.748047</td>\n",
       "      <td>-0.054962</td>\n",
       "      <td>0.377159</td>\n",
       "      <td>0.110408</td>\n",
       "      <td>0.0</td>\n",
       "      <td>False</td>\n",
       "      <td>False</td>\n",
       "      <td>False</td>\n",
       "      <td>1</td>\n",
       "    </tr>\n",
       "  </tbody>\n",
       "</table>\n",
       "<p>8114 rows × 23 columns</p>\n",
       "</div>"
      ],
      "text/plain": [
       "         timestamp  location_x  location_y  location_z    velocity_x  \\\n",
       "0     1.679943e+07  -85.146782 -103.282524   -0.441857  1.578113e-06   \n",
       "1     1.679943e+07  -85.146782 -103.282524   -0.441870  1.038287e-06   \n",
       "2     1.679943e+07  -85.146782 -103.282524   -0.441840  9.610975e-07   \n",
       "3     1.679943e+07  -85.146782 -103.282524   -0.441801  1.529250e-06   \n",
       "4     1.679943e+07  -85.146782 -103.282524   -0.441778  1.223036e-06   \n",
       "...            ...         ...         ...         ...           ...   \n",
       "8109  1.679974e+07   81.048576 -123.250946    8.001258  4.128652e-01   \n",
       "8110  1.679974e+07   81.091530 -122.765289    8.001401  3.044596e-01   \n",
       "8111  1.679974e+07   81.096222 -122.704918    8.001467  3.032143e-01   \n",
       "8112  1.679974e+07   81.099030 -122.667801    8.001493  2.949861e-01   \n",
       "8113  1.679974e+07   81.105072 -122.587242    8.001530  2.931487e-01   \n",
       "\n",
       "      velocity_y  velocity_z  acceleration_x  acceleration_y  acceleration_z  \\\n",
       "0       0.000059    0.000577        0.000017        0.000608        0.026096   \n",
       "1       0.000041    0.000023       -0.000014       -0.000464       -0.014681   \n",
       "2       0.000060    0.000810       -0.000002        0.000409        0.017111   \n",
       "3       0.000054    0.000673        0.000004       -0.000044       -0.000974   \n",
       "4       0.000066    0.001124       -0.000016        0.000614        0.023477   \n",
       "...          ...         ...             ...             ...             ...   \n",
       "8109    4.865676    0.001186       -0.825740        0.048184       -0.041281   \n",
       "8110    4.869648    0.001249       -0.704236        0.025797        0.000407   \n",
       "8111    4.869999    0.004871       -0.100246        0.028328        0.291548   \n",
       "8112    4.870194    0.003148       -1.077298        0.025472       -0.225535   \n",
       "8113    4.870576    0.002019       -0.110877        0.023077       -0.068153   \n",
       "\n",
       "      ...  rotation_pitch  rotation_yaw  rotation_roll  control_throttle  \\\n",
       "0     ...       -1.311492     89.843353      -0.000458          0.700000   \n",
       "1     ...       -1.311492     89.843353      -0.000458          0.700000   \n",
       "2     ...       -1.311492     89.843353      -0.000458          0.700000   \n",
       "3     ...       -1.311492     89.843353      -0.000458          0.700000   \n",
       "4     ...       -1.311492     89.843353      -0.000458          0.700000   \n",
       "...   ...             ...           ...            ...               ...   \n",
       "8109  ...        0.006864     80.988579      -0.057404          0.375353   \n",
       "8110  ...        0.002384     82.295357      -0.057343          0.375353   \n",
       "8111  ...        0.001981     82.452461      -0.056854          0.377455   \n",
       "8112  ...        0.001749     82.548332      -0.056549          0.375773   \n",
       "8113  ...        0.001284     82.748047      -0.054962          0.377159   \n",
       "\n",
       "      control_steer  control_brake  control_hand_brake  control_reverse  \\\n",
       "0          0.000001            0.0               False            False   \n",
       "1          0.000001            0.0               False            False   \n",
       "2          0.000001            0.0               False            False   \n",
       "3          0.000001            0.0               False            False   \n",
       "4          0.000001            0.0               False            False   \n",
       "...             ...            ...                 ...              ...   \n",
       "8109       0.129049            0.0               False            False   \n",
       "8110       0.129875            0.0               False            False   \n",
       "8111       0.114974            0.0               False            False   \n",
       "8112       0.125267            0.0               False            False   \n",
       "8113       0.110408            0.0               False            False   \n",
       "\n",
       "      control_manual_gear_shift  control_gear  \n",
       "0                         False             0  \n",
       "1                         False             0  \n",
       "2                         False             0  \n",
       "3                         False             0  \n",
       "4                         False             0  \n",
       "...                         ...           ...  \n",
       "8109                      False             1  \n",
       "8110                      False             1  \n",
       "8111                      False             1  \n",
       "8112                      False             1  \n",
       "8113                      False             1  \n",
       "\n",
       "[8114 rows x 23 columns]"
      ]
     },
     "execution_count": 187,
     "metadata": {},
     "output_type": "execute_result"
    }
   ],
   "source": [
    "data1 = \"tabelas_ajustadas/1_pos.csv\"\n",
    "data1 = pd.read_csv(data1, sep=',')\n",
    "data1"
   ]
  },
  {
   "cell_type": "code",
   "execution_count": 188,
   "id": "184eba2a",
   "metadata": {},
   "outputs": [],
   "source": [
    "speed = data1['velocity_x']\n",
    "steering = data1['control_steer']\n",
    "angular_velocity = data1['angular_velocity_x']"
   ]
  },
  {
   "cell_type": "code",
   "execution_count": 189,
   "id": "ff7f303d",
   "metadata": {},
   "outputs": [
    {
     "data": {
      "text/html": [
       "<div>\n",
       "<style scoped>\n",
       "    .dataframe tbody tr th:only-of-type {\n",
       "        vertical-align: middle;\n",
       "    }\n",
       "\n",
       "    .dataframe tbody tr th {\n",
       "        vertical-align: top;\n",
       "    }\n",
       "\n",
       "    .dataframe thead th {\n",
       "        text-align: right;\n",
       "    }\n",
       "</style>\n",
       "<table border=\"1\" class=\"dataframe\">\n",
       "  <thead>\n",
       "    <tr style=\"text-align: right;\">\n",
       "      <th></th>\n",
       "      <th>timestamp</th>\n",
       "      <th>latitude</th>\n",
       "      <th>longitude</th>\n",
       "      <th>altitude</th>\n",
       "    </tr>\n",
       "  </thead>\n",
       "  <tbody>\n",
       "    <tr>\n",
       "      <th>0</th>\n",
       "      <td>1.679943e+07</td>\n",
       "      <td>0.000928</td>\n",
       "      <td>-0.000765</td>\n",
       "      <td>-0.441857</td>\n",
       "    </tr>\n",
       "    <tr>\n",
       "      <th>1</th>\n",
       "      <td>1.679943e+07</td>\n",
       "      <td>0.000928</td>\n",
       "      <td>-0.000765</td>\n",
       "      <td>-0.441870</td>\n",
       "    </tr>\n",
       "    <tr>\n",
       "      <th>2</th>\n",
       "      <td>1.679943e+07</td>\n",
       "      <td>0.000928</td>\n",
       "      <td>-0.000765</td>\n",
       "      <td>-0.441840</td>\n",
       "    </tr>\n",
       "    <tr>\n",
       "      <th>3</th>\n",
       "      <td>1.679943e+07</td>\n",
       "      <td>0.000928</td>\n",
       "      <td>-0.000765</td>\n",
       "      <td>-0.441801</td>\n",
       "    </tr>\n",
       "    <tr>\n",
       "      <th>4</th>\n",
       "      <td>1.679943e+07</td>\n",
       "      <td>0.000928</td>\n",
       "      <td>-0.000765</td>\n",
       "      <td>-0.441778</td>\n",
       "    </tr>\n",
       "    <tr>\n",
       "      <th>...</th>\n",
       "      <td>...</td>\n",
       "      <td>...</td>\n",
       "      <td>...</td>\n",
       "      <td>...</td>\n",
       "    </tr>\n",
       "    <tr>\n",
       "      <th>8109</th>\n",
       "      <td>1.679974e+07</td>\n",
       "      <td>0.001107</td>\n",
       "      <td>0.000728</td>\n",
       "      <td>8.001258</td>\n",
       "    </tr>\n",
       "    <tr>\n",
       "      <th>8110</th>\n",
       "      <td>1.679974e+07</td>\n",
       "      <td>0.001103</td>\n",
       "      <td>0.000728</td>\n",
       "      <td>8.001401</td>\n",
       "    </tr>\n",
       "    <tr>\n",
       "      <th>8111</th>\n",
       "      <td>1.679974e+07</td>\n",
       "      <td>0.001102</td>\n",
       "      <td>0.000728</td>\n",
       "      <td>8.001467</td>\n",
       "    </tr>\n",
       "    <tr>\n",
       "      <th>8112</th>\n",
       "      <td>1.679974e+07</td>\n",
       "      <td>0.001102</td>\n",
       "      <td>0.000729</td>\n",
       "      <td>8.001493</td>\n",
       "    </tr>\n",
       "    <tr>\n",
       "      <th>8113</th>\n",
       "      <td>1.679974e+07</td>\n",
       "      <td>0.001101</td>\n",
       "      <td>0.000729</td>\n",
       "      <td>8.001530</td>\n",
       "    </tr>\n",
       "  </tbody>\n",
       "</table>\n",
       "<p>8114 rows × 4 columns</p>\n",
       "</div>"
      ],
      "text/plain": [
       "         timestamp  latitude  longitude  altitude\n",
       "0     1.679943e+07  0.000928  -0.000765 -0.441857\n",
       "1     1.679943e+07  0.000928  -0.000765 -0.441870\n",
       "2     1.679943e+07  0.000928  -0.000765 -0.441840\n",
       "3     1.679943e+07  0.000928  -0.000765 -0.441801\n",
       "4     1.679943e+07  0.000928  -0.000765 -0.441778\n",
       "...            ...       ...        ...       ...\n",
       "8109  1.679974e+07  0.001107   0.000728  8.001258\n",
       "8110  1.679974e+07  0.001103   0.000728  8.001401\n",
       "8111  1.679974e+07  0.001102   0.000728  8.001467\n",
       "8112  1.679974e+07  0.001102   0.000729  8.001493\n",
       "8113  1.679974e+07  0.001101   0.000729  8.001530\n",
       "\n",
       "[8114 rows x 4 columns]"
      ]
     },
     "execution_count": 189,
     "metadata": {},
     "output_type": "execute_result"
    }
   ],
   "source": [
    "data2 = \"tabelas_ajustadas/2_gnssGT.csv\"\n",
    "data2 = pd.read_csv(data2, sep=',')\n",
    "data2"
   ]
  },
  {
   "cell_type": "code",
   "execution_count": 190,
   "id": "fd3e7e0c",
   "metadata": {},
   "outputs": [],
   "source": [
    "gt_time = data2['timestamp'] \n",
    "latitudeGT = data2['latitude'] # deg\n",
    "longitudeGT = data2['longitude'] # deg\n",
    "altitudeGT = data2['altitude'] # m"
   ]
  },
  {
   "cell_type": "code",
   "execution_count": 191,
   "id": "3f5cd719",
   "metadata": {},
   "outputs": [
    {
     "data": {
      "text/html": [
       "<div>\n",
       "<style scoped>\n",
       "    .dataframe tbody tr th:only-of-type {\n",
       "        vertical-align: middle;\n",
       "    }\n",
       "\n",
       "    .dataframe tbody tr th {\n",
       "        vertical-align: top;\n",
       "    }\n",
       "\n",
       "    .dataframe thead th {\n",
       "        text-align: right;\n",
       "    }\n",
       "</style>\n",
       "<table border=\"1\" class=\"dataframe\">\n",
       "  <thead>\n",
       "    <tr style=\"text-align: right;\">\n",
       "      <th></th>\n",
       "      <th>timestamp</th>\n",
       "      <th>latitude</th>\n",
       "      <th>longitude</th>\n",
       "      <th>altitude</th>\n",
       "    </tr>\n",
       "  </thead>\n",
       "  <tbody>\n",
       "    <tr>\n",
       "      <th>0</th>\n",
       "      <td>16799433.86</td>\n",
       "      <td>0.000922</td>\n",
       "      <td>-0.000764</td>\n",
       "      <td>-0.441871</td>\n",
       "    </tr>\n",
       "    <tr>\n",
       "      <th>1</th>\n",
       "      <td>16799434.08</td>\n",
       "      <td>0.000937</td>\n",
       "      <td>-0.000767</td>\n",
       "      <td>-0.441835</td>\n",
       "    </tr>\n",
       "    <tr>\n",
       "      <th>2</th>\n",
       "      <td>16799434.08</td>\n",
       "      <td>0.000925</td>\n",
       "      <td>-0.000764</td>\n",
       "      <td>-0.441799</td>\n",
       "    </tr>\n",
       "    <tr>\n",
       "      <th>3</th>\n",
       "      <td>16799434.08</td>\n",
       "      <td>0.000929</td>\n",
       "      <td>-0.000768</td>\n",
       "      <td>-0.441776</td>\n",
       "    </tr>\n",
       "    <tr>\n",
       "      <th>4</th>\n",
       "      <td>16799434.10</td>\n",
       "      <td>0.000925</td>\n",
       "      <td>-0.000766</td>\n",
       "      <td>-0.441760</td>\n",
       "    </tr>\n",
       "    <tr>\n",
       "      <th>...</th>\n",
       "      <td>...</td>\n",
       "      <td>...</td>\n",
       "      <td>...</td>\n",
       "      <td>...</td>\n",
       "    </tr>\n",
       "    <tr>\n",
       "      <th>8109</th>\n",
       "      <td>16799740.12</td>\n",
       "      <td>0.001100</td>\n",
       "      <td>0.000732</td>\n",
       "      <td>8.001399</td>\n",
       "    </tr>\n",
       "    <tr>\n",
       "      <th>8110</th>\n",
       "      <td>16799740.12</td>\n",
       "      <td>0.001096</td>\n",
       "      <td>0.000723</td>\n",
       "      <td>8.001461</td>\n",
       "    </tr>\n",
       "    <tr>\n",
       "      <th>8111</th>\n",
       "      <td>16799740.13</td>\n",
       "      <td>0.001092</td>\n",
       "      <td>0.000733</td>\n",
       "      <td>8.001496</td>\n",
       "    </tr>\n",
       "    <tr>\n",
       "      <th>8112</th>\n",
       "      <td>16799740.13</td>\n",
       "      <td>0.001098</td>\n",
       "      <td>0.000724</td>\n",
       "      <td>8.001533</td>\n",
       "    </tr>\n",
       "    <tr>\n",
       "      <th>8113</th>\n",
       "      <td>16799740.15</td>\n",
       "      <td>0.001090</td>\n",
       "      <td>0.000733</td>\n",
       "      <td>8.001600</td>\n",
       "    </tr>\n",
       "  </tbody>\n",
       "</table>\n",
       "<p>8114 rows × 4 columns</p>\n",
       "</div>"
      ],
      "text/plain": [
       "        timestamp  latitude  longitude  altitude\n",
       "0     16799433.86  0.000922  -0.000764 -0.441871\n",
       "1     16799434.08  0.000937  -0.000767 -0.441835\n",
       "2     16799434.08  0.000925  -0.000764 -0.441799\n",
       "3     16799434.08  0.000929  -0.000768 -0.441776\n",
       "4     16799434.10  0.000925  -0.000766 -0.441760\n",
       "...           ...       ...        ...       ...\n",
       "8109  16799740.12  0.001100   0.000732  8.001399\n",
       "8110  16799740.12  0.001096   0.000723  8.001461\n",
       "8111  16799740.13  0.001092   0.000733  8.001496\n",
       "8112  16799740.13  0.001098   0.000724  8.001533\n",
       "8113  16799740.15  0.001090   0.000733  8.001600\n",
       "\n",
       "[8114 rows x 4 columns]"
      ]
     },
     "execution_count": 191,
     "metadata": {},
     "output_type": "execute_result"
    }
   ],
   "source": [
    "data3 = \"tabelas_ajustadas/3_gnss.csv\"\n",
    "data3 = pd.read_csv(data3, sep=',')\n",
    "data3"
   ]
  },
  {
   "cell_type": "code",
   "execution_count": 192,
   "id": "291e3114",
   "metadata": {},
   "outputs": [],
   "source": [
    "gnss_time = data3['timestamp']\n",
    "latitude = data3['latitude'] # deg\n",
    "longitude = data3['longitude'] # deg\n",
    "altitude = data3['altitude'] # m"
   ]
  },
  {
   "cell_type": "code",
   "execution_count": 193,
   "id": "e7a3887f",
   "metadata": {},
   "outputs": [
    {
     "data": {
      "text/html": [
       "<div>\n",
       "<style scoped>\n",
       "    .dataframe tbody tr th:only-of-type {\n",
       "        vertical-align: middle;\n",
       "    }\n",
       "\n",
       "    .dataframe tbody tr th {\n",
       "        vertical-align: top;\n",
       "    }\n",
       "\n",
       "    .dataframe thead th {\n",
       "        text-align: right;\n",
       "    }\n",
       "</style>\n",
       "<table border=\"1\" class=\"dataframe\">\n",
       "  <thead>\n",
       "    <tr style=\"text-align: right;\">\n",
       "      <th></th>\n",
       "      <th>timestamp</th>\n",
       "      <th>accelerometer_x</th>\n",
       "      <th>accelerometer_y</th>\n",
       "      <th>accelerometer_z</th>\n",
       "      <th>gyroscope_x</th>\n",
       "      <th>gyroscope_y</th>\n",
       "      <th>gyroscope_z</th>\n",
       "      <th>compass</th>\n",
       "    </tr>\n",
       "  </thead>\n",
       "  <tbody>\n",
       "    <tr>\n",
       "      <th>0</th>\n",
       "      <td>16799433.89</td>\n",
       "      <td>3.138852</td>\n",
       "      <td>65407.492190</td>\n",
       "      <td>-53642.152340</td>\n",
       "      <td>1787.065308</td>\n",
       "      <td>0.001816</td>\n",
       "      <td>-0.000373</td>\n",
       "      <td>0.000953</td>\n",
       "    </tr>\n",
       "    <tr>\n",
       "      <th>1</th>\n",
       "      <td>16799434.08</td>\n",
       "      <td>3.138852</td>\n",
       "      <td>-0.226215</td>\n",
       "      <td>0.002268</td>\n",
       "      <td>9.802871</td>\n",
       "      <td>0.000216</td>\n",
       "      <td>-0.000610</td>\n",
       "      <td>0.000407</td>\n",
       "    </tr>\n",
       "    <tr>\n",
       "      <th>2</th>\n",
       "      <td>16799434.10</td>\n",
       "      <td>3.138852</td>\n",
       "      <td>-0.225957</td>\n",
       "      <td>-0.005183</td>\n",
       "      <td>9.819279</td>\n",
       "      <td>0.001243</td>\n",
       "      <td>0.000345</td>\n",
       "      <td>-0.000866</td>\n",
       "    </tr>\n",
       "    <tr>\n",
       "      <th>3</th>\n",
       "      <td>16799434.11</td>\n",
       "      <td>3.138852</td>\n",
       "      <td>-0.306322</td>\n",
       "      <td>-0.000872</td>\n",
       "      <td>9.891557</td>\n",
       "      <td>0.000505</td>\n",
       "      <td>-0.000303</td>\n",
       "      <td>0.000684</td>\n",
       "    </tr>\n",
       "    <tr>\n",
       "      <th>4</th>\n",
       "      <td>16799434.13</td>\n",
       "      <td>3.138852</td>\n",
       "      <td>-0.305110</td>\n",
       "      <td>0.037981</td>\n",
       "      <td>9.870889</td>\n",
       "      <td>0.000531</td>\n",
       "      <td>-0.000226</td>\n",
       "      <td>-0.001670</td>\n",
       "    </tr>\n",
       "    <tr>\n",
       "      <th>...</th>\n",
       "      <td>...</td>\n",
       "      <td>...</td>\n",
       "      <td>...</td>\n",
       "      <td>...</td>\n",
       "      <td>...</td>\n",
       "      <td>...</td>\n",
       "      <td>...</td>\n",
       "      <td>...</td>\n",
       "    </tr>\n",
       "    <tr>\n",
       "      <th>8109</th>\n",
       "      <td>16799740.11</td>\n",
       "      <td>3.007121</td>\n",
       "      <td>-16.899937</td>\n",
       "      <td>0.001446</td>\n",
       "      <td>9.807674</td>\n",
       "      <td>-0.000288</td>\n",
       "      <td>0.001032</td>\n",
       "      <td>0.229767</td>\n",
       "    </tr>\n",
       "    <tr>\n",
       "      <th>8110</th>\n",
       "      <td>16799740.12</td>\n",
       "      <td>3.009863</td>\n",
       "      <td>20.488182</td>\n",
       "      <td>1.528493</td>\n",
       "      <td>9.859890</td>\n",
       "      <td>-0.001105</td>\n",
       "      <td>-0.000005</td>\n",
       "      <td>0.220668</td>\n",
       "    </tr>\n",
       "    <tr>\n",
       "      <th>8111</th>\n",
       "      <td>16799740.12</td>\n",
       "      <td>3.011537</td>\n",
       "      <td>0.033406</td>\n",
       "      <td>0.982472</td>\n",
       "      <td>9.599075</td>\n",
       "      <td>-0.000853</td>\n",
       "      <td>-0.000153</td>\n",
       "      <td>0.218340</td>\n",
       "    </tr>\n",
       "    <tr>\n",
       "      <th>8112</th>\n",
       "      <td>16799740.15</td>\n",
       "      <td>3.015022</td>\n",
       "      <td>0.158652</td>\n",
       "      <td>0.352096</td>\n",
       "      <td>9.702959</td>\n",
       "      <td>-0.002962</td>\n",
       "      <td>0.000119</td>\n",
       "      <td>0.206324</td>\n",
       "    </tr>\n",
       "    <tr>\n",
       "      <th>8113</th>\n",
       "      <td>16799740.21</td>\n",
       "      <td>3.027098</td>\n",
       "      <td>-0.059481</td>\n",
       "      <td>0.570483</td>\n",
       "      <td>9.785469</td>\n",
       "      <td>-0.002068</td>\n",
       "      <td>0.000989</td>\n",
       "      <td>0.191687</td>\n",
       "    </tr>\n",
       "  </tbody>\n",
       "</table>\n",
       "<p>8114 rows × 8 columns</p>\n",
       "</div>"
      ],
      "text/plain": [
       "        timestamp  accelerometer_x  accelerometer_y  accelerometer_z  \\\n",
       "0     16799433.89         3.138852     65407.492190    -53642.152340   \n",
       "1     16799434.08         3.138852        -0.226215         0.002268   \n",
       "2     16799434.10         3.138852        -0.225957        -0.005183   \n",
       "3     16799434.11         3.138852        -0.306322        -0.000872   \n",
       "4     16799434.13         3.138852        -0.305110         0.037981   \n",
       "...           ...              ...              ...              ...   \n",
       "8109  16799740.11         3.007121       -16.899937         0.001446   \n",
       "8110  16799740.12         3.009863        20.488182         1.528493   \n",
       "8111  16799740.12         3.011537         0.033406         0.982472   \n",
       "8112  16799740.15         3.015022         0.158652         0.352096   \n",
       "8113  16799740.21         3.027098        -0.059481         0.570483   \n",
       "\n",
       "      gyroscope_x  gyroscope_y  gyroscope_z   compass  \n",
       "0     1787.065308     0.001816    -0.000373  0.000953  \n",
       "1        9.802871     0.000216    -0.000610  0.000407  \n",
       "2        9.819279     0.001243     0.000345 -0.000866  \n",
       "3        9.891557     0.000505    -0.000303  0.000684  \n",
       "4        9.870889     0.000531    -0.000226 -0.001670  \n",
       "...           ...          ...          ...       ...  \n",
       "8109     9.807674    -0.000288     0.001032  0.229767  \n",
       "8110     9.859890    -0.001105    -0.000005  0.220668  \n",
       "8111     9.599075    -0.000853    -0.000153  0.218340  \n",
       "8112     9.702959    -0.002962     0.000119  0.206324  \n",
       "8113     9.785469    -0.002068     0.000989  0.191687  \n",
       "\n",
       "[8114 rows x 8 columns]"
      ]
     },
     "execution_count": 193,
     "metadata": {},
     "output_type": "execute_result"
    }
   ],
   "source": [
    "data4 = \"tabelas_ajustadas/4_imu.csv\"\n",
    "data4 = pd.read_csv(data4, sep=',')\n",
    "data4"
   ]
  },
  {
   "cell_type": "code",
   "execution_count": 194,
   "id": "977f7953",
   "metadata": {},
   "outputs": [],
   "source": [
    "imu_time = data4['timestamp']\n",
    "acceleration = data4['accelerometer_x'] # m/s^2\n",
    "\n",
    "#pitch = data4['gyroscope_y'] # rad/s\n",
    "yawrate = data4['gyroscope_z'] # rad/s\n",
    "#roll = data4['gyroscope_x'] # rad/s\n",
    "\n",
    "zenith = data4['compass'] # rad\n",
    "\n",
    "# (pitch, yaw, roll) = (Y-rotation,Z-rotation,X-rotation)"
   ]
  },
  {
   "cell_type": "markdown",
   "id": "43dd3e14",
   "metadata": {},
   "source": [
    "## Heading a partir do Yawrate"
   ]
  },
  {
   "cell_type": "code",
   "execution_count": 195,
   "id": "4d29d3a1",
   "metadata": {},
   "outputs": [
    {
     "name": "stdout",
     "output_type": "stream",
     "text": [
      "DescribeResult(nobs=8114, minmax=(1.1364151012507e-311, 6.249320250179586), mean=0.00573275012020695, variance=0.009933990361104815, skewness=60.2924473319255, kurtosis=3748.84286486899)\n"
     ]
    }
   ],
   "source": [
    "course = np.array([yawrate[0] * dt])\n",
    "n = yawrate.shape[0] - 1\n",
    "for step in range(n):\n",
    "    course = np.append(course, (course[step] + yawrate[step+1] * dt + np.pi) % (2.0*np.pi) - np.pi)\n",
    "\n",
    "# Análise    \n",
    "lim = course.shape[0] - 1\n",
    "l1 = np.empty_like(course)\n",
    "for i in range(1,lim):\n",
    "    l1[i-1] = course[i]-course[i-1]\n",
    "\n",
    "l1 = np.absolute(l1)\n",
    "print(stats.describe(l1))"
   ]
  },
  {
   "cell_type": "markdown",
   "id": "ffd07aec",
   "metadata": {},
   "source": [
    "# Conversão de coordenadas (UTM)"
   ]
  },
  {
   "cell_type": "code",
   "execution_count": 196,
   "id": "95db4905",
   "metadata": {},
   "outputs": [
    {
     "name": "stdout",
     "output_type": "stream",
     "text": [
      "DescribeResult(nobs=8114, minmax=(0.0, 2.9592409067301872), mean=0.9942147309896312, variance=0.23583824309434945, skewness=0.4744621650895843, kurtosis=-0.02271229711375522)\n"
     ]
    }
   ],
   "source": [
    "RadiusEarth = 6378388.0 # m\n",
    "arc= 2.0*np.pi*(RadiusEarth+altitude)/360.0 # m/°\n",
    "arcGT= 2.0*np.pi*(RadiusEarth+altitudeGT)/360.0 # m/°\n",
    "\n",
    "# Projeção cilíndrica equidistante\n",
    "# x = r * cos(latitude)*(longitude_{K} - longitude_{K-1})\n",
    "# y = r * (latitude_{K} - latitude_{K-1})\n",
    "dx = arc * np.cos(latitude*np.pi/180.0) * np.hstack((0.0, np.diff(longitude))) # in m\n",
    "dy = arc * np.hstack((0.0, np.diff(latitude))) # metros\n",
    "\n",
    "dxGT = arcGT * np.cos(latitudeGT*np.pi/180.0) * np.hstack((0.0, np.diff(longitudeGT))) # in m\n",
    "dyGT = arcGT * np.hstack((0.0, np.diff(latitudeGT))) # metros\n",
    "\n",
    "mx = np.cumsum(dx)\n",
    "my = np.cumsum(dy)\n",
    "mxGT = np.cumsum(dxGT)\n",
    "myGT = np.cumsum(dyGT)\n",
    "\n",
    "GNSS = (imu_time >= gnss_time).astype('bool')\n",
    "\n",
    "# Distância Euclidiana\n",
    "d = np.sqrt((mx - mxGT)**2 + (my - myGT)**2 )\n",
    "# Análise    \n",
    "lim = d.shape[0] - 1\n",
    "l2 = np.empty_like(d)\n",
    "for i in range(1,lim):\n",
    "    l2[i-1] = d[i]-d[i-1]\n",
    "\n",
    "l2 = np.absolute(d)\n",
    "print(stats.describe(l2))"
   ]
  },
  {
   "cell_type": "code",
   "execution_count": 197,
   "id": "ac1095cc",
   "metadata": {},
   "outputs": [
    {
     "data": {
      "image/png": "[encoded data removed]",
      "text/latex": [
       "$\\displaystyle \\left( -0.055, \\  0.055, \\  -0.055, \\  0.055\\right)$"
      ],
      "text/plain": [
       "(-0.05500000000000001, 0.05500000000000001, -0.05500000000000001, 0.0550000000\n",
       "0000001)"
      ]
     },
     "execution_count": 197,
     "metadata": {},
     "output_type": "execute_result"
    },
    {
     "data": {
      "image/png": "[encoded data removed]",
      "text/plain": [
       "<Figure size 432x288 with 1 Axes>"
      ]
     },
     "metadata": {
      "needs_background": "light"
     },
     "output_type": "display_data"
    }
   ],
   "source": [
    "# course in radians, yawrate in radians/s, and speed in m/s\n",
    "x_s = np.matrix([[ mx[0], my[0], course[0], speed[0] ]]).T\n",
    "u_c = np.matrix([[ acceleration[0], yawrate[0] ]]).T\n",
    "#print(x, x.shape)\n",
    "#print(u, u.shape)\n",
    "\n",
    "U=float(np.cos(x_s[2])*u_c[0])\n",
    "V=float(np.sin(x_s[2])*u_c[0])\n",
    "\n",
    "# quiver plots a 2D field of arrows. X, Y define the arrow locations, U, V define the arrow directions.\n",
    "\n",
    "plt.quiver(x_s[0], x_s[1], U, V)\n",
    "plt.scatter(float(x_s[0]), float(x_s[1]), s=100)\n",
    "plt.title('Initial Location')\n",
    "plt.axis('equal')"
   ]
  },
  {
   "cell_type": "code",
   "execution_count": 198,
   "id": "4dad1349",
   "metadata": {},
   "outputs": [],
   "source": [
    "#measurements = np.vstack((mx, my, heading))\n",
    "measurements = np.vstack((mx, my))\n",
    "# Lenth of the measurement\n",
    "m = measurements.shape[1]\n",
    "#print(measurements.shape)\n",
    "#print(m)"
   ]
  },
  {
   "cell_type": "code",
   "execution_count": 199,
   "id": "f678065d",
   "metadata": {},
   "outputs": [],
   "source": [
    "# Preallocation for Plotting\n",
    "x0     = []\n",
    "x1     = []\n",
    "x2     = []\n",
    "x3     = []\n",
    "x4     = []\n",
    "Zx     = []\n",
    "Zy     = []\n",
    "Px     = []\n",
    "Py     = []\n",
    "Ppsi   = []\n",
    "Pv     = []\n",
    "Pdpsi  = []\n",
    "Kx     = []\n",
    "Ky     = []\n",
    "Kpsi   = []\n",
    "Kv     = []\n",
    "Kdpsi  = [] \n",
    "dstate = []\n",
    "\n",
    "# Para a plotagem da distância euclidiana\n",
    "x0p    = [0]\n",
    "x1p    = [0]\n",
    "mxp    = [0]\n",
    "myp    = [0]\n",
    "mxGTp  = [0]\n",
    "myGTp  = [0]\n",
    "innov_x= []\n",
    "innov_y= []"
   ]
  },
  {
   "cell_type": "markdown",
   "id": "32f8508f",
   "metadata": {},
   "source": [
    "# Implementação do EKF em Python"
   ]
  },
  {
   "cell_type": "code",
   "execution_count": 200,
   "id": "e04cdbb7",
   "metadata": {},
   "outputs": [],
   "source": [
    "class EKF():\n",
    "    def __init__(self, dt):\n",
    "        self.dt = dt\n",
    "\n",
    "        self.x = None\n",
    "        self.F = None\n",
    "        self.u = None\n",
    "        self.G = None\n",
    "        \n",
    "        self.Q = None\n",
    "        self.M = None\n",
    "        self.P = None\n",
    "\n",
    "        self.h = None\n",
    "        self.z = None\n",
    "        self.y = None\n",
    "        self.H = None\n",
    "        self.R = None\n",
    "        self.K = None\n",
    "        self.I = np.eye(4)\n",
    "        # Desvios padrões das variáveis de estado\n",
    "        ##self.noise_pxy = 0.5*8.8*self.dt**2 # erro de aleatório e bias\n",
    "        \n",
    "        #self.noise_pxy = 0.5*2.0*self.dt**2\n",
    "        #self.noise_tht = 0.01*self.dt\n",
    "        #self.noise_tht = 0.5*self.dt\n",
    "        \n",
    "        ##self.noise_tht = 6.28*self.dt\n",
    "        #self.noise_tht = 0.01*self.dt\n",
    "        #self.noise_vel = 8.8*self.dt\n",
    "        \n",
    "        ##self.noise_vel = 8.8*self.dt\n",
    "        #self.noise_vel = 2.0*self.dt\n",
    "        # Desvios padrões dos sinais de controle\n",
    "        #self.noise_acx = 0.5 # !!!\n",
    "        \n",
    "        ##self.noise_acx = 10.0 # erro de aleatório e bias\n",
    "        #self.noise_omg = 8.8*self.dt # !!!\n",
    "        \n",
    "        ##self.noise_psi = 0.5*self.dt\n",
    "        \n",
    "        #teste\n",
    "        # Desvios padrões das variáveis de estado\n",
    "        self.noise_pxy = 0.5*2.0*self.dt**2\n",
    "        #self.noise_pxy = 0.5*8.8*self.dt**2 # erro de aleatório e bias\n",
    "        self.noise_tht = 0.01*self.dt\n",
    "        #self.noise_tht = 0.5*self.dt\n",
    "        # Desvios padrões dos sinais de controle\n",
    "        self.noise_vel = 2.0*self.dt\n",
    "        #self.noise_vel = 8.8*self.dt\n",
    "        self.noise_psi = 1.5*self.dt\n",
    "        self.noise_acx = 13.0 # erro aleatório e bias (significativo)\n",
    "        #teste\n",
    "        \n",
    "        # Desvios padrões das medições\n",
    "        #msdGPS = 0.4862086064106338 # Devio padrão da distância euclidiana entre medição e GT\n",
    "        msdGPS = 4\n",
    "        self.noise_gps = msdGPS\n",
    "    \n",
    "    def init_dynamic_system(self, psx, psy, tht, vel, acx, psi):\n",
    "        self.x = np.matrix([[psx, psy, tht, vel]]).T # init_state\n",
    "        self.u = np.matrix([[acx, psi]]).T # init_control\n",
    "        \n",
    "    def set_matrices(self, tht, vel):\n",
    "        f13 = float(-vel*np.sin(tht)*self.dt)\n",
    "        f14 = float(np.cos(tht)*self.dt)\n",
    "        f23 = float( vel*np.cos(tht)*self.dt)\n",
    "        f24 = float(np.sin(tht)*self.dt)\n",
    "        self.F = np.matrix([[1.0, 0.0, f13, f14],\n",
    "                            [0.0, 1.0, f23, f24],\n",
    "                            [0.0, 0.0, 1.0, 0.0],\n",
    "                            [0.0, 0.0, 0.0, 1.0]])\n",
    "        #g11 = float(np.cos(tht))\n",
    "        #g21 = float(np.sin(tht))\n",
    "        g32 = float(self.dt)\n",
    "        g41 = g32\n",
    "        self.G = np.matrix([[0.0, 0.0],\n",
    "                            [0.0, 0.0],\n",
    "                            [0.0, g32],\n",
    "                            [g41, 0.0]])\n",
    "        self.Q = np.diag([self.noise_pxy**2, self.noise_pxy**2, self.noise_tht**2, self.noise_vel**2])\n",
    "        self.M = np.diag([self.noise_acx**2, self.noise_psi**2])\n",
    "        self.H = np.matrix([[1.0, 0.0, 0.0, 0.0],\n",
    "                            [0.0, 1.0, 0.0, 0.0]])\n",
    "        self.R = np.diag([self.noise_gps**2, self.noise_gps**2])\n",
    "        self.P = np.diag([10.0, 10.0, 10.0, 10.0])\n",
    "    \n",
    "    def dynamic_system(self):\n",
    "        x1 = self.x[0,0]+self.x[3,0]*np.cos(self.x[2,0])*self.dt\n",
    "        x2 = self.x[1,0]+self.x[3,0]*np.sin(self.x[2,0])*self.dt\n",
    "        x3 = self.x[2,0]+self.u[1,0]*self.dt\n",
    "        x4 = self.x[3,0]+self.u[0,0]*self.dt\n",
    "        \n",
    "        self.x = np.matrix([[x1, x2, x3, x4]]).T # state ahead\n",
    "        self.u = self.u # control sign ahead\n",
    "        \n",
    "    def predict(self):\n",
    "        f1 = self.x[3,0]*np.cos(self.x[2,0])*self.dt\n",
    "        f2 = self.x[3,0]*np.sin(self.x[2,0])*self.dt\n",
    "        f3 = self.u[1,0]*self.dt\n",
    "        f4 = self.u[0,0]*self.dt\n",
    "        self.x = self.x + np.matrix([[f1, f2, f3, f4]]).T\n",
    "        self.P = ((self.F)*(self.P)*(self.F.T))+((self.G)*(self.M)*(self.G.T))+self.Q\n",
    "        return self.x, self.P\n",
    "    \n",
    "    def residual(self, filterstep):\n",
    "        self.h = np.matrix([[float(self.x[0,0])],\n",
    "                            [float(self.x[1,0])]])\n",
    "        self.z = measurements[:,filterstep].reshape((self.H).shape[0],1)\n",
    "        self.y = self.z-self.h\n",
    "        return self.z, self.y\n",
    "    \n",
    "    def update(self):\n",
    "        S = (self.H)*(self.P)*(self.H).T + self.R\n",
    "        self.k = ((self.P)*(self.H).T)*np.linalg.inv(S)\n",
    "        self.x = self.x + (self.k)*(self.y)\n",
    "        self.P = (self.I - ((self.k)*(self.H)))*self.P\n",
    "        return self.k, self.x, self.P"
   ]
  },
  {
   "cell_type": "code",
   "execution_count": 201,
   "id": "1e07b94a",
   "metadata": {},
   "outputs": [],
   "source": [
    "ekf = EKF(dt)\n",
    "#self, psx, psy, tht, vel, acx, omg\n",
    "ekf.init_dynamic_system(mx[0],my[0],course[0],speed[0],acceleration[0],yawrate[0])\n",
    "#self, tht, vel\n",
    "ekf.set_matrices(course[0],speed[0])\n",
    "for filterstep in range(m):\n",
    "    f,P = ekf.predict()\n",
    "    z,y = ekf.residual(filterstep)\n",
    "    k,f,P = ekf.update()\n",
    "    \n",
    "    # ===============================\n",
    "    # Save states for Plotting\n",
    "    # ===============================\n",
    "    #print(filterstep)\n",
    "    if GNSS[filterstep]:\n",
    "        x0p.append(float(f[0]))\n",
    "        x1p.append(float(f[1]))\n",
    "        mxp.append(mx[filterstep])\n",
    "        myp.append(my[filterstep])\n",
    "        mxGTp.append(mxGT[filterstep])\n",
    "        myGTp.append(myGT[filterstep])\n",
    "    \n",
    "    x0.append(float(f[0]))\n",
    "    x1.append(float(f[1]))\n",
    "    x2.append(float(f[2]))\n",
    "    Zx.append(float(z[0]))\n",
    "    Zy.append(float(z[1]))\n",
    "    \n",
    "    # Innovation\n",
    "    innov_x.append(y[0,0])\n",
    "    innov_y.append(y[1,0])\n",
    "    \n",
    "    # Covariance\n",
    "    Px.append(float(P[0,0]))\n",
    "    Py.append(float(P[1,1]))\n",
    "    Ppsi.append(float(P[2,2]))\n",
    "    \n",
    "    # Kalman gain\n",
    "    Kx.append(float(k[0,0]))\n",
    "    Ky.append(float(k[1,0]))\n",
    "    Kpsi.append(float(k[2,0]))"
   ]
  },
  {
   "cell_type": "code",
   "execution_count": 202,
   "id": "294a6d8b",
   "metadata": {},
   "outputs": [],
   "source": [
    "pos_x = np.asarray(x0)\n",
    "pos_y = np.asarray(x1)\n",
    "pos_mx = np.asarray(mx)\n",
    "pos_my = np.asarray(my)\n",
    "pos_mxGT = np.asarray(mxGT)\n",
    "pos_myGT = np.asarray(myGT)\n",
    "\n",
    "pos_xp = np.asarray(x0p)\n",
    "pos_yp = np.asarray(x1p)\n",
    "pos_mxp = np.asarray(mxp)\n",
    "pos_myp = np.asarray(myp)\n",
    "pos_mxGTp = np.asarray(mxGTp)\n",
    "pos_myGTp = np.asarray(myGTp)\n",
    "\n",
    "#print(pos_x.shape)\n",
    "#print(pos_xp.shape)"
   ]
  },
  {
   "cell_type": "code",
   "execution_count": 203,
   "id": "b21467b8",
   "metadata": {},
   "outputs": [
    {
     "data": {
      "image/png": "[encoded data removed]",
      "text/latex": [
       "$\\displaystyle \\left( -73.6970569325096, \\  178.780496964989, \\  -251.239028875223, \\  49.564615131875\\right)$"
      ],
      "text/plain": [
       "(-73.69705693250964, 178.7804969649892, -251.23902887522306, 49.56461513187501\n",
       ")"
      ]
     },
     "execution_count": 203,
     "metadata": {},
     "output_type": "execute_result"
    },
    {
     "data": {
      "image/png": "[encoded data removed]",
      "text/plain": [
       "<Figure size 1152x648 with 1 Axes>"
      ]
     },
     "metadata": {
      "needs_background": "light"
     },
     "output_type": "display_data"
    }
   ],
   "source": [
    "fig = plt.figure(figsize=(16,9))\n",
    "\n",
    "# EKF State\n",
    "plt.quiver(x0,x1,np.cos(x2), np.sin(x2), color='#94C600', units='xy', width=0.05, scale=0.5)\n",
    "plt.plot(x0,x1, label='Estimativa EKF', c='k', lw=5)\n",
    "\n",
    "# Measurements\n",
    "plt.scatter(mx,my, s=50, label='Medições GNSS', marker='+')\n",
    "\n",
    "# Ground Truth\n",
    "plt.scatter(mxGT,myGT, s=50, label='Percurso Ideal', marker='o')\n",
    "\n",
    "# Start/Goal\n",
    "plt.scatter(x0[0],x1[0], s=60, label='Início', c='g')\n",
    "plt.scatter(x0[-1],x1[-1], s=60, label='Fim', c='r')\n",
    "\n",
    "plt.xlabel('X [m]')\n",
    "plt.ylabel('Y [m]')\n",
    "plt.title('Trajetória')\n",
    "plt.legend(loc='best')\n",
    "plt.axis('equal')"
   ]
  },
  {
   "cell_type": "markdown",
   "id": "0fba50f1",
   "metadata": {},
   "source": [
    "# Análise de Dados"
   ]
  },
  {
   "cell_type": "code",
   "execution_count": 204,
   "id": "1350f764",
   "metadata": {},
   "outputs": [],
   "source": [
    "# Calcular a distância euclidiana entre as estimativas e o ground truth\n",
    "#de = np.sqrt((pos_x - pos_mxGT)**2 + (pos_y - pos_myGT)**2 )\n",
    "dep = np.sqrt((pos_xp - pos_mxGTp)**2 + (pos_yp - pos_myGTp)**2 )"
   ]
  },
  {
   "cell_type": "code",
   "execution_count": 205,
   "id": "b86ccd1c",
   "metadata": {},
   "outputs": [],
   "source": [
    "# Calcular a distância euclidiana entre as medições e o ground truth\n",
    "#dm = np.sqrt((pos_mx - pos_mxGT)**2 + (pos_my - pos_myGT)**2 )\n",
    "dmp = np.sqrt((pos_mxp - pos_mxGTp)**2 + (pos_myp - pos_myGTp)**2 )"
   ]
  },
  {
   "cell_type": "code",
   "execution_count": 206,
   "id": "1f5b2c5a",
   "metadata": {},
   "outputs": [
    {
     "name": "stdout",
     "output_type": "stream",
     "text": [
      "Medição\n",
      "DescribeResult(nobs=7964, minmax=(0.0, 2.9592409067301872), mean=0.9963560569833314, variance=0.2365463239094686, skewness=0.4718592618282417, kurtosis=-0.0248206667269546)\n",
      "Estimação\n",
      "DescribeResult(nobs=7964, minmax=(0.0, 2.4455485370474404), mean=0.8343073560513734, variance=0.13961537059424614, skewness=0.4250025666375043, kurtosis=-0.05777205791481732)\n",
      "\n",
      "Desvio Padrão da Medição\n",
      "0.48636028200241493\n",
      "Desvio Padrão da Estimação\n",
      "0.3736514025053916\n"
     ]
    },
    {
     "data": {
      "image/png": "[encoded data removed]",
      "text/plain": [
       "<Figure size 1152x648 with 1 Axes>"
      ]
     },
     "metadata": {
      "needs_background": "light"
     },
     "output_type": "display_data"
    }
   ],
   "source": [
    "print(\"Medição\")\n",
    "#print(stats.describe(dm))\n",
    "print(stats.describe(dmp))\n",
    "print(\"Estimação\")\n",
    "#print(stats.describe(de))\n",
    "print(stats.describe(dep))\n",
    "\n",
    "# Desvio Padrão\n",
    "std_GPS = stats.tstd(dmp)\n",
    "std_EKF = stats.tstd(dep)\n",
    "print()\n",
    "print(\"Desvio Padrão da Medição\")\n",
    "print(std_GPS)\n",
    "print(\"Desvio Padrão da Estimação\")\n",
    "print(std_EKF)\n",
    "\n",
    "fig = plt.figure(figsize=(16,9))\n",
    "plt.plot(dmp, label='GNSS')\n",
    "plt.plot(dep, label='EKF')\n",
    "plt.title(\"Distância Euclidiana para o Percurso Ideal\")\n",
    "plt.legend(loc='best')\n",
    "\n",
    "plt.savefig('Comparação Distâncias Euclidianas para o Ground Truth.png', dpi=72, transparent=True, bbox_inches='tight')"
   ]
  },
  {
   "cell_type": "markdown",
   "id": "1ac1ef53",
   "metadata": {},
   "source": [
    "# Gráfico com Eixos Ajustados para Análise de Dados"
   ]
  },
  {
   "cell_type": "code",
   "execution_count": 207,
   "id": "12a4497f",
   "metadata": {},
   "outputs": [
    {
     "name": "stdout",
     "output_type": "stream",
     "text": [
      "Medição\n",
      "DescribeResult(nobs=110, minmax=(0.0, 2.0277582617158534), mean=0.84162164240495, variance=0.16023318768000894, skewness=0.305387280300593, kurtosis=-0.0074656919150339895)\n",
      "Estimação\n",
      "DescribeResult(nobs=110, minmax=(0.0, 1.6422933025040145), mean=0.7599800159719748, variance=0.08565499037201538, skewness=0.15911622519273425, kurtosis=0.3475282793562031)\n",
      "\n",
      "Desvio Padrão da Medição\n",
      "0.4002913784732428\n",
      "Desvio Padrão da Estimação\n",
      "0.29266873828958123\n"
     ]
    },
    {
     "data": {
      "image/png": "[encoded data removed]",
      "text/plain": [
       "<Figure size 1152x648 with 1 Axes>"
      ]
     },
     "metadata": {
      "needs_background": "light"
     },
     "output_type": "display_data"
    },
    {
     "data": {
      "text/plain": [
       "<Figure size 432x288 with 0 Axes>"
      ]
     },
     "metadata": {},
     "output_type": "display_data"
    }
   ],
   "source": [
    "fig = plt.figure(figsize=(16,9))\n",
    "\n",
    "ax = fig.add_subplot(1, 1, 1)\n",
    "\n",
    "# Major ticks every 22, minor ticks every 5\n",
    "y_major_ticks = np.arange(0, 2.2, 0.2)\n",
    "y_minor_ticks = np.arange(0, 2.2, 0.05)\n",
    "x_major_ticks = np.arange(0, 100, 10)\n",
    "x_minor_ticks = np.arange(0, 100, 1)\n",
    "\n",
    "ax.set_xticks(x_major_ticks)\n",
    "ax.set_xticks(x_minor_ticks, minor=True)\n",
    "ax.set_yticks(y_major_ticks)\n",
    "ax.set_yticks(y_minor_ticks, minor=True)\n",
    "\n",
    "ax.grid(which='minor', alpha=0.2)\n",
    "ax.grid(which='major', alpha=0.5)\n",
    "\n",
    "\n",
    "plt.plot(dmp[0:100], label='GNSS')\n",
    "plt.plot(dep[0:100], label='EKF')\n",
    "plt.title(\"Distância Euclidiana para o Percurso Ideal\")\n",
    "plt.legend(loc='best')\n",
    "plt.figure()\n",
    "\n",
    "print(\"Medição\")\n",
    "#print(stats.describe(dm))\n",
    "print(stats.describe(dmp[0:110]))\n",
    "print(\"Estimação\")\n",
    "#print(stats.describe(de))\n",
    "print(stats.describe(dep[0:110]))\n",
    "\n",
    "# Desvio Padrão\n",
    "std_GPS = stats.tstd(dmp[0:110])\n",
    "std_EKF = stats.tstd(dep[0:110])\n",
    "print()\n",
    "print(\"Desvio Padrão da Medição\")\n",
    "print(std_GPS)\n",
    "print(\"Desvio Padrão da Estimação\")\n",
    "print(std_EKF)"
   ]
  }
 ],
 "metadata": {
  "kernelspec": {
   "display_name": "Python 3 (ipykernel)",
   "language": "python",
   "name": "python3"
  },
  "language_info": {
   "codemirror_mode": {
    "name": "ipython",
    "version": 3
   },
   "file_extension": ".py",
   "mimetype": "text/x-python",
   "name": "python",
   "nbconvert_exporter": "python",
   "pygments_lexer": "ipython3",
   "version": "3.7.0"
  }
 },
 "nbformat": 4,
 "nbformat_minor": 5
}
