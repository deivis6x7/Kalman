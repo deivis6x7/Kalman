{
 "cells": [
  {
   "cell_type": "markdown",
   "id": "cb8f630e",
   "metadata": {},
   "source": [
    "## Extended Kalman Filter (EKF) with Constant Turn Rate and Acceleration (CTRA) model"
   ]
  },
  {
   "cell_type": "code",
   "execution_count": 32,
   "id": "89316154",
   "metadata": {},
   "outputs": [],
   "source": [
    "# Requisitos\n",
    "import pandas as pd\n",
    "import numpy as np\n",
    "\n",
    "import scipy\n",
    "import scipy.linalg\n",
    "from scipy import stats\n",
    "from scipy.stats import norm\n",
    "\n",
    "import sympy\n",
    "from sympy import init_printing\n",
    "from sympy.utilities.codegen import codegen\n",
    "from sympy import Symbol, symbols, Matrix, sin, cos\n",
    "\n",
    "import webbrowser #hiperlink\n",
    "import matplotlib.dates as mdates\n",
    "import matplotlib.pyplot as plt\n",
    "init_printing(use_latex=True)"
   ]
  },
  {
   "cell_type": "markdown",
   "id": "293fc247",
   "metadata": {},
   "source": [
    "## Projeto cinemático do modelo uniciclo com correção de bias (CTRA)"
   ]
  },
  {
   "cell_type": "markdown",
   "id": "ac0cfc84",
   "metadata": {},
   "source": [
    "![](uniciclo.png)"
   ]
  },
  {
   "cell_type": "markdown",
   "id": "8a824dcb",
   "metadata": {},
   "source": [
    "### Vetor de estados"
   ]
  },
  {
   "cell_type": "markdown",
   "id": "86999cf2",
   "metadata": {},
   "source": [
    "$$ \\mathbf{x} = \\begin{bmatrix} x \\\\ y \\\\ \\theta \\\\ v \\\\ b_{a} \\\\ b_{\\psi} \\end{bmatrix} = \\begin{bmatrix} \\text{Posição no eixo x} \\\\ \\text{Posição no eixo y} \\\\ \\text{Orientação do veículo no eixo z} \\\\ \\text{Velocidade linear} \\\\ \\text{Bias da aceleração} \\\\ \\text{Bias do giroscópio}\\end{bmatrix} $$"
   ]
  },
  {
   "cell_type": "markdown",
   "id": "181c6ac2",
   "metadata": {},
   "source": [
    "### Vetor de entrada"
   ]
  },
  {
   "cell_type": "markdown",
   "id": "e64c7a75",
   "metadata": {},
   "source": [
    "$$ \\mathbf{u} = \\begin{bmatrix} a \\\\ \\psi \\end{bmatrix} = \\begin{bmatrix} \\text{Aceleração no eixo x} \\\\ \\text{Rotação no eixo z} \\end{bmatrix} $$"
   ]
  },
  {
   "cell_type": "markdown",
   "id": "315d2c4f",
   "metadata": {},
   "source": [
    "## Sistema dinâmico não-linear a ser rastreado"
   ]
  },
  {
   "cell_type": "markdown",
   "id": "546e9071",
   "metadata": {},
   "source": [
    "$$ \\mathbf{x}_{k} = \\mathbf{f}(\\mathbf{x}_{k-1}, \\mathbf{u}_k) + w_k + \\tau_k $$"
   ]
  },
  {
   "cell_type": "markdown",
   "id": "8c11f36c",
   "metadata": {},
   "source": [
    "### Ruído nos vetores de estado e controle"
   ]
  },
  {
   "cell_type": "markdown",
   "id": "aac4fce4",
   "metadata": {},
   "source": [
    "Ruídos são variáveis aleatórias com normal de média nula, sendo a influência dos ruídos filtrada pelas covariâncias. É a solução estocástica ótima!"
   ]
  },
  {
   "cell_type": "markdown",
   "id": "23c058fd",
   "metadata": {},
   "source": [
    "$$ w_k = \\mathcal{N}(0, Q) $$"
   ]
  },
  {
   "cell_type": "markdown",
   "id": "99193830",
   "metadata": {},
   "source": [
    "$$ \\tau_k = \\mathcal{N}(0, M) $$"
   ]
  },
  {
   "cell_type": "markdown",
   "id": "84fc2466",
   "metadata": {},
   "source": [
    "## Sistema linearizado por série de Taylor"
   ]
  },
  {
   "cell_type": "markdown",
   "id": "57c96093",
   "metadata": {},
   "source": [
    "O sistema não-linear estocástico pode ser linearizado e descrito por meio de equações cinemáticas:"
   ]
  },
  {
   "cell_type": "markdown",
   "id": "4ed0e0cc",
   "metadata": {},
   "source": [
    "$$ \\mathbf{x}_k = \\begin{bmatrix} x_k \\\\ y_k \\\\ \\theta_k \\\\ v_k \\\\ b_{a_{k}} \\\\ b_{\\psi_{k}} \\end{bmatrix} \\implies \\mathbf{x}_{k} = \\begin{bmatrix} x_{k-1} \\\\ y_{k-1} \\\\ \\theta_{k-1} \\\\ v_{k-1} \\\\ b_{a_{k-1}} \\\\ b_{\\psi_{k-1}} \\end{bmatrix} + \\begin{bmatrix} v_{k-1}\\cdot\\cos(\\theta_{k-1})\\cdot \\Delta t \\\\ v_{k-1}\\cdot\\sin(\\theta_{k-1})\\cdot \\Delta t \\\\ (\\psi_{k-1} - b_{\\psi_{k-1}})\\cdot \\Delta t \\\\ (a_{k-1} - b_{a_{k-1}})\\cdot \\Delta t \\\\ -b_{a_{k-1}}\\cdot \\tau_{b_a}^{-1} \\cdot \\Delta t \\\\ -b_{\\psi_{k-1}}\\cdot \\tau_{b_\\psi}^{-1} \\cdot \\Delta t \\end{bmatrix} $$"
   ]
  },
  {
   "cell_type": "markdown",
   "id": "2952a0ad",
   "metadata": {},
   "source": [
    "Para facilitar as operações foi adotado a seguinte notação:"
   ]
  },
  {
   "cell_type": "markdown",
   "id": "c475f327",
   "metadata": {},
   "source": [
    "$$ \\mathbf{f}(x_{k-1}, u_k) = \\begin{bmatrix} f_1 \\\\ f_2 \\\\ f_3 \\\\ f_4 \\\\ f_5 \\\\ f_6 \\end{bmatrix} = \\begin{bmatrix} x_{k-1} + v_{k-1}\\cdot\\cos(\\theta_{k-1}) \\cdot \\Delta t\\\\ y_{k-1} + v_{k-1}\\cdot\\sin(\\theta_{k-1}) \\cdot \\Delta t\\\\ \\theta_{k-1} + (\\psi_{k-1} - b_{\\psi_{k-1}}) \\cdot \\Delta t\\\\ v_{k-1} + (a_{k-1} - b_{a_{k-1}}) \\cdot \\Delta t\\\\ b_{a_{k-1}} - b_{a_{k-1}}\\cdot \\tau_{b_a}^{-1} \\cdot \\Delta t\\\\ b_{\\psi_{k-1}} - b_{\\psi_{k-1}}\\cdot \\tau_{b_\\psi}^{-1} \\cdot \\Delta t\\end{bmatrix} $$"
   ]
  },
  {
   "cell_type": "markdown",
   "id": "cbf71d2a",
   "metadata": {},
   "source": [
    "$\\mathbf{F}_k$ é a matriz Jacobiana de $f(x_{k-1}, u_k)$ com relação ao vetor de estados."
   ]
  },
  {
   "cell_type": "markdown",
   "id": "608ca0b3",
   "metadata": {},
   "source": [
    "$$\n",
    "\\mathbf{F}_k = \\frac{\\partial f(x_{k-1}, u_k)}{\\partial x_{k-1}} \\implies \\mathbf{F}_k = \\begin{bmatrix}\n",
    "\\frac{\\partial f_1}{\\partial x} & \n",
    "\\frac{\\partial f_1}{\\partial y} &\n",
    "\\frac{\\partial f_1}{\\partial \\theta} &\n",
    "\\frac{\\partial f_1}{\\partial v} &\n",
    "\\frac{\\partial f_1}{\\partial b_{a}} &\n",
    "\\frac{\\partial f_1}{\\partial b_{\\psi}}\\\\\n",
    "\\frac{\\partial f_2}{\\partial x} & \n",
    "\\frac{\\partial f_2}{\\partial y} &\n",
    "\\frac{\\partial f_2}{\\partial \\theta} &\n",
    "\\frac{\\partial f_2}{\\partial v} &\n",
    "\\frac{\\partial f_2}{\\partial b_{a}} &\n",
    "\\frac{\\partial f_2}{\\partial b_{\\psi}}\\\\\n",
    "\\frac{\\partial f_3}{\\partial x} & \n",
    "\\frac{\\partial f_3}{\\partial y} &\n",
    "\\frac{\\partial f_3}{\\partial \\theta} &\n",
    "\\frac{\\partial f_3}{\\partial v} &\n",
    "\\frac{\\partial f_3}{\\partial b_{a}} &\n",
    "\\frac{\\partial f_3}{\\partial b_{\\psi}}\\\\\n",
    "\\frac{\\partial f_4}{\\partial x} & \n",
    "\\frac{\\partial f_4}{\\partial y} &\n",
    "\\frac{\\partial f_4}{\\partial \\theta} &\n",
    "\\frac{\\partial f_4}{\\partial v} &\n",
    "\\frac{\\partial f_4}{\\partial b_{a}} &\n",
    "\\frac{\\partial f_4}{\\partial b_{\\psi}}\\\\\n",
    "\\frac{\\partial f_5}{\\partial x} & \n",
    "\\frac{\\partial f_5}{\\partial y} &\n",
    "\\frac{\\partial f_5}{\\partial \\theta} &\n",
    "\\frac{\\partial f_5}{\\partial v} &\n",
    "\\frac{\\partial f_5}{\\partial b_{a}} &\n",
    "\\frac{\\partial f_5}{\\partial b_{\\psi}}\\\\\n",
    "\\frac{\\partial f_6}{\\partial x} & \n",
    "\\frac{\\partial f_6}{\\partial y} &\n",
    "\\frac{\\partial f_6}{\\partial \\theta} &\n",
    "\\frac{\\partial f_6}{\\partial v} &\n",
    "\\frac{\\partial f_6}{\\partial b_{a}} &\n",
    "\\frac{\\partial f_6}{\\partial b_{\\psi}}\n",
    "\\end{bmatrix}\n",
    "$$"
   ]
  },
  {
   "cell_type": "markdown",
   "id": "7bffebff",
   "metadata": {},
   "source": [
    "$$\n",
    "\\mathbf{F}_k =\\begin{bmatrix}\n",
    "1 & \n",
    "0 &\n",
    "-v_{k-1}\\cdot\\sin(\\theta_{k-1})\\cdot \\Delta t &\n",
    "\\cos(\\theta_{k-1})\\cdot \\Delta t &\n",
    "0 &\n",
    "0 \\\\\n",
    "0 & \n",
    "1 &\n",
    "v_{k-1}\\cdot\\cos(\\theta_{k-1})\\cdot \\Delta t &\n",
    "\\sin(\\theta_{k-1})\\cdot \\Delta t &\n",
    "0 &\n",
    "0 \\\\\n",
    "0 & \n",
    "0 &\n",
    "1 &\n",
    "0 &\n",
    "0 &\n",
    "-\\Delta t \\\\\n",
    "0 &\n",
    "0 &\n",
    "0 &\n",
    "1 &\n",
    "-\\Delta t &\n",
    "0 \\\\\n",
    "0 &\n",
    "0 &\n",
    "0 &\n",
    "0 &\n",
    "1-\\tau_{ba}^{-1}\\cdot \\Delta t &\n",
    "0 \\\\\n",
    "0 &\n",
    "0 &\n",
    "0 &\n",
    "0 &\n",
    "0 &\n",
    "1-\\tau_{b\\psi}^{-1}\\cdot \\Delta t\n",
    "\\end{bmatrix}\n",
    "$$"
   ]
  },
  {
   "cell_type": "markdown",
   "id": "5fd88de7",
   "metadata": {},
   "source": [
    "$\\mathbf{G}_k$ é a matriz Jacobiana de $f(x_{k-1}, u_k)$ com relação ao vetor de controle."
   ]
  },
  {
   "cell_type": "markdown",
   "id": "8255fde1",
   "metadata": {},
   "source": [
    "$$\\mathbf{G}_k = \\frac{\\partial f(x_{k-1}, u_{k})}{\\partial u_{k}} \\implies \\mathbf{G}_k = \\begin{bmatrix}\n",
    "\\frac{\\partial f_1}{\\partial a} & \\frac{\\partial f_1}{\\partial \\psi} \\\\\n",
    "\\frac{\\partial f_2}{\\partial a} & \\frac{\\partial f_2}{\\partial \\psi} \\\\\n",
    "\\frac{\\partial f_3}{\\partial a} & \\frac{\\partial f_3}{\\partial \\psi} \\\\\n",
    "\\frac{\\partial f_4}{\\partial a} & \\frac{\\partial f_4}{\\partial \\psi} \\\\\n",
    "\\frac{\\partial f_5}{\\partial a} & \\frac{\\partial f_5}{\\partial \\psi} \\\\\n",
    "\\frac{\\partial f_6}{\\partial a} & \\frac{\\partial f_6}{\\partial \\psi}\n",
    "\\end{bmatrix}$$"
   ]
  },
  {
   "cell_type": "markdown",
   "id": "2113b5b3",
   "metadata": {},
   "source": [
    "$$\\mathbf{G}_k = \\begin{bmatrix}\n",
    "0 & 0 \\\\\n",
    "0 & 0 \\\\\n",
    "0 & \\Delta t \\\\\n",
    "\\Delta t & 0 \\\\\n",
    "0 & 0 \\\\\n",
    "0 & 0 \n",
    "\\end{bmatrix}$$"
   ]
  },
  {
   "cell_type": "markdown",
   "id": "567785c8",
   "metadata": {},
   "source": [
    "## Matriz de covariância de ruídos do sistema de posições"
   ]
  },
  {
   "cell_type": "markdown",
   "id": "2ea4ea43",
   "metadata": {},
   "source": [
    "$$\\mathbf{Q} = \\begin{bmatrix}\n",
    "\\sigma_{x}^{2} & 0 & 0 & 0 & 0 & 0\\\\\n",
    "0 & \\sigma_{y}^{2} & 0 & 0 & 0 & 0\\\\\n",
    "0 & 0 & \\sigma_{\\theta}^{2} & 0 & 0 & 0\\\\\n",
    "0 & 0 & 0 & \\sigma_{v}^{2} & 0 & 0\\\\\n",
    "0 & 0 & 0 & 0 & \\sigma_{b_a}^{2} & 0 \\\\\n",
    "0 & 0 & 0 & 0 & 0 & \\sigma_{b_\\psi}^{2}\n",
    "\\end{bmatrix}$$"
   ]
  },
  {
   "cell_type": "markdown",
   "id": "00615694",
   "metadata": {},
   "source": [
    "## Matriz de covariância de ruídos dos sinais de controle de movimento"
   ]
  },
  {
   "cell_type": "markdown",
   "id": "b8809607",
   "metadata": {},
   "source": [
    "Controle de erro nas variáveis de entrada $a$ e $\\psi$ convertido em controle de erro nas variáveis de estado $x$, $y$, $\\theta$ e $v$."
   ]
  },
  {
   "cell_type": "markdown",
   "id": "cdb0b754",
   "metadata": {},
   "source": [
    "$$\\mathbf M = \\begin{bmatrix}\n",
    "\\sigma_{a}^{2} & 0 \\\\\n",
    "0 & \n",
    "\\sigma_{\\psi}^{2}\n",
    "\\end{bmatrix}\n",
    "$$"
   ]
  },
  {
   "cell_type": "markdown",
   "id": "6d91011d",
   "metadata": {},
   "source": [
    "## Matriz de covariância de estado "
   ]
  },
  {
   "cell_type": "markdown",
   "id": "84a575df",
   "metadata": {},
   "source": [
    "Associa-se a origem do veículo."
   ]
  },
  {
   "cell_type": "markdown",
   "id": "c6a94e55",
   "metadata": {},
   "source": [
    "-Certeza da origem:"
   ]
  },
  {
   "cell_type": "markdown",
   "id": "e0c7d5ea",
   "metadata": {},
   "source": [
    "$$\\mathbf{P} = \\begin{bmatrix}\n",
    "0 & 0 & 0 & 0 & 0 & 0\\\\\n",
    "0 & 0 & 0 & 0 & 0 & 0\\\\\n",
    "0 & 0 & 0 & 0 & 0 & 0\\\\\n",
    "0 & 0 & 0 & 0 & 0 & 0\\\\\n",
    "0 & 0 & 0 & 0 & 0 & 0\\\\\n",
    "0 & 0 & 0 & 0 & 0 & 0\\\\\n",
    "\\end{bmatrix}$$"
   ]
  },
  {
   "cell_type": "markdown",
   "id": "864a7a3b",
   "metadata": {},
   "source": [
    "-Valor arbitrado razoável (o filtro consegue corrigir em execução):"
   ]
  },
  {
   "cell_type": "markdown",
   "id": "8ab717d1",
   "metadata": {},
   "source": [
    "$$\\mathbf{P} = \\mathbf{Q} $$"
   ]
  },
  {
   "cell_type": "markdown",
   "id": "d573a89a",
   "metadata": {},
   "source": [
    "-Valor arbitrado pelo professor:"
   ]
  },
  {
   "cell_type": "markdown",
   "id": "62a06d11",
   "metadata": {},
   "source": [
    "$$\\mathbf{P} = \\begin{bmatrix}\n",
    "10 & 0 & 0 & 0 & 0 & 0\\\\\n",
    "0 & 10 & 0 & 0 & 0 & 0\\\\\n",
    "0 & 0 & 10 & 0 & 0 & 0\\\\\n",
    "0 & 0 & 0 & 10 & 0 & 0\\\\\n",
    "0 & 0 & 0 & 0 & 10 & 0\\\\\n",
    "0 & 0 & 0 & 0 & 0 & 10\n",
    "\\end{bmatrix}$$ "
   ]
  },
  {
   "cell_type": "markdown",
   "id": "722b8c8e",
   "metadata": {},
   "source": [
    "## Sistema sensorial não-linear para observar $x_k$"
   ]
  },
  {
   "cell_type": "markdown",
   "id": "72bbeea1",
   "metadata": {},
   "source": [
    "$$ \\mathbf{z}_k = \\mathbf{h}(\\mathbf{x}_k, v_k) $$"
   ]
  },
  {
   "cell_type": "markdown",
   "id": "011d37c8",
   "metadata": {},
   "source": [
    "### Ruído no sistema sensorial"
   ]
  },
  {
   "cell_type": "markdown",
   "id": "02feb16e",
   "metadata": {},
   "source": [
    "Ruídos são variáveis aleatórias com normal de média nula, sendo a influência dos ruídos filtrada pelas covariâncias. É a solução estocástica ótima!"
   ]
  },
  {
   "cell_type": "markdown",
   "id": "02ccbb50",
   "metadata": {},
   "source": [
    "$$ v_k = \\mathcal{N}(0, R) $$"
   ]
  },
  {
   "cell_type": "markdown",
   "id": "939067d1",
   "metadata": {},
   "source": [
    "## Sistema sensorial linearizado"
   ]
  },
  {
   "cell_type": "markdown",
   "id": "cc662b75",
   "metadata": {},
   "source": [
    "$$\\mathbf{z}_{k} = \\begin{bmatrix}\n",
    "x_{gps,k} \\\\\n",
    "y_{gps,k}\n",
    "\\end{bmatrix}$$ "
   ]
  },
  {
   "cell_type": "markdown",
   "id": "0ef6b11b",
   "metadata": {},
   "source": [
    "Para facilitar as operações foi adotado a seguinte notação:"
   ]
  },
  {
   "cell_type": "markdown",
   "id": "204dca34",
   "metadata": {},
   "source": [
    "$$ \\mathbf{h}(x_{k}) = \\begin{bmatrix} h_1 \\\\ h_2 \\end{bmatrix} = \\begin{bmatrix}\n",
    "x_{gps, k} \\\\\n",
    "y_{gps, k}\n",
    "\\end{bmatrix}$$"
   ]
  },
  {
   "cell_type": "markdown",
   "id": "6f4fbb37",
   "metadata": {},
   "source": [
    "$\\mathbf{H}_k$ é a matriz Jacobiana de $h(x_{k})$ com relação ao vetor de estados."
   ]
  },
  {
   "cell_type": "markdown",
   "id": "33f35885",
   "metadata": {},
   "source": [
    "$$\\mathbf{H}_k = \\frac{\\partial h(x_{k})}{\\partial x_{k-1}} \\implies \\mathbf{H}_k = \\begin{bmatrix}\n",
    "\\frac{\\partial h_1}{\\partial x} & \n",
    "\\frac{\\partial h_1}{\\partial y} &\n",
    "\\frac{\\partial h_1}{\\partial \\theta} & \n",
    "\\frac{\\partial h_1}{\\partial v} &\n",
    "\\frac{\\partial h_1}{\\partial b_{a}} &\n",
    "\\frac{\\partial h_1}{\\partial b_{\\psi}} \\\\\n",
    "\\frac{\\partial h_2}{\\partial x} & \n",
    "\\frac{\\partial h_2}{\\partial y} &\n",
    "\\frac{\\partial h_2}{\\partial \\theta} & \n",
    "\\frac{\\partial h_2}{\\partial v} &\n",
    "\\frac{\\partial h_2}{\\partial b_{a}} &\n",
    "\\frac{\\partial h_2}{\\partial b_{\\psi}}\n",
    "\\end{bmatrix}$$"
   ]
  },
  {
   "cell_type": "markdown",
   "id": "4689a470",
   "metadata": {},
   "source": [
    "$$ \\mathbf{H}_{k} = \\begin{bmatrix}\n",
    "1 & 0 & 0 & 0 & 0 & 0\\\\\n",
    "0 & 1 & 0 & 0 & 0 & 0\n",
    "\\end{bmatrix}$$"
   ]
  },
  {
   "cell_type": "markdown",
   "id": "37654552",
   "metadata": {},
   "source": [
    "## Esperança do sistema sensorial linearizado"
   ]
  },
  {
   "cell_type": "markdown",
   "id": "41888500",
   "metadata": {},
   "source": [
    "$$\\mathbf{h}_{k|k-1} = \\begin{bmatrix}\n",
    "x_{gps, k|k-1} \\\\\n",
    "y_{gps, k|k-1}\n",
    "\\end{bmatrix}$$"
   ]
  },
  {
   "cell_type": "markdown",
   "id": "46ed9a67",
   "metadata": {},
   "source": [
    "## Matriz de covariância do sensor"
   ]
  },
  {
   "cell_type": "markdown",
   "id": "12408437",
   "metadata": {},
   "source": [
    "$$ \\mathbf{R} = \\begin{bmatrix}\n",
    "\\sigma_{zx}^{2} & 0 \\\\\n",
    "0 & \n",
    "\\sigma_{zy}^{2}\n",
    "\\end{bmatrix}$$"
   ]
  },
  {
   "cell_type": "markdown",
   "id": "62a6b724",
   "metadata": {},
   "source": [
    "## Matriz identidade"
   ]
  },
  {
   "cell_type": "markdown",
   "id": "548cf186",
   "metadata": {},
   "source": [
    "$$\\mathbf{I} = \\begin{bmatrix}\n",
    "1 & 0 & 0 & 0 & 0 & 0\\\\\n",
    "0 & 1 & 0 & 0 & 0 & 0\\\\\n",
    "0 & 0 & 1 & 0 & 0 & 0\\\\\n",
    "0 & 0 & 0 & 1 & 0 & 0\\\\\n",
    "0 & 0 & 0 & 0 & 1 & 0\\\\\n",
    "0 & 0 & 0 & 0 & 0 & 1\\\\\n",
    "\\end{bmatrix}$$"
   ]
  },
  {
   "cell_type": "markdown",
   "id": "193c1562",
   "metadata": {},
   "source": [
    "# Equações de previsão das esperanças"
   ]
  },
  {
   "cell_type": "markdown",
   "id": "a0cb74d5",
   "metadata": {},
   "source": [
    "### Leitura do sistema sensorial"
   ]
  },
  {
   "cell_type": "markdown",
   "id": "e20cc242",
   "metadata": {},
   "source": [
    "$$ \\mathbf{z}_{k} = \\begin{bmatrix}\n",
    "x_{gps,k} \\\\\n",
    "y_{gps,k}\n",
    "\\end{bmatrix} $$ "
   ]
  },
  {
   "cell_type": "markdown",
   "id": "07d5ee7f",
   "metadata": {},
   "source": [
    "### Estimativa do vetor de estados"
   ]
  },
  {
   "cell_type": "markdown",
   "id": "c4a3b536",
   "metadata": {},
   "source": [
    "$$\\mathbf{x}_{k} = \\mathbf{x}_{k-1} + \\begin{bmatrix} v_{k-1}\\cdot\\cos(\\theta_{k-1})\\cdot \\Delta t \\\\ v_{k-1}\\cdot\\sin(\\theta_{k-1})\\cdot \\Delta t \\\\ (\\psi_{k-1} - b_{\\psi_{k-1}})\\cdot \\Delta t \\\\ (a_{k-1} - b_{a_{k-1}})\\cdot \\Delta t \\\\ -b_{a_{k-1}}\\cdot \\tau_{b_a}^{-1} \\cdot \\Delta t \\\\ -b_{\\psi_{k-1}}\\cdot \\tau_{b_\\psi}^{-1} \\cdot \\Delta t \\end{bmatrix} $$"
   ]
  },
  {
   "cell_type": "markdown",
   "id": "981e49c5",
   "metadata": {},
   "source": [
    "### Estimativa da covariância de erro"
   ]
  },
  {
   "cell_type": "markdown",
   "id": "5fe90c47",
   "metadata": {},
   "source": [
    "$$ \\mathbf{P}_{k|k-1} = \\mathbf{F}_{k}\\mathbf{P}_{k-1|k-1}\\mathbf{F}_{k}^{T} + \\mathbf{G}_{k}\\mathbf{M}_{k-1}\\mathbf{G}_{k}^{T} + \\mathbf{Q}_{k} $$"
   ]
  },
  {
   "cell_type": "markdown",
   "id": "ea9f2110",
   "metadata": {},
   "source": [
    "### Esperança do sistema sensorial"
   ]
  },
  {
   "cell_type": "markdown",
   "id": "3fdb040e",
   "metadata": {},
   "source": [
    "$$\\mathbf{h}_{k|k-1} = \\begin{bmatrix}\n",
    "x_{gps, k|k-1} \\\\\n",
    "y_{gps, k|k-1}\n",
    "\\end{bmatrix}$$"
   ]
  },
  {
   "cell_type": "markdown",
   "id": "dfad62ab",
   "metadata": {},
   "source": [
    "# Equações de correção das esperanças"
   ]
  },
  {
   "cell_type": "markdown",
   "id": "2f28f70b",
   "metadata": {},
   "source": [
    "### Ganho de Kalman"
   ]
  },
  {
   "cell_type": "markdown",
   "id": "feab59f7",
   "metadata": {},
   "source": [
    "Método dos mínimos quadrados."
   ]
  },
  {
   "cell_type": "markdown",
   "id": "97f78150",
   "metadata": {},
   "source": [
    "$$ \\mathbf{K}_{k} = \\mathbf{P}_{k|k-1}\\mathbf{H}_{k}^{T}(\\mathbf{H}_{k}\\mathbf{P}_{k|k-1}\\mathbf{H}_{k}^{T} + \\mathbf{R}_{k})^{-1} $$"
   ]
  },
  {
   "cell_type": "markdown",
   "id": "58cfc31a",
   "metadata": {},
   "source": [
    "### Correção do vetor de estados"
   ]
  },
  {
   "cell_type": "markdown",
   "id": "6762408a",
   "metadata": {},
   "source": [
    "$$ \\mathbf{x}_{k|k} = \\mathbf{x}_{k|k-1} + \\mathbf{K}_{k}(\\mathbf{z}_{k}-\\mathbf{h}_{k|k-1}) $$"
   ]
  },
  {
   "cell_type": "markdown",
   "id": "c3f17505",
   "metadata": {},
   "source": [
    "### Correção da covariância do erro"
   ]
  },
  {
   "cell_type": "markdown",
   "id": "556e5cbd",
   "metadata": {},
   "source": [
    "$$ \\mathbf{P}_{k|k} = (\\mathbf{I} - \\mathbf{K}_{k}\\mathbf{H}_{k})\\mathbf{P}_{k|k-1} $$"
   ]
  },
  {
   "cell_type": "markdown",
   "id": "1919cbbf",
   "metadata": {},
   "source": [
    "# Conjunto de dados"
   ]
  },
  {
   "cell_type": "code",
   "execution_count": 33,
   "id": "799b7968",
   "metadata": {},
   "outputs": [],
   "source": [
    "#dt = 1.0/50.0\n",
    "dt = 1.0"
   ]
  },
  {
   "cell_type": "code",
   "execution_count": 34,
   "id": "816fa0f1",
   "metadata": {},
   "outputs": [
    {
     "data": {
      "text/html": [
       "<div>\n",
       "<style scoped>\n",
       "    .dataframe tbody tr th:only-of-type {\n",
       "        vertical-align: middle;\n",
       "    }\n",
       "\n",
       "    .dataframe tbody tr th {\n",
       "        vertical-align: top;\n",
       "    }\n",
       "\n",
       "    .dataframe thead th {\n",
       "        text-align: right;\n",
       "    }\n",
       "</style>\n",
       "<table border=\"1\" class=\"dataframe\">\n",
       "  <thead>\n",
       "    <tr style=\"text-align: right;\">\n",
       "      <th></th>\n",
       "      <th>timestamp</th>\n",
       "      <th>location_x</th>\n",
       "      <th>location_y</th>\n",
       "      <th>location_z</th>\n",
       "      <th>velocity_x</th>\n",
       "      <th>velocity_y</th>\n",
       "      <th>velocity_z</th>\n",
       "      <th>acceleration_x</th>\n",
       "      <th>acceleration_y</th>\n",
       "      <th>acceleration_z</th>\n",
       "      <th>...</th>\n",
       "      <th>rotation_pitch</th>\n",
       "      <th>rotation_yaw</th>\n",
       "      <th>rotation_roll</th>\n",
       "      <th>control_throttle</th>\n",
       "      <th>control_steer</th>\n",
       "      <th>control_brake</th>\n",
       "      <th>control_hand_brake</th>\n",
       "      <th>control_reverse</th>\n",
       "      <th>control_manual_gear_shift</th>\n",
       "      <th>control_gear</th>\n",
       "    </tr>\n",
       "  </thead>\n",
       "  <tbody>\n",
       "    <tr>\n",
       "      <th>0</th>\n",
       "      <td>1.723485e+07</td>\n",
       "      <td>-85.146828</td>\n",
       "      <td>-103.282997</td>\n",
       "      <td>-0.441879</td>\n",
       "      <td>0.000001</td>\n",
       "      <td>0.000009</td>\n",
       "      <td>-0.001375</td>\n",
       "      <td>-4.345707e-07</td>\n",
       "      <td>0.000026</td>\n",
       "      <td>0.006870</td>\n",
       "      <td>...</td>\n",
       "      <td>-1.311342</td>\n",
       "      <td>89.843384</td>\n",
       "      <td>-0.000427</td>\n",
       "      <td>0.700000</td>\n",
       "      <td>1.192093e-10</td>\n",
       "      <td>0.0</td>\n",
       "      <td>False</td>\n",
       "      <td>False</td>\n",
       "      <td>False</td>\n",
       "      <td>0</td>\n",
       "    </tr>\n",
       "    <tr>\n",
       "      <th>1</th>\n",
       "      <td>1.723485e+07</td>\n",
       "      <td>-85.146828</td>\n",
       "      <td>-103.282997</td>\n",
       "      <td>-0.441846</td>\n",
       "      <td>0.000001</td>\n",
       "      <td>0.000063</td>\n",
       "      <td>0.000821</td>\n",
       "      <td>4.453535e-06</td>\n",
       "      <td>0.000877</td>\n",
       "      <td>0.036066</td>\n",
       "      <td>...</td>\n",
       "      <td>-1.311342</td>\n",
       "      <td>89.843384</td>\n",
       "      <td>-0.000427</td>\n",
       "      <td>0.700000</td>\n",
       "      <td>1.192093e-10</td>\n",
       "      <td>0.0</td>\n",
       "      <td>False</td>\n",
       "      <td>False</td>\n",
       "      <td>False</td>\n",
       "      <td>0</td>\n",
       "    </tr>\n",
       "    <tr>\n",
       "      <th>2</th>\n",
       "      <td>1.723485e+07</td>\n",
       "      <td>-85.146828</td>\n",
       "      <td>-103.282997</td>\n",
       "      <td>-0.441835</td>\n",
       "      <td>0.000002</td>\n",
       "      <td>0.000075</td>\n",
       "      <td>0.001317</td>\n",
       "      <td>4.240104e-05</td>\n",
       "      <td>0.001542</td>\n",
       "      <td>0.059755</td>\n",
       "      <td>...</td>\n",
       "      <td>-1.311342</td>\n",
       "      <td>89.843384</td>\n",
       "      <td>-0.000427</td>\n",
       "      <td>0.700000</td>\n",
       "      <td>1.192093e-10</td>\n",
       "      <td>0.0</td>\n",
       "      <td>False</td>\n",
       "      <td>False</td>\n",
       "      <td>False</td>\n",
       "      <td>0</td>\n",
       "    </tr>\n",
       "    <tr>\n",
       "      <th>3</th>\n",
       "      <td>1.723485e+07</td>\n",
       "      <td>-85.146828</td>\n",
       "      <td>-103.282997</td>\n",
       "      <td>-0.441835</td>\n",
       "      <td>0.000002</td>\n",
       "      <td>0.000075</td>\n",
       "      <td>0.001317</td>\n",
       "      <td>4.240104e-05</td>\n",
       "      <td>0.001542</td>\n",
       "      <td>0.059755</td>\n",
       "      <td>...</td>\n",
       "      <td>-1.311342</td>\n",
       "      <td>89.843384</td>\n",
       "      <td>-0.000427</td>\n",
       "      <td>0.700000</td>\n",
       "      <td>1.192093e-10</td>\n",
       "      <td>0.0</td>\n",
       "      <td>False</td>\n",
       "      <td>False</td>\n",
       "      <td>False</td>\n",
       "      <td>0</td>\n",
       "    </tr>\n",
       "    <tr>\n",
       "      <th>4</th>\n",
       "      <td>1.723485e+07</td>\n",
       "      <td>-85.146828</td>\n",
       "      <td>-103.282997</td>\n",
       "      <td>-0.441816</td>\n",
       "      <td>0.000001</td>\n",
       "      <td>0.000052</td>\n",
       "      <td>0.000562</td>\n",
       "      <td>-8.256954e-07</td>\n",
       "      <td>-0.000103</td>\n",
       "      <td>-0.003501</td>\n",
       "      <td>...</td>\n",
       "      <td>-1.311403</td>\n",
       "      <td>89.843391</td>\n",
       "      <td>-0.000336</td>\n",
       "      <td>0.700000</td>\n",
       "      <td>1.192093e-10</td>\n",
       "      <td>0.0</td>\n",
       "      <td>False</td>\n",
       "      <td>False</td>\n",
       "      <td>False</td>\n",
       "      <td>0</td>\n",
       "    </tr>\n",
       "    <tr>\n",
       "      <th>...</th>\n",
       "      <td>...</td>\n",
       "      <td>...</td>\n",
       "      <td>...</td>\n",
       "      <td>...</td>\n",
       "      <td>...</td>\n",
       "      <td>...</td>\n",
       "      <td>...</td>\n",
       "      <td>...</td>\n",
       "      <td>...</td>\n",
       "      <td>...</td>\n",
       "      <td>...</td>\n",
       "      <td>...</td>\n",
       "      <td>...</td>\n",
       "      <td>...</td>\n",
       "      <td>...</td>\n",
       "      <td>...</td>\n",
       "      <td>...</td>\n",
       "      <td>...</td>\n",
       "      <td>...</td>\n",
       "      <td>...</td>\n",
       "      <td>...</td>\n",
       "    </tr>\n",
       "    <tr>\n",
       "      <th>7915</th>\n",
       "      <td>1.723515e+07</td>\n",
       "      <td>109.633873</td>\n",
       "      <td>61.983776</td>\n",
       "      <td>0.001747</td>\n",
       "      <td>4.872616</td>\n",
       "      <td>-0.036871</td>\n",
       "      <td>0.000308</td>\n",
       "      <td>6.137717e-04</td>\n",
       "      <td>0.102104</td>\n",
       "      <td>-0.008180</td>\n",
       "      <td>...</td>\n",
       "      <td>-0.000273</td>\n",
       "      <td>-0.898102</td>\n",
       "      <td>-0.004822</td>\n",
       "      <td>0.379340</td>\n",
       "      <td>1.428775e-02</td>\n",
       "      <td>0.0</td>\n",
       "      <td>False</td>\n",
       "      <td>False</td>\n",
       "      <td>False</td>\n",
       "      <td>1</td>\n",
       "    </tr>\n",
       "    <tr>\n",
       "      <th>7916</th>\n",
       "      <td>1.723515e+07</td>\n",
       "      <td>110.051079</td>\n",
       "      <td>61.980408</td>\n",
       "      <td>0.001653</td>\n",
       "      <td>4.872650</td>\n",
       "      <td>-0.025654</td>\n",
       "      <td>-0.000464</td>\n",
       "      <td>3.953680e-04</td>\n",
       "      <td>0.130995</td>\n",
       "      <td>-0.009022</td>\n",
       "      <td>...</td>\n",
       "      <td>-0.000273</td>\n",
       "      <td>-0.769348</td>\n",
       "      <td>-0.005188</td>\n",
       "      <td>0.379340</td>\n",
       "      <td>1.462420e-02</td>\n",
       "      <td>0.0</td>\n",
       "      <td>False</td>\n",
       "      <td>False</td>\n",
       "      <td>False</td>\n",
       "      <td>1</td>\n",
       "    </tr>\n",
       "    <tr>\n",
       "      <th>7917</th>\n",
       "      <td>1.723515e+07</td>\n",
       "      <td>110.110359</td>\n",
       "      <td>61.980003</td>\n",
       "      <td>0.001690</td>\n",
       "      <td>4.872658</td>\n",
       "      <td>-0.024269</td>\n",
       "      <td>0.002860</td>\n",
       "      <td>6.271852e-04</td>\n",
       "      <td>0.113847</td>\n",
       "      <td>0.273294</td>\n",
       "      <td>...</td>\n",
       "      <td>-0.000273</td>\n",
       "      <td>-0.751068</td>\n",
       "      <td>-0.005249</td>\n",
       "      <td>0.379341</td>\n",
       "      <td>1.440677e-02</td>\n",
       "      <td>0.0</td>\n",
       "      <td>False</td>\n",
       "      <td>False</td>\n",
       "      <td>False</td>\n",
       "      <td>1</td>\n",
       "    </tr>\n",
       "    <tr>\n",
       "      <th>7918</th>\n",
       "      <td>1.723515e+07</td>\n",
       "      <td>110.129623</td>\n",
       "      <td>61.979877</td>\n",
       "      <td>0.001706</td>\n",
       "      <td>4.872660</td>\n",
       "      <td>-0.023804</td>\n",
       "      <td>0.004028</td>\n",
       "      <td>4.822504e-04</td>\n",
       "      <td>0.117362</td>\n",
       "      <td>0.295155</td>\n",
       "      <td>...</td>\n",
       "      <td>-0.000273</td>\n",
       "      <td>-0.745148</td>\n",
       "      <td>-0.005249</td>\n",
       "      <td>0.379341</td>\n",
       "      <td>1.440677e-02</td>\n",
       "      <td>0.0</td>\n",
       "      <td>False</td>\n",
       "      <td>False</td>\n",
       "      <td>False</td>\n",
       "      <td>1</td>\n",
       "    </tr>\n",
       "    <tr>\n",
       "      <th>7919</th>\n",
       "      <td>1.723515e+07</td>\n",
       "      <td>110.180923</td>\n",
       "      <td>61.979546</td>\n",
       "      <td>0.001735</td>\n",
       "      <td>4.872664</td>\n",
       "      <td>-0.022555</td>\n",
       "      <td>0.002703</td>\n",
       "      <td>4.528154e-04</td>\n",
       "      <td>0.118672</td>\n",
       "      <td>-0.125744</td>\n",
       "      <td>...</td>\n",
       "      <td>-0.000273</td>\n",
       "      <td>-0.729401</td>\n",
       "      <td>-0.005280</td>\n",
       "      <td>0.379341</td>\n",
       "      <td>1.441475e-02</td>\n",
       "      <td>0.0</td>\n",
       "      <td>False</td>\n",
       "      <td>False</td>\n",
       "      <td>False</td>\n",
       "      <td>1</td>\n",
       "    </tr>\n",
       "  </tbody>\n",
       "</table>\n",
       "<p>7920 rows × 23 columns</p>\n",
       "</div>"
      ],
      "text/plain": [
       "         timestamp  location_x  location_y  location_z  velocity_x  \\\n",
       "0     1.723485e+07  -85.146828 -103.282997   -0.441879    0.000001   \n",
       "1     1.723485e+07  -85.146828 -103.282997   -0.441846    0.000001   \n",
       "2     1.723485e+07  -85.146828 -103.282997   -0.441835    0.000002   \n",
       "3     1.723485e+07  -85.146828 -103.282997   -0.441835    0.000002   \n",
       "4     1.723485e+07  -85.146828 -103.282997   -0.441816    0.000001   \n",
       "...            ...         ...         ...         ...         ...   \n",
       "7915  1.723515e+07  109.633873   61.983776    0.001747    4.872616   \n",
       "7916  1.723515e+07  110.051079   61.980408    0.001653    4.872650   \n",
       "7917  1.723515e+07  110.110359   61.980003    0.001690    4.872658   \n",
       "7918  1.723515e+07  110.129623   61.979877    0.001706    4.872660   \n",
       "7919  1.723515e+07  110.180923   61.979546    0.001735    4.872664   \n",
       "\n",
       "      velocity_y  velocity_z  acceleration_x  acceleration_y  acceleration_z  \\\n",
       "0       0.000009   -0.001375   -4.345707e-07        0.000026        0.006870   \n",
       "1       0.000063    0.000821    4.453535e-06        0.000877        0.036066   \n",
       "2       0.000075    0.001317    4.240104e-05        0.001542        0.059755   \n",
       "3       0.000075    0.001317    4.240104e-05        0.001542        0.059755   \n",
       "4       0.000052    0.000562   -8.256954e-07       -0.000103       -0.003501   \n",
       "...          ...         ...             ...             ...             ...   \n",
       "7915   -0.036871    0.000308    6.137717e-04        0.102104       -0.008180   \n",
       "7916   -0.025654   -0.000464    3.953680e-04        0.130995       -0.009022   \n",
       "7917   -0.024269    0.002860    6.271852e-04        0.113847        0.273294   \n",
       "7918   -0.023804    0.004028    4.822504e-04        0.117362        0.295155   \n",
       "7919   -0.022555    0.002703    4.528154e-04        0.118672       -0.125744   \n",
       "\n",
       "      ...  rotation_pitch  rotation_yaw  rotation_roll  control_throttle  \\\n",
       "0     ...       -1.311342     89.843384      -0.000427          0.700000   \n",
       "1     ...       -1.311342     89.843384      -0.000427          0.700000   \n",
       "2     ...       -1.311342     89.843384      -0.000427          0.700000   \n",
       "3     ...       -1.311342     89.843384      -0.000427          0.700000   \n",
       "4     ...       -1.311403     89.843391      -0.000336          0.700000   \n",
       "...   ...             ...           ...            ...               ...   \n",
       "7915  ...       -0.000273     -0.898102      -0.004822          0.379340   \n",
       "7916  ...       -0.000273     -0.769348      -0.005188          0.379340   \n",
       "7917  ...       -0.000273     -0.751068      -0.005249          0.379341   \n",
       "7918  ...       -0.000273     -0.745148      -0.005249          0.379341   \n",
       "7919  ...       -0.000273     -0.729401      -0.005280          0.379341   \n",
       "\n",
       "      control_steer  control_brake  control_hand_brake  control_reverse  \\\n",
       "0      1.192093e-10            0.0               False            False   \n",
       "1      1.192093e-10            0.0               False            False   \n",
       "2      1.192093e-10            0.0               False            False   \n",
       "3      1.192093e-10            0.0               False            False   \n",
       "4      1.192093e-10            0.0               False            False   \n",
       "...             ...            ...                 ...              ...   \n",
       "7915   1.428775e-02            0.0               False            False   \n",
       "7916   1.462420e-02            0.0               False            False   \n",
       "7917   1.440677e-02            0.0               False            False   \n",
       "7918   1.440677e-02            0.0               False            False   \n",
       "7919   1.441475e-02            0.0               False            False   \n",
       "\n",
       "      control_manual_gear_shift  control_gear  \n",
       "0                         False             0  \n",
       "1                         False             0  \n",
       "2                         False             0  \n",
       "3                         False             0  \n",
       "4                         False             0  \n",
       "...                         ...           ...  \n",
       "7915                      False             1  \n",
       "7916                      False             1  \n",
       "7917                      False             1  \n",
       "7918                      False             1  \n",
       "7919                      False             1  \n",
       "\n",
       "[7920 rows x 23 columns]"
      ]
     },
     "execution_count": 34,
     "metadata": {},
     "output_type": "execute_result"
    }
   ],
   "source": [
    "data1 = \"tabelas_ajustadas/1_pos.csv\"\n",
    "data1 = pd.read_csv(data1, sep=',')\n",
    "data1"
   ]
  },
  {
   "cell_type": "code",
   "execution_count": 35,
   "id": "184eba2a",
   "metadata": {},
   "outputs": [],
   "source": [
    "speed = data1['velocity_x']\n",
    "steering = data1['control_steer']\n",
    "angular_velocity = data1['angular_velocity_x']"
   ]
  },
  {
   "cell_type": "code",
   "execution_count": 36,
   "id": "ff7f303d",
   "metadata": {},
   "outputs": [
    {
     "data": {
      "text/html": [
       "<div>\n",
       "<style scoped>\n",
       "    .dataframe tbody tr th:only-of-type {\n",
       "        vertical-align: middle;\n",
       "    }\n",
       "\n",
       "    .dataframe tbody tr th {\n",
       "        vertical-align: top;\n",
       "    }\n",
       "\n",
       "    .dataframe thead th {\n",
       "        text-align: right;\n",
       "    }\n",
       "</style>\n",
       "<table border=\"1\" class=\"dataframe\">\n",
       "  <thead>\n",
       "    <tr style=\"text-align: right;\">\n",
       "      <th></th>\n",
       "      <th>timestamp</th>\n",
       "      <th>latitude</th>\n",
       "      <th>longitude</th>\n",
       "      <th>altitude</th>\n",
       "    </tr>\n",
       "  </thead>\n",
       "  <tbody>\n",
       "    <tr>\n",
       "      <th>0</th>\n",
       "      <td>1.723485e+07</td>\n",
       "      <td>0.000928</td>\n",
       "      <td>-0.000765</td>\n",
       "      <td>-0.441879</td>\n",
       "    </tr>\n",
       "    <tr>\n",
       "      <th>1</th>\n",
       "      <td>1.723485e+07</td>\n",
       "      <td>0.000928</td>\n",
       "      <td>-0.000765</td>\n",
       "      <td>-0.441846</td>\n",
       "    </tr>\n",
       "    <tr>\n",
       "      <th>2</th>\n",
       "      <td>1.723485e+07</td>\n",
       "      <td>0.000928</td>\n",
       "      <td>-0.000765</td>\n",
       "      <td>-0.441835</td>\n",
       "    </tr>\n",
       "    <tr>\n",
       "      <th>3</th>\n",
       "      <td>1.723485e+07</td>\n",
       "      <td>0.000928</td>\n",
       "      <td>-0.000765</td>\n",
       "      <td>-0.441821</td>\n",
       "    </tr>\n",
       "    <tr>\n",
       "      <th>4</th>\n",
       "      <td>1.723485e+07</td>\n",
       "      <td>0.000928</td>\n",
       "      <td>-0.000765</td>\n",
       "      <td>-0.441816</td>\n",
       "    </tr>\n",
       "    <tr>\n",
       "      <th>...</th>\n",
       "      <td>...</td>\n",
       "      <td>...</td>\n",
       "      <td>...</td>\n",
       "      <td>...</td>\n",
       "    </tr>\n",
       "    <tr>\n",
       "      <th>7915</th>\n",
       "      <td>1.723515e+07</td>\n",
       "      <td>-0.000557</td>\n",
       "      <td>0.000985</td>\n",
       "      <td>0.001747</td>\n",
       "    </tr>\n",
       "    <tr>\n",
       "      <th>7916</th>\n",
       "      <td>1.723515e+07</td>\n",
       "      <td>-0.000557</td>\n",
       "      <td>0.000989</td>\n",
       "      <td>0.001653</td>\n",
       "    </tr>\n",
       "    <tr>\n",
       "      <th>7917</th>\n",
       "      <td>1.723515e+07</td>\n",
       "      <td>-0.000557</td>\n",
       "      <td>0.000989</td>\n",
       "      <td>0.001690</td>\n",
       "    </tr>\n",
       "    <tr>\n",
       "      <th>7918</th>\n",
       "      <td>1.723515e+07</td>\n",
       "      <td>-0.000557</td>\n",
       "      <td>0.000989</td>\n",
       "      <td>0.001706</td>\n",
       "    </tr>\n",
       "    <tr>\n",
       "      <th>7919</th>\n",
       "      <td>1.723515e+07</td>\n",
       "      <td>-0.000557</td>\n",
       "      <td>0.000990</td>\n",
       "      <td>0.001735</td>\n",
       "    </tr>\n",
       "  </tbody>\n",
       "</table>\n",
       "<p>7920 rows × 4 columns</p>\n",
       "</div>"
      ],
      "text/plain": [
       "         timestamp  latitude  longitude  altitude\n",
       "0     1.723485e+07  0.000928  -0.000765 -0.441879\n",
       "1     1.723485e+07  0.000928  -0.000765 -0.441846\n",
       "2     1.723485e+07  0.000928  -0.000765 -0.441835\n",
       "3     1.723485e+07  0.000928  -0.000765 -0.441821\n",
       "4     1.723485e+07  0.000928  -0.000765 -0.441816\n",
       "...            ...       ...        ...       ...\n",
       "7915  1.723515e+07 -0.000557   0.000985  0.001747\n",
       "7916  1.723515e+07 -0.000557   0.000989  0.001653\n",
       "7917  1.723515e+07 -0.000557   0.000989  0.001690\n",
       "7918  1.723515e+07 -0.000557   0.000989  0.001706\n",
       "7919  1.723515e+07 -0.000557   0.000990  0.001735\n",
       "\n",
       "[7920 rows x 4 columns]"
      ]
     },
     "execution_count": 36,
     "metadata": {},
     "output_type": "execute_result"
    }
   ],
   "source": [
    "data2 = \"tabelas_ajustadas/2_gnssGT.csv\"\n",
    "data2 = pd.read_csv(data2, sep=',')\n",
    "data2"
   ]
  },
  {
   "cell_type": "code",
   "execution_count": 37,
   "id": "fd3e7e0c",
   "metadata": {},
   "outputs": [],
   "source": [
    "gt_time = data2['timestamp'] \n",
    "latitudeGT = data2['latitude'] # deg\n",
    "longitudeGT = data2['longitude'] # deg\n",
    "altitudeGT = data2['altitude'] # m"
   ]
  },
  {
   "cell_type": "code",
   "execution_count": 38,
   "id": "3f5cd719",
   "metadata": {},
   "outputs": [
    {
     "data": {
      "text/html": [
       "<div>\n",
       "<style scoped>\n",
       "    .dataframe tbody tr th:only-of-type {\n",
       "        vertical-align: middle;\n",
       "    }\n",
       "\n",
       "    .dataframe tbody tr th {\n",
       "        vertical-align: top;\n",
       "    }\n",
       "\n",
       "    .dataframe thead th {\n",
       "        text-align: right;\n",
       "    }\n",
       "</style>\n",
       "<table border=\"1\" class=\"dataframe\">\n",
       "  <thead>\n",
       "    <tr style=\"text-align: right;\">\n",
       "      <th></th>\n",
       "      <th>timestamp</th>\n",
       "      <th>latitude</th>\n",
       "      <th>longitude</th>\n",
       "      <th>altitude</th>\n",
       "    </tr>\n",
       "  </thead>\n",
       "  <tbody>\n",
       "    <tr>\n",
       "      <th>0</th>\n",
       "      <td>17234845.69</td>\n",
       "      <td>0.000917</td>\n",
       "      <td>-0.000763</td>\n",
       "      <td>-0.441846</td>\n",
       "    </tr>\n",
       "    <tr>\n",
       "      <th>1</th>\n",
       "      <td>17234845.70</td>\n",
       "      <td>0.000944</td>\n",
       "      <td>-0.000768</td>\n",
       "      <td>-0.441734</td>\n",
       "    </tr>\n",
       "    <tr>\n",
       "      <th>2</th>\n",
       "      <td>17234846.08</td>\n",
       "      <td>0.000922</td>\n",
       "      <td>-0.000764</td>\n",
       "      <td>-0.441785</td>\n",
       "    </tr>\n",
       "    <tr>\n",
       "      <th>3</th>\n",
       "      <td>17234846.15</td>\n",
       "      <td>0.000930</td>\n",
       "      <td>-0.000770</td>\n",
       "      <td>-0.441683</td>\n",
       "    </tr>\n",
       "    <tr>\n",
       "      <th>4</th>\n",
       "      <td>17234846.15</td>\n",
       "      <td>0.000923</td>\n",
       "      <td>-0.000768</td>\n",
       "      <td>-0.441724</td>\n",
       "    </tr>\n",
       "    <tr>\n",
       "      <th>...</th>\n",
       "      <td>...</td>\n",
       "      <td>...</td>\n",
       "      <td>...</td>\n",
       "      <td>...</td>\n",
       "    </tr>\n",
       "    <tr>\n",
       "      <th>7915</th>\n",
       "      <td>17235149.96</td>\n",
       "      <td>-0.000556</td>\n",
       "      <td>0.000986</td>\n",
       "      <td>0.001539</td>\n",
       "    </tr>\n",
       "    <tr>\n",
       "      <th>7916</th>\n",
       "      <td>17235149.96</td>\n",
       "      <td>-0.000560</td>\n",
       "      <td>0.000988</td>\n",
       "      <td>0.001653</td>\n",
       "    </tr>\n",
       "    <tr>\n",
       "      <th>7917</th>\n",
       "      <td>17235149.97</td>\n",
       "      <td>-0.000558</td>\n",
       "      <td>0.000993</td>\n",
       "      <td>0.001773</td>\n",
       "    </tr>\n",
       "    <tr>\n",
       "      <th>7918</th>\n",
       "      <td>17235150.01</td>\n",
       "      <td>-0.000543</td>\n",
       "      <td>0.000995</td>\n",
       "      <td>0.001831</td>\n",
       "    </tr>\n",
       "    <tr>\n",
       "      <th>7919</th>\n",
       "      <td>17235150.01</td>\n",
       "      <td>-0.000543</td>\n",
       "      <td>0.000995</td>\n",
       "      <td>0.001831</td>\n",
       "    </tr>\n",
       "  </tbody>\n",
       "</table>\n",
       "<p>7920 rows × 4 columns</p>\n",
       "</div>"
      ],
      "text/plain": [
       "        timestamp  latitude  longitude  altitude\n",
       "0     17234845.69  0.000917  -0.000763 -0.441846\n",
       "1     17234845.70  0.000944  -0.000768 -0.441734\n",
       "2     17234846.08  0.000922  -0.000764 -0.441785\n",
       "3     17234846.15  0.000930  -0.000770 -0.441683\n",
       "4     17234846.15  0.000923  -0.000768 -0.441724\n",
       "...           ...       ...        ...       ...\n",
       "7915  17235149.96 -0.000556   0.000986  0.001539\n",
       "7916  17235149.96 -0.000560   0.000988  0.001653\n",
       "7917  17235149.97 -0.000558   0.000993  0.001773\n",
       "7918  17235150.01 -0.000543   0.000995  0.001831\n",
       "7919  17235150.01 -0.000543   0.000995  0.001831\n",
       "\n",
       "[7920 rows x 4 columns]"
      ]
     },
     "execution_count": 38,
     "metadata": {},
     "output_type": "execute_result"
    }
   ],
   "source": [
    "data3 = \"tabelas_ajustadas/3_gnss.csv\"\n",
    "data3 = pd.read_csv(data3, sep=',')\n",
    "data3"
   ]
  },
  {
   "cell_type": "code",
   "execution_count": 39,
   "id": "291e3114",
   "metadata": {},
   "outputs": [],
   "source": [
    "gnss_time = data3['timestamp']\n",
    "latitude = data3['latitude'] # graus\n",
    "longitude = data3['longitude'] # graus\n",
    "altitude = data3['altitude'] # metros"
   ]
  },
  {
   "cell_type": "code",
   "execution_count": 40,
   "id": "e7a3887f",
   "metadata": {},
   "outputs": [
    {
     "data": {
      "text/html": [
       "<div>\n",
       "<style scoped>\n",
       "    .dataframe tbody tr th:only-of-type {\n",
       "        vertical-align: middle;\n",
       "    }\n",
       "\n",
       "    .dataframe tbody tr th {\n",
       "        vertical-align: top;\n",
       "    }\n",
       "\n",
       "    .dataframe thead th {\n",
       "        text-align: right;\n",
       "    }\n",
       "</style>\n",
       "<table border=\"1\" class=\"dataframe\">\n",
       "  <thead>\n",
       "    <tr style=\"text-align: right;\">\n",
       "      <th></th>\n",
       "      <th>timestamp</th>\n",
       "      <th>accelerometer_x</th>\n",
       "      <th>accelerometer_y</th>\n",
       "      <th>accelerometer_z</th>\n",
       "      <th>gyroscope_x</th>\n",
       "      <th>gyroscope_y</th>\n",
       "      <th>gyroscope_z</th>\n",
       "      <th>compass</th>\n",
       "    </tr>\n",
       "  </thead>\n",
       "  <tbody>\n",
       "    <tr>\n",
       "      <th>0</th>\n",
       "      <td>17234846.08</td>\n",
       "      <td>3.138852</td>\n",
       "      <td>1.557610e+06</td>\n",
       "      <td>-1.277423e+06</td>\n",
       "      <td>42327.644530</td>\n",
       "      <td>0.009200</td>\n",
       "      <td>-0.001870</td>\n",
       "      <td>0.004808</td>\n",
       "    </tr>\n",
       "    <tr>\n",
       "      <th>1</th>\n",
       "      <td>17234846.15</td>\n",
       "      <td>3.138852</td>\n",
       "      <td>-2.194956e-01</td>\n",
       "      <td>-2.147567e-03</td>\n",
       "      <td>9.797777</td>\n",
       "      <td>0.001122</td>\n",
       "      <td>-0.003023</td>\n",
       "      <td>0.002080</td>\n",
       "    </tr>\n",
       "    <tr>\n",
       "      <th>2</th>\n",
       "      <td>17234846.15</td>\n",
       "      <td>3.138852</td>\n",
       "      <td>-2.247930e-01</td>\n",
       "      <td>3.140000e-05</td>\n",
       "      <td>9.814496</td>\n",
       "      <td>0.006288</td>\n",
       "      <td>0.001726</td>\n",
       "      <td>-0.004286</td>\n",
       "    </tr>\n",
       "    <tr>\n",
       "      <th>3</th>\n",
       "      <td>17234846.15</td>\n",
       "      <td>3.138852</td>\n",
       "      <td>-2.272361e-01</td>\n",
       "      <td>-1.510000e-05</td>\n",
       "      <td>9.926997</td>\n",
       "      <td>0.002527</td>\n",
       "      <td>-0.001481</td>\n",
       "      <td>0.003466</td>\n",
       "    </tr>\n",
       "    <tr>\n",
       "      <th>4</th>\n",
       "      <td>17234846.15</td>\n",
       "      <td>3.138852</td>\n",
       "      <td>-5.401890e-01</td>\n",
       "      <td>1.589932e-01</td>\n",
       "      <td>9.600149</td>\n",
       "      <td>0.002700</td>\n",
       "      <td>-0.001089</td>\n",
       "      <td>-0.008307</td>\n",
       "    </tr>\n",
       "    <tr>\n",
       "      <th>...</th>\n",
       "      <td>...</td>\n",
       "      <td>...</td>\n",
       "      <td>...</td>\n",
       "      <td>...</td>\n",
       "      <td>...</td>\n",
       "      <td>...</td>\n",
       "      <td>...</td>\n",
       "      <td>...</td>\n",
       "    </tr>\n",
       "    <tr>\n",
       "      <th>7915</th>\n",
       "      <td>17235150.01</td>\n",
       "      <td>1.558921</td>\n",
       "      <td>2.158444e-02</td>\n",
       "      <td>-1.291774e-01</td>\n",
       "      <td>9.748857</td>\n",
       "      <td>-0.003951</td>\n",
       "      <td>-0.004420</td>\n",
       "      <td>0.010777</td>\n",
       "    </tr>\n",
       "    <tr>\n",
       "      <th>7916</th>\n",
       "      <td>17235150.01</td>\n",
       "      <td>1.559230</td>\n",
       "      <td>5.739890e-04</td>\n",
       "      <td>-4.969786e-02</td>\n",
       "      <td>9.863008</td>\n",
       "      <td>-0.000793</td>\n",
       "      <td>-0.000975</td>\n",
       "      <td>0.008724</td>\n",
       "    </tr>\n",
       "    <tr>\n",
       "      <th>7917</th>\n",
       "      <td>17235150.01</td>\n",
       "      <td>1.559230</td>\n",
       "      <td>5.739890e-04</td>\n",
       "      <td>-4.969786e-02</td>\n",
       "      <td>9.863008</td>\n",
       "      <td>-0.000793</td>\n",
       "      <td>-0.000975</td>\n",
       "      <td>0.008724</td>\n",
       "    </tr>\n",
       "    <tr>\n",
       "      <th>7918</th>\n",
       "      <td>17235150.03</td>\n",
       "      <td>1.559530</td>\n",
       "      <td>-3.983101e-02</td>\n",
       "      <td>-2.029559e-02</td>\n",
       "      <td>9.790447</td>\n",
       "      <td>0.006141</td>\n",
       "      <td>0.005546</td>\n",
       "      <td>0.014458</td>\n",
       "    </tr>\n",
       "    <tr>\n",
       "      <th>7919</th>\n",
       "      <td>17235150.03</td>\n",
       "      <td>1.559530</td>\n",
       "      <td>-3.983101e-02</td>\n",
       "      <td>-2.029559e-02</td>\n",
       "      <td>9.790447</td>\n",
       "      <td>0.006141</td>\n",
       "      <td>0.005546</td>\n",
       "      <td>0.014458</td>\n",
       "    </tr>\n",
       "  </tbody>\n",
       "</table>\n",
       "<p>7920 rows × 8 columns</p>\n",
       "</div>"
      ],
      "text/plain": [
       "        timestamp  accelerometer_x  accelerometer_y  accelerometer_z  \\\n",
       "0     17234846.08         3.138852     1.557610e+06    -1.277423e+06   \n",
       "1     17234846.15         3.138852    -2.194956e-01    -2.147567e-03   \n",
       "2     17234846.15         3.138852    -2.247930e-01     3.140000e-05   \n",
       "3     17234846.15         3.138852    -2.272361e-01    -1.510000e-05   \n",
       "4     17234846.15         3.138852    -5.401890e-01     1.589932e-01   \n",
       "...           ...              ...              ...              ...   \n",
       "7915  17235150.01         1.558921     2.158444e-02    -1.291774e-01   \n",
       "7916  17235150.01         1.559230     5.739890e-04    -4.969786e-02   \n",
       "7917  17235150.01         1.559230     5.739890e-04    -4.969786e-02   \n",
       "7918  17235150.03         1.559530    -3.983101e-02    -2.029559e-02   \n",
       "7919  17235150.03         1.559530    -3.983101e-02    -2.029559e-02   \n",
       "\n",
       "       gyroscope_x  gyroscope_y  gyroscope_z   compass  \n",
       "0     42327.644530     0.009200    -0.001870  0.004808  \n",
       "1         9.797777     0.001122    -0.003023  0.002080  \n",
       "2         9.814496     0.006288     0.001726 -0.004286  \n",
       "3         9.926997     0.002527    -0.001481  0.003466  \n",
       "4         9.600149     0.002700    -0.001089 -0.008307  \n",
       "...            ...          ...          ...       ...  \n",
       "7915      9.748857    -0.003951    -0.004420  0.010777  \n",
       "7916      9.863008    -0.000793    -0.000975  0.008724  \n",
       "7917      9.863008    -0.000793    -0.000975  0.008724  \n",
       "7918      9.790447     0.006141     0.005546  0.014458  \n",
       "7919      9.790447     0.006141     0.005546  0.014458  \n",
       "\n",
       "[7920 rows x 8 columns]"
      ]
     },
     "execution_count": 40,
     "metadata": {},
     "output_type": "execute_result"
    }
   ],
   "source": [
    "data4 = \"tabelas_ajustadas/4_imu.csv\"\n",
    "data4 = pd.read_csv(data4, sep=',')\n",
    "data4"
   ]
  },
  {
   "cell_type": "code",
   "execution_count": 41,
   "id": "977f7953",
   "metadata": {},
   "outputs": [],
   "source": [
    "imu_time = data4['timestamp']\n",
    "acceleration = data4['accelerometer_x'] # m/s^2\n",
    "\n",
    "#pitch = data4['gyroscope_y'] # rad/s\n",
    "yawrate = data4['gyroscope_z'] # rad/s\n",
    "#roll = data4['gyroscope_x'] # rad/s\n",
    "\n",
    "zenith = data4['compass'] # rad\n",
    "\n",
    "# (pitch, yaw, roll) = (Y-rotation,Z-rotation,X-rotation)"
   ]
  },
  {
   "cell_type": "markdown",
   "id": "43dd3e14",
   "metadata": {},
   "source": [
    "## Heading a partir do Yawrate"
   ]
  },
  {
   "cell_type": "code",
   "execution_count": 42,
   "id": "4d29d3a1",
   "metadata": {},
   "outputs": [
    {
     "name": "stdout",
     "output_type": "stream",
     "text": [
      "DescribeResult(nobs=7920, minmax=(1.537698765072e-311, 0.10927681599999994), mean=0.004947960701010102, variance=2.6133715804985288e-05, skewness=4.929594519812832, kurtosis=51.51041845880268)\n"
     ]
    }
   ],
   "source": [
    "course = np.array([yawrate[0] * dt])\n",
    "n = yawrate.shape[0] - 1\n",
    "for step in range(n):\n",
    "    course = np.append(course, (course[step] + yawrate[step+1] * dt + np.pi) % (2.0*np.pi) - np.pi)\n",
    "\n",
    "# Análise    \n",
    "lim = course.shape[0] - 1\n",
    "l1 = np.empty_like(course)\n",
    "for i in range(1,lim):\n",
    "    l1[i-1] = course[i]-course[i-1]\n",
    "\n",
    "l1 = np.absolute(l1)\n",
    "print(stats.describe(l1))"
   ]
  },
  {
   "cell_type": "markdown",
   "id": "ffd07aec",
   "metadata": {},
   "source": [
    "# Conversão de coordenadas (UTM)"
   ]
  },
  {
   "cell_type": "code",
   "execution_count": 43,
   "id": "95db4905",
   "metadata": {},
   "outputs": [
    {
     "name": "stdout",
     "output_type": "stream",
     "text": [
      "DescribeResult(nobs=7920, minmax=(0.0, 5.324248735806829), mean=1.675211031763029, variance=0.6607193683396446, skewness=0.4768882884332104, kurtosis=-0.02338532133474258)\n"
     ]
    }
   ],
   "source": [
    "RadiusEarth = 6378388.0 # m\n",
    "arc= 2.0*np.pi*(RadiusEarth+altitude)/360.0 # m/°\n",
    "arcGT= 2.0*np.pi*(RadiusEarth+altitudeGT)/360.0 # m/°\n",
    "\n",
    "# Projeção cilíndrica equidistante\n",
    "# x = r * cos(latitude)*(longitude_{K} - longitude_{K-1})\n",
    "# y = r * (latitude_{K} - latitude_{K-1})\n",
    "dx = arc * np.cos(latitude*np.pi/180.0) * np.hstack((0.0, np.diff(longitude))) # metros\n",
    "dy = arc * np.hstack((0.0, np.diff(latitude))) # metros\n",
    "\n",
    "dxGT = arcGT * np.cos(latitudeGT*np.pi/180.0) * np.hstack((0.0, np.diff(longitudeGT))) # metros\n",
    "dyGT = arcGT * np.hstack((0.0, np.diff(latitudeGT))) # metros\n",
    "\n",
    "mx = np.cumsum(dx)\n",
    "my = np.cumsum(dy)\n",
    "mxGT = np.cumsum(dxGT)\n",
    "myGT = np.cumsum(dyGT)\n",
    "\n",
    "GNSS = (imu_time >= gnss_time).astype('bool')\n",
    "\n",
    "# Distância Euclidiana\n",
    "d = np.sqrt((mx - mxGT)**2 + (my - myGT)**2 )\n",
    "# Análise    \n",
    "lim = d.shape[0] - 1\n",
    "l2 = np.empty_like(d)\n",
    "for i in range(1,lim):\n",
    "    l2[i-1] = d[i]-d[i-1]\n",
    "\n",
    "l2 = np.absolute(d)\n",
    "print(stats.describe(l2))"
   ]
  },
  {
   "cell_type": "code",
   "execution_count": 44,
   "id": "4dad1349",
   "metadata": {},
   "outputs": [],
   "source": [
    "measurements = np.vstack((mx, my))\n",
    "# Lenth of the measurement\n",
    "m = measurements.shape[1]"
   ]
  },
  {
   "cell_type": "code",
   "execution_count": 45,
   "id": "f678065d",
   "metadata": {},
   "outputs": [],
   "source": [
    "# Para plotagem\n",
    "x0     = []\n",
    "x1     = []\n",
    "x2     = []\n",
    "x3     = []\n",
    "x4     = []\n",
    "Zx     = []\n",
    "Zy     = []\n",
    "Px     = []\n",
    "Py     = []\n",
    "Ppsi   = []\n",
    "Pv     = []\n",
    "Pdpsi  = []\n",
    "Kx     = []\n",
    "Ky     = []\n",
    "Kpsi   = []\n",
    "Kv     = []\n",
    "Kdpsi  = [] \n",
    "dstate = []\n",
    "# Para plotagem da distância euclidiana\n",
    "x0p    = [0]\n",
    "x1p    = [0]\n",
    "mxp    = [0]\n",
    "myp    = [0]\n",
    "mxGTp  = [0]\n",
    "myGTp  = [0]\n",
    "innov_x= []\n",
    "innov_y= []"
   ]
  },
  {
   "cell_type": "markdown",
   "id": "32f8508f",
   "metadata": {},
   "source": [
    "# Implementação do EKF em Python"
   ]
  },
  {
   "cell_type": "code",
   "execution_count": 46,
   "id": "e04cdbb7",
   "metadata": {},
   "outputs": [],
   "source": [
    "class EKF():\n",
    "    def __init__(self, dt):\n",
    "        self.dt = dt\n",
    "        self.biacx = 11.0\n",
    "        self.bipsi = 4.5\n",
    "\n",
    "        self.x = None\n",
    "        self.F = None\n",
    "        self.u = None\n",
    "        self.G = None\n",
    "        \n",
    "        self.Q = None\n",
    "        self.M = None\n",
    "        self.P = None\n",
    "\n",
    "        self.h = None\n",
    "        self.z = None\n",
    "        self.y = None\n",
    "        self.H = None\n",
    "        self.R = None\n",
    "        self.K = None\n",
    "        self.I = np.eye(6)\n",
    "        \n",
    "        # Suposições sobre a dinâmica do sistema\n",
    "        self.noise_pxy = 0.5*2.0*self.dt**2\n",
    "        self.noise_tht = 0.01*self.dt\n",
    "        self.noise_vel = 4.0*self.dt\n",
    "        # Correções de bias\n",
    "        self.noise_bacx = 0.00001*self.dt\n",
    "        self.noise_bpsi = 0.00003*self.dt\n",
    "        # Desvios padrões dos sinais de controle\n",
    "        self.noise_psi = 7.5*self.dt\n",
    "        self.noise_acx = 8.0*self.dt\n",
    "        # Desvios padrões das medições\n",
    "        self.noise_gps = 3.0*0.7430356019596824\n",
    "    \n",
    "    def init_dynamic_system(self, psx, psy, tht, vel, acx, psi, bacx, bpsi):\n",
    "        self.x = np.matrix([[psx, psy, tht, vel, bacx, bpsi]]).T # init_state\n",
    "        self.u = np.matrix([[acx, psi]]).T # init_control\n",
    "        \n",
    "    def set_matrices(self, tht, vel):\n",
    "        f13 = float(-vel*np.sin(tht)*self.dt)\n",
    "        f14 = float(np.cos(tht)*self.dt)\n",
    "        f23 = float( vel*np.cos(tht)*self.dt)\n",
    "        f24 = float(np.sin(tht)*self.dt)\n",
    "        \n",
    "        f36 = float(-self.dt)\n",
    "        f45 = float(-self.dt)\n",
    "        f55 = float(1-(self.dt/self.biacx)) \n",
    "        f66 = float(1-(self.dt/self.bipsi)) \n",
    "        \n",
    "        self.F = np.matrix([[1.0, 0.0, f13, f14, 0.0, 0.0],\n",
    "                            [0.0, 1.0, f23, f24, 0.0, 0.0],\n",
    "                            [0.0, 0.0, 1.0, 0.0, 0.0, f36],\n",
    "                            [0.0, 0.0, 0.0, 1.0, f45, 0.0],\n",
    "                            [0.0, 0.0, 0.0, 0.0, f55, 0.0],\n",
    "                            [0.0, 0.0, 0.0, 0.0, 0.0, f66]])\n",
    "\n",
    "        g32 = float(self.dt)\n",
    "        g41 = float(self.dt)\n",
    "        self.G = np.matrix([[0.0, 0.0],\n",
    "                            [0.0, 0.0],\n",
    "                            [0.0, g32],\n",
    "                            [g41, 0.0],\n",
    "                            [0.0, 0.0],\n",
    "                            [0.0, 0.0]])\n",
    "        \n",
    "        self.Q = np.diag([(self.noise_pxy-0.5)**2, (self.noise_pxy)**2, self.noise_tht**2, self.noise_vel**2, self.noise_bacx**2, self.noise_bpsi**2])\n",
    "        self.M = np.diag([self.noise_acx**2, self.noise_psi**2])\n",
    "        self.H = np.matrix([[1.0, 0.0, 0.0, 0.0, 0.0, 0.0],\n",
    "                            [0.0, 1.0, 0.0, 0.0, 0.0, 0.0]])\n",
    "        \n",
    "        self.R = np.diag([self.noise_gps**2, self.noise_gps**2])\n",
    "        self.P = np.diag([10.0, 10.0, 10.0, 10.0, 10.0, 10.0])\n",
    "    \n",
    "    def dynamic_system(self):\n",
    "        x1 = self.x[0,0]+self.x[3,0]*np.cos(self.x[2,0])*self.dt\n",
    "        x2 = self.x[1,0]+self.x[3,0]*np.sin(self.x[2,0])*self.dt\n",
    "        x3 = self.x[2,0]+(self.u[1,0]-self.x[5,0])*self.dt\n",
    "        x4 = self.x[3,0]+(self.u[0,0]-self.x[4,0])*self.dt\n",
    "        # variáveis de estados para correção de bias\n",
    "        x5 = self.x[4,0]-(self.x[4,0]/self.biacx)*self.dt\n",
    "        x6 = self.x[5,0]-(self.x[5,0]/self.bipsi)*self.dt\n",
    "\n",
    "        \n",
    "        self.x = np.matrix([[x1, x2, x3, x4, x5, x6]]).T # state ahead\n",
    "        self.u = self.u # control sign ahead\n",
    "        \n",
    "    def predict(self):\n",
    "        f1 = self.x[3,0]*np.cos(self.x[2,0])*self.dt\n",
    "        f2 = self.x[3,0]*np.sin(self.x[2,0])*self.dt\n",
    "        f3 = (self.u[1,0]-self.x[5,0])*self.dt\n",
    "        f4 = (self.u[0,0]-self.x[4,0])*self.dt\n",
    "        # variáveis de estados para correção de bias\n",
    "        f5 = -(self.x[4,0]/self.biacx)*self.dt\n",
    "        f6 = -(self.x[5,0]/self.bipsi)*self.dt\n",
    "\n",
    "        self.x = self.x + np.matrix([[f1, f2, f3, f4, f5, f6]]).T\n",
    "        self.P = ((self.F)*(self.P)*(self.F.T))+((self.G)*(self.M)*(self.G.T))+self.Q\n",
    "        return self.x, self.P\n",
    "    \n",
    "    def residual(self, filterstep):\n",
    "        self.h = np.matrix([[float(self.x[0,0])],\n",
    "                            [float(self.x[1,0])]])\n",
    "        self.z = measurements[:,filterstep].reshape((self.H).shape[0],1)\n",
    "        self.y = self.z-self.h\n",
    "        return self.z, self.y\n",
    "    \n",
    "    def update(self):\n",
    "        S = (self.H)*(self.P)*(self.H).T + self.R\n",
    "        self.k = ((self.P)*(self.H).T)*np.linalg.inv(S)\n",
    "        self.x = self.x + (self.k)*(self.y)\n",
    "        self.P = (self.I - ((self.k)*(self.H)))*self.P\n",
    "        return self.k, self.x, self.P"
   ]
  },
  {
   "cell_type": "code",
   "execution_count": 47,
   "id": "1e07b94a",
   "metadata": {},
   "outputs": [],
   "source": [
    "ekf = EKF(dt)\n",
    "\n",
    "b1 = 0.01 # erro de bias da aceleração inicial\n",
    "b2 = 0.03 # erro de bias do yawrate inicial\n",
    "\n",
    "ekf.init_dynamic_system(mx[0],my[0],course[0],speed[0],acceleration[0],yawrate[0], b1, b2)\n",
    "ekf.set_matrices(course[0],speed[0])\n",
    "for filterstep in range(m):\n",
    "    f,P = ekf.predict()\n",
    "    z,y = ekf.residual(filterstep)\n",
    "    k,f,P = ekf.update()\n",
    "    \n",
    "    \n",
    "    # ===============================\n",
    "    # Save states for Plotting\n",
    "    # ===============================\n",
    "    if GNSS[filterstep]:\n",
    "        x0p.append(float(f[0]))\n",
    "        x1p.append(float(f[1]))\n",
    "        mxp.append(mx[filterstep])\n",
    "        myp.append(my[filterstep])\n",
    "        mxGTp.append(mxGT[filterstep])\n",
    "        myGTp.append(myGT[filterstep])\n",
    "    \n",
    "    x0.append(float(f[0]))\n",
    "    x1.append(float(f[1]))\n",
    "    x2.append(float(f[2]))\n",
    "    Zx.append(float(z[0]))\n",
    "    Zy.append(float(z[1]))\n",
    "    \n",
    "    # Innovation\n",
    "    innov_x.append(y[0,0])\n",
    "    innov_y.append(y[1,0])\n",
    "    \n",
    "    # Covariance\n",
    "    Px.append(float(P[0,0]))\n",
    "    Py.append(float(P[1,1]))\n",
    "    Ppsi.append(float(P[2,2]))\n",
    "    \n",
    "    # Kalman gain\n",
    "    Kx.append(float(k[0,0]))\n",
    "    Ky.append(float(k[1,0]))\n",
    "    Kpsi.append(float(k[2,0]))"
   ]
  },
  {
   "cell_type": "code",
   "execution_count": 48,
   "id": "294a6d8b",
   "metadata": {},
   "outputs": [],
   "source": [
    "# Alocações para plotagem\n",
    "pos_x = np.asarray(x0)\n",
    "pos_y = np.asarray(x1)\n",
    "pos_mx = np.asarray(mx)\n",
    "pos_my = np.asarray(my)\n",
    "pos_mxGT = np.asarray(mxGT)\n",
    "pos_myGT = np.asarray(myGT)\n",
    "# Alocações para plotagem e filtradas pelo timestamp\n",
    "pos_xp = np.asarray(x0p)\n",
    "pos_yp = np.asarray(x1p)\n",
    "pos_mxp = np.asarray(mxp)\n",
    "pos_myp = np.asarray(myp)\n",
    "pos_mxGTp = np.asarray(mxGTp)\n",
    "pos_myGTp = np.asarray(myGTp)"
   ]
  },
  {
   "cell_type": "code",
   "execution_count": 49,
   "id": "b21467b8",
   "metadata": {},
   "outputs": [
    {
     "data": {
      "image/png": "[encoded data removed]",
      "text/latex": [
       "$\\displaystyle \\left( -16.5161747373361, \\  271.328247352365, \\  -252.390914908064, \\  15.4085538773888\\right)$"
      ],
      "text/plain": [
       "(-16.51617473733614, 271.3282473523646, -252.39091490806402, 15.40855387738881\n",
       "5)"
      ]
     },
     "execution_count": 49,
     "metadata": {},
     "output_type": "execute_result"
    },
    {
     "data": {
      "image/png": "[encoded data removed]",
      "text/plain": [
       "<Figure size 1152x648 with 1 Axes>"
      ]
     },
     "metadata": {
      "needs_background": "light"
     },
     "output_type": "display_data"
    }
   ],
   "source": [
    "fig = plt.figure(figsize=(16,9))\n",
    "\n",
    "# EKF State\n",
    "plt.quiver(x0,x1,np.cos(x2), np.sin(x2), color='#94C600', units='xy', width=0.05, scale=0.5)\n",
    "plt.plot(x0,x1, label='Estimativa EKF', c='k', lw=5)\n",
    "\n",
    "# Measurements\n",
    "plt.scatter(mx,my, s=50, label='Medições GNSS', marker='+')\n",
    "\n",
    "# Ground Truth\n",
    "plt.scatter(mxGT,myGT, s=50, label='Percurso Ideal', marker='o')\n",
    "\n",
    "# Start/Goal\n",
    "plt.scatter(x0[0],x1[0], s=60, label='Início', c='g')\n",
    "plt.scatter(x0[-1],x1[-1], s=60, label='Fim', c='r')\n",
    "\n",
    "plt.xlabel('X [m]')\n",
    "plt.ylabel('Y [m]')\n",
    "plt.title('Trajetória')\n",
    "plt.legend(loc='best')\n",
    "plt.axis('equal')"
   ]
  },
  {
   "cell_type": "markdown",
   "id": "0fba50f1",
   "metadata": {},
   "source": [
    "# Análise de Dados"
   ]
  },
  {
   "cell_type": "code",
   "execution_count": 50,
   "id": "1350f764",
   "metadata": {},
   "outputs": [],
   "source": [
    "# Calcular a distância euclidiana entre as estimativas e o ground truth\n",
    "dep = np.sqrt((pos_xp - pos_mxGTp)**2 + (pos_yp - pos_myGTp)**2 )"
   ]
  },
  {
   "cell_type": "code",
   "execution_count": 51,
   "id": "b86ccd1c",
   "metadata": {},
   "outputs": [],
   "source": [
    "# Calcular a distância euclidiana entre as medições e o ground truth\n",
    "dmp = np.sqrt((pos_mxp - pos_mxGTp)**2 + (pos_myp - pos_myGTp)**2 )"
   ]
  },
  {
   "cell_type": "code",
   "execution_count": 52,
   "id": "1f5b2c5a",
   "metadata": {},
   "outputs": [
    {
     "data": {
      "image/png": "[encoded data removed]",
      "text/plain": [
       "<Figure size 1152x648 with 1 Axes>"
      ]
     },
     "metadata": {
      "needs_background": "light"
     },
     "output_type": "display_data"
    }
   ],
   "source": [
    "fig = plt.figure(figsize=(16,9))\n",
    "plt.plot(dmp, label='GNSS')\n",
    "plt.plot(dep, label='EKF')\n",
    "plt.title(\"Distância Euclidiana para o Percurso Ideal\")\n",
    "plt.legend(loc='best')\n",
    "plt.savefig('Comparação Distâncias Euclidianas para o Ground Truth.png', dpi=72, transparent=True, bbox_inches='tight')"
   ]
  },
  {
   "cell_type": "code",
   "execution_count": 53,
   "id": "12a4497f",
   "metadata": {},
   "outputs": [
    {
     "data": {
      "text/plain": [
       "<Figure size 432x288 with 0 Axes>"
      ]
     },
     "execution_count": 53,
     "metadata": {},
     "output_type": "execute_result"
    },
    {
     "data": {
      "image/png": "[encoded data removed]",
      "text/plain": [
       "<Figure size 1152x648 with 1 Axes>"
      ]
     },
     "metadata": {
      "needs_background": "light"
     },
     "output_type": "display_data"
    },
    {
     "data": {
      "text/plain": [
       "<Figure size 432x288 with 0 Axes>"
      ]
     },
     "metadata": {},
     "output_type": "display_data"
    }
   ],
   "source": [
    "# Gráfico com eixos ajustados para análise de dados\n",
    "fig = plt.figure(figsize=(16,9))\n",
    "\n",
    "ax = fig.add_subplot(1, 1, 1)\n",
    "\n",
    "y_major_ticks = np.arange(0, 4.0, 0.2)\n",
    "y_minor_ticks = np.arange(0, 4.0, 0.05)\n",
    "x_major_ticks = np.arange(0, 100, 10)\n",
    "x_minor_ticks = np.arange(0, 100, 1)\n",
    "\n",
    "ax.set_xticks(x_major_ticks)\n",
    "ax.set_xticks(x_minor_ticks, minor=True)\n",
    "ax.set_yticks(y_major_ticks)\n",
    "ax.set_yticks(y_minor_ticks, minor=True)\n",
    "\n",
    "ax.grid(which='minor', alpha=0.2)\n",
    "ax.grid(which='major', alpha=0.5)\n",
    "\n",
    "plt.plot(dmp[0:100], label='GNSS')\n",
    "plt.plot(dep[0:100], label='EKF')\n",
    "plt.title(\"Distância Euclidiana para o Percurso Ideal\")\n",
    "plt.legend(loc='best')\n",
    "plt.figure()"
   ]
  },
  {
   "cell_type": "code",
   "execution_count": 54,
   "id": "c3a0ebe6",
   "metadata": {},
   "outputs": [
    {
     "name": "stdout",
     "output_type": "stream",
     "text": [
      "Medição\n",
      "std_dev = 0.7430356019596824\n",
      "DescribeResult(nobs=100, minmax=(0.0, 3.7780479987677236), mean=1.5612409221691965, variance=0.5521019057795876, skewness=0.3684407474811461, kurtosis=-0.03651044666903358)\n",
      "\n",
      "Estimação\n",
      "std_dev = 0.4893925729580533\n",
      "DescribeResult(nobs=100, minmax=(0.0, 2.3776691585112086), mean=0.9705285367695521, variance=0.2395050904665035, skewness=0.5134360180714816, kurtosis=0.009380400641059605)\n"
     ]
    }
   ],
   "source": [
    "# Estatísticas\n",
    "\n",
    "## Devio Padrão\n",
    "std_GPS = stats.tstd(dmp[0:100])\n",
    "std_EKF = stats.tstd(dep[0:100])\n",
    "\n",
    "# Média, Variância, Erro máximo e Erro mínimo\n",
    "print(\"Medição\")\n",
    "print(\"std_dev =\",std_GPS)\n",
    "#print(stats.describe(dm))\n",
    "print(stats.describe(dmp[0:100]))\n",
    "print()\n",
    "print(\"Estimação\")\n",
    "print(\"std_dev =\",std_EKF)\n",
    "#print(stats.describe(de))\n",
    "print(stats.describe(dep[0:100]))"
   ]
  }
 ],
 "metadata": {
  "kernelspec": {
   "display_name": "Python 3 (ipykernel)",
   "language": "python",
   "name": "python3"
  },
  "language_info": {
   "codemirror_mode": {
    "name": "ipython",
    "version": 3
   },
   "file_extension": ".py",
   "mimetype": "text/x-python",
   "name": "python",
   "nbconvert_exporter": "python",
   "pygments_lexer": "ipython3",
   "version": "3.7.0"
  }
 },
 "nbformat": 4,
 "nbformat_minor": 5
}
